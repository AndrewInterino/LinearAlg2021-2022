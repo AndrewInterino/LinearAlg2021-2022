{
  "nbformat": 4,
  "nbformat_minor": 0,
  "metadata": {
    "colab": {
      "name": "LinAlg Lab2-checkpoint.ipynb",
      "provenance": [],
      "authorship_tag": "ABX9TyNzLuQVSpBsWShGzzj3cqM7",
      "include_colab_link": true
    },
    "kernelspec": {
      "name": "python3",
      "display_name": "Python 3"
    },
    "language_info": {
      "name": "python"
    }
  },
  "cells": [
    {
      "cell_type": "markdown",
      "metadata": {
        "id": "view-in-github",
        "colab_type": "text"
      },
      "source": [
        "<a href=\"https://colab.research.google.com/github/AndrewInterino/LinearAlg2021-2022/blob/main/LinAlg_Lab2_checkpoint.ipynb\" target=\"_parent\"><img src=\"https://colab.research.google.com/assets/colab-badge.svg\" alt=\"Open In Colab\"/></a>"
      ]
    },
    {
      "cell_type": "markdown",
      "metadata": {
        "id": "SNwXOJtiOxTm"
      },
      "source": [
        "#Lab 2 - Plotting "
      ]
    },
    {
      "cell_type": "markdown",
      "metadata": {
        "id": "Ifd_vL-aO_ut"
      },
      "source": [
        "##Discussion "
      ]
    },
    {
      "cell_type": "markdown",
      "metadata": {
        "id": "xGPnSfbQPEv9"
      },
      "source": [
        "### NumPy\n",
        "\n",
        "NumPy or Numerical Python, is mainly used for matrix and vector operations. It is capable of declaring computing and representing matrices.\n",
        "Most Python scientific programming libraries uses Numpy as the basic code."
      ]
    },
    {
      "cell_type": "markdown",
      "metadata": {
        "id": "llMUXDSWPcgl"
      },
      "source": [
        "### Representing Vectors \n",
        "\n",
        "Now that you know how to represent vectors using their component and matrix form we can now hard-code them in Python. Let's say that you\n",
        "have the vectors:\n"
      ]
    },
    {
      "cell_type": "markdown",
      "metadata": {
        "id": "2NZjkkJEPoL9"
      },
      "source": [
        "$$ A = 4\\hat{x} + 3\\hat{y} \\\\\n",
        "B = 2\\hat{x} - 5\\hat{y}$$"
      ]
    },
    {
      "cell_type": "markdown",
      "metadata": {
        "id": "cVh_89LBPsJ_"
      },
      "source": [
        "In which it's matrix equivalent is:"
      ]
    },
    {
      "cell_type": "markdown",
      "metadata": {
        "id": "dfo5nsY-PxMk"
      },
      "source": [
        "$$ A = \\begin{bmatrix} 4 \\\\ 3\\end{bmatrix} , B = \\begin{bmatrix} 2 \\\\ -5\\end{bmatrix} , C = \\begin{bmatrix} 4 \\\\ 3\\ \\\\ -2\\end{bmatrix} , D = \\begin{bmatrix} 2 \\\\ -2\\\\ 5\\end{bmatrix}\n",
        "$$\n",
        "$$ A = \\begin{bmatrix} 4 & 3\\end{bmatrix} , B = \\begin{bmatrix} 2 & -5\\end{bmatrix} , C = \\begin{bmatrix} 4 & 3\\ & -2\\end{bmatrix} , D = \\begin{bmatrix} 2 & -2 & 3\\end{bmatrix}\n",
        "$$"
      ]
    },
    {
      "cell_type": "markdown",
      "metadata": {
        "id": "QmSFCNi9QJX0"
      },
      "source": [
        "We can the start doing numpy code with this by:"
      ]
    },
    {
      "cell_type": "code",
      "metadata": {
        "id": "YJDBJ6I1R6jt"
      },
      "source": [
        "import numpy as np ## 'np' here is short-hand name of the library (numpy) or a nickname."
      ],
      "execution_count": 2,
      "outputs": []
    },
    {
      "cell_type": "code",
      "metadata": {
        "colab": {
          "base_uri": "https://localhost:8080/"
        },
        "id": "XYaJ0j5tSC_V",
        "outputId": "a2b8f9b5-1840-4b24-f675-893f913367c7"
      },
      "source": [
        "A = np.array([4,3])\n",
        "B = np.array([2,-5])\n",
        "C = np.array([\n",
        "              [4],\n",
        "              [3],\n",
        "              [-2]\n",
        "])\n",
        "D = np.array([\n",
        "              [2],\n",
        "              [-2],\n",
        "              [3]\n",
        "])\n",
        "print(A)\n",
        "print(B)\n",
        "print(C)\n",
        "print(D)"
      ],
      "execution_count": 14,
      "outputs": [
        {
          "output_type": "stream",
          "name": "stdout",
          "text": [
            "[4 3]\n",
            "[ 2 -5]\n",
            "[[ 4]\n",
            " [ 3]\n",
            " [-2]]\n",
            "[[ 2]\n",
            " [-2]\n",
            " [ 3]]\n"
          ]
        }
      ]
    },
    {
      "cell_type": "markdown",
      "metadata": {
        "id": "IKZwx-B8TcYd"
      },
      "source": [
        "## Describing vectors in NumPy\n",
        "\n",
        "Describing vectors is very important if we want to perform basic to advanced operations with them. The fundamental ways in describing\n",
        "vectors are knowing their shape, size and dimensions.\n",
        "\n",
        "\n"
      ]
    },
    {
      "cell_type": "code",
      "metadata": {
        "colab": {
          "base_uri": "https://localhost:8080/"
        },
        "id": "1cF3GbGVTlIr",
        "outputId": "339a1299-c5a9-468f-ed24-4292e9832093"
      },
      "source": [
        "A.shape\n",
        "H = np.array([1,0,2,5,0.2,0])\n",
        "H.shape"
      ],
      "execution_count": 7,
      "outputs": [
        {
          "output_type": "execute_result",
          "data": {
            "text/plain": [
              "(6,)"
            ]
          },
          "metadata": {},
          "execution_count": 7
        }
      ]
    },
    {
      "cell_type": "code",
      "metadata": {
        "colab": {
          "base_uri": "https://localhost:8080/"
        },
        "id": "vXDRu7FsT-OT",
        "outputId": "966f65bf-f288-4fde-bfca-c8cef749d623"
      },
      "source": [
        "B.size"
      ],
      "execution_count": 8,
      "outputs": [
        {
          "output_type": "execute_result",
          "data": {
            "text/plain": [
              "2"
            ]
          },
          "metadata": {},
          "execution_count": 8
        }
      ]
    },
    {
      "cell_type": "code",
      "metadata": {
        "colab": {
          "base_uri": "https://localhost:8080/"
        },
        "id": "wAc8NwQhUO71",
        "outputId": "7c3a9365-dec1-4fcf-a631-501574a134e8"
      },
      "source": [
        "C.ndim"
      ],
      "execution_count": 11,
      "outputs": [
        {
          "output_type": "execute_result",
          "data": {
            "text/plain": [
              "2"
            ]
          },
          "metadata": {},
          "execution_count": 11
        }
      ]
    },
    {
      "cell_type": "markdown",
      "metadata": {
        "id": "ii4DTiMmUrbd"
      },
      "source": [
        "##Addition\n"
      ]
    },
    {
      "cell_type": "code",
      "metadata": {
        "colab": {
          "base_uri": "https://localhost:8080/"
        },
        "id": "uat8Xv9QUudl",
        "outputId": "b6734355-80fc-495b-c0d4-20f7bfada2b7"
      },
      "source": [
        "R = np.add(A,B)\n",
        "P = np.add(C,D)\n",
        "R\n",
        "P"
      ],
      "execution_count": 18,
      "outputs": [
        {
          "output_type": "execute_result",
          "data": {
            "text/plain": [
              "array([[6],\n",
              "       [1],\n",
              "       [1]])"
            ]
          },
          "metadata": {},
          "execution_count": 18
        }
      ]
    },
    {
      "cell_type": "code",
      "metadata": {
        "colab": {
          "base_uri": "https://localhost:8080/"
        },
        "id": "05ZQCbP7V7tO",
        "outputId": "deb70735-ee6f-488b-c19e-35595da75270"
      },
      "source": [
        "R = A + B\n",
        "R"
      ],
      "execution_count": 23,
      "outputs": [
        {
          "output_type": "execute_result",
          "data": {
            "text/plain": [
              "array([ 6, -2])"
            ]
          },
          "metadata": {},
          "execution_count": 23
        }
      ]
    },
    {
      "cell_type": "code",
      "metadata": {
        "colab": {
          "base_uri": "https://localhost:8080/"
        },
        "id": "SA7ZqmzcWBRc",
        "outputId": "3671a6d0-77b7-485a-97ad-7ff95662c547"
      },
      "source": [
        "pos1 = np.array([0,0,0])\n",
        "pos2 = np.array([0,1,3])\n",
        "pos3 = np.array([1,5,-2])\n",
        "pos4 = np.array([5,-3,3])\n",
        "#R = pos1 + pos2 + pos3 + pos4\n",
        "#R = np.multiply(pos3,pos4)\n",
        "R = pos3/pos4\n",
        "R"
      ],
      "execution_count": 28,
      "outputs": [
        {
          "output_type": "execute_result",
          "data": {
            "text/plain": [
              "array([ 0.2       , -1.66666667, -0.66666667])"
            ]
          },
          "metadata": {},
          "execution_count": 28
        }
      ]
    },
    {
      "cell_type": "markdown",
      "metadata": {
        "id": "w2vFEANOW5xF"
      },
      "source": [
        "###Try for yourself"
      ]
    },
    {
      "cell_type": "code",
      "metadata": {
        "id": "7-qvYcIFW8jM"
      },
      "source": [
        "### Try"
      ],
      "execution_count": null,
      "outputs": []
    },
    {
      "cell_type": "markdown",
      "metadata": {
        "id": "et0It3n_XI73"
      },
      "source": [
        "##Scaling"
      ]
    },
    {
      "cell_type": "code",
      "metadata": {
        "colab": {
          "base_uri": "https://localhost:8080/"
        },
        "id": "NyzEcI3_XR2k",
        "outputId": "22d18b09-bed8-49bf-92e8-2ffb6aa8ba83"
      },
      "source": [
        "#S = 5 *A\n",
        "S = np.multiply(5,A)\n",
        "S"
      ],
      "execution_count": 30,
      "outputs": [
        {
          "output_type": "execute_result",
          "data": {
            "text/plain": [
              "array([20, 15])"
            ]
          },
          "metadata": {},
          "execution_count": 30
        }
      ]
    },
    {
      "cell_type": "markdown",
      "metadata": {
        "id": "ciizeVoRXeq0"
      },
      "source": [
        "### Try to implement scaling with two vectors"
      ]
    },
    {
      "cell_type": "code",
      "metadata": {
        "id": "i_OsJr0KXlMF"
      },
      "source": [
        ""
      ],
      "execution_count": null,
      "outputs": []
    },
    {
      "cell_type": "markdown",
      "metadata": {
        "id": "m_qqlzSRXlhs"
      },
      "source": [
        "## MatPLotLib"
      ]
    },
    {
      "cell_type": "markdown",
      "metadata": {
        "id": "pxJZ8S1bXyEM"
      },
      "source": [
        "MatPlotLib or MATLab Plotting library is Python's take on MATLabs plotting feature. MatPlotLib can be used vastly from graping values to\n",
        "visualizing several dimensions of data.\n"
      ]
    },
    {
      "cell_type": "markdown",
      "metadata": {
        "id": "cUDrOh85X7zt"
      },
      "source": [
        "### Visualizing Data"
      ]
    },
    {
      "cell_type": "code",
      "metadata": {
        "id": "i9_wbUbkYLMs"
      },
      "source": [
        "import matplotlib.pyplot as plt\n",
        "import matplotlib\n",
        "%matplotlib inline"
      ],
      "execution_count": 31,
      "outputs": []
    },
    {
      "cell_type": "code",
      "metadata": {
        "colab": {
          "base_uri": "https://localhost:8080/",
          "height": 265
        },
        "id": "fw_O6PB5YMlE",
        "outputId": "07932ff8-3aa2-4a7d-9873-7e42a1e56b6e"
      },
      "source": [
        "A = [1,-1]\n",
        "B = [5,2]\n",
        "#plt.plot(A, label='A')\n",
        "#plt.plot(B ,label='B')\n",
        "plt.scatter(A[0],A[1] ,label='A',c='green')\n",
        "plt.scatter(B[0],B[1] ,label='B',c='red')\n",
        "plt.grid()\n",
        "plt.legend()\n",
        "plt.show()\n"
      ],
      "execution_count": 43,
      "outputs": [
        {
          "output_type": "display_data",
          "data": {
            "image/png": "[encoded data removed]",
            "text/plain": [
              "<Figure size 432x288 with 1 Axes>"
            ]
          },
          "metadata": {
            "needs_background": "light"
          }
        }
      ]
    },
    {
      "cell_type": "code",
      "metadata": {
        "colab": {
          "base_uri": "https://localhost:8080/",
          "height": 347
        },
        "id": "z9WrV8fsabZb",
        "outputId": "1b8b2675-2514-4c37-b5d7-ec2ff2b64b25"
      },
      "source": [
        "A = np.array([1,-1])\n",
        "B = np.array([1,5])\n",
        "plt.title(\"Resultant Vector\\nMagnitude:{}\".format(Magnitude))\n",
        "plt.xlim(-5,5)\n",
        "plt.ylim(-5,5)\n",
        "plt.quiver(0,0,A[0],A[1],angles='xy',scale_units='xy',scale=1,color='red')\n",
        "plt.quiver(A[0],A[1],B[0],B[1],angles='xy',scale_units='xy',scale=1,color='green')\n",
        "R = A + B\n",
        "plt.quiver(0,0,R[0],R[1],angles='xy',scale_units='xy',scale=1,color='blue')\n",
        "plt.grid()\n",
        "plt.show()\n",
        "Magnitude = np.sqrt(np.sum(R**2))\n",
        "print(Magnitude)\n",
        "Slope = R[1]/R[0]\n",
        "print(Slope)\n",
        "Angle = (np.arctan(Slope))*(180/np.pi)\n",
        "print(Angle)"
      ],
      "execution_count": 65,
      "outputs": [
        {
          "output_type": "display_data",
          "data": {
            "image/png": "[encoded data removed]",
            "text/plain": [
              "<Figure size 432x288 with 1 Axes>"
            ]
          },
          "metadata": {
            "needs_background": "light"
          }
        },
        {
          "output_type": "stream",
          "name": "stdout",
          "text": [
            "4.47213595499958\n",
            "2.0\n",
            "63.43494882292201\n"
          ]
        }
      ]
    },
    {
      "cell_type": "markdown",
      "metadata": {
        "id": "aFnlZOH_gDhz"
      },
      "source": [
        "activity put it in a statement"
      ]
    },
    {
      "cell_type": "markdown",
      "metadata": {
        "id": "NRPY3ZbyhOFV"
      },
      "source": [
        "###Try plotting Three Vectors and show the Resultant Vector as a result. Use Head to Tail Method.\n"
      ]
    },
    {
      "cell_type": "code",
      "metadata": {
        "id": "Jymb-Lfohgvh"
      },
      "source": [
        ""
      ],
      "execution_count": null,
      "outputs": []
    }
  ]
}