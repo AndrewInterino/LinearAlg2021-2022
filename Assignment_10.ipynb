{
  "nbformat": 4,
  "nbformat_minor": 0,
  "metadata": {
    "colab": {
      "name": "Assignment 10.ipynb",
      "provenance": [],
      "authorship_tag": "ABX9TyMzWhuqojGEFNkufyLQsLK4",
      "include_colab_link": true
    },
    "kernelspec": {
      "name": "python3",
      "display_name": "Python 3"
    },
    "language_info": {
      "name": "python"
    }
  },
  "cells": [
    {
      "cell_type": "markdown",
      "metadata": {
        "id": "view-in-github",
        "colab_type": "text"
      },
      "source": [
        "<a href=\"https://colab.research.google.com/github/AndrewInterino/LinearAlg2021-2022/blob/main/Assignment_10.ipynb\" target=\"_parent\"><img src=\"https://colab.research.google.com/assets/colab-badge.svg\" alt=\"Open In Colab\"/></a>"
      ]
    },
    {
      "cell_type": "markdown",
      "metadata": {
        "id": "Nvrc3PIeTAVl"
      },
      "source": [
        "# Laboratory 10 : Linear Combination and Vector Spaces "
      ]
    },
    {
      "cell_type": "markdown",
      "metadata": {
        "id": "xOue8wCCTIhM"
      },
      "source": [
        "#Discussion "
      ]
    },
    {
      "cell_type": "code",
      "metadata": {
        "id": "DLpF1QECTXJz"
      },
      "source": [
        "import numpy as np\n",
        "import matplotlib.pyplot as plt\n",
        "%matplotlib inline"
      ],
      "execution_count": 1,
      "outputs": []
    },
    {
      "cell_type": "markdown",
      "metadata": {
        "id": "5KDtcPLETYvT"
      },
      "source": [
        "## Linear Combination "
      ]
    },
    {
      "cell_type": "markdown",
      "metadata": {
        "id": "7wetmp87UIY1"
      },
      "source": [
        "It is said that a linear combination is the combination of linear scaling and addition of a vector its bases/components\n",
        "\n",
        "We will try to visualize the vectors and their linear combinations by plotting a sample of real number values for the scalars for the vectors. Let's first try the vectors below:"
      ]
    },
    {
      "cell_type": "markdown",
      "metadata": {
        "id": "dexAdDSgTwG0"
      },
      "source": [
        "$$X = \\begin{bmatrix} 2\\\\5 \\\\\\end{bmatrix} , Y = \\begin{bmatrix} 7\\\\9 \\\\\\end{bmatrix} $$"
      ]
    },
    {
      "cell_type": "code",
      "metadata": {
        "colab": {
          "base_uri": "https://localhost:8080/"
        },
        "id": "OakAVuQiTyHE",
        "outputId": "30a5be56-8110-494f-f876-f5618c8b6892"
      },
      "source": [
        "vectX = np.array([2,5])\n",
        "vectY = np.array([7,9])\n",
        "vectY"
      ],
      "execution_count": 3,
      "outputs": [
        {
          "output_type": "execute_result",
          "data": {
            "text/plain": [
              "array([7, 9])"
            ]
          },
          "metadata": {},
          "execution_count": 3
        }
      ]
    },
    {
      "cell_type": "markdown",
      "metadata": {
        "id": "KmRO-MaRUOSU"
      },
      "source": [
        "### Span of Single vectors"
      ]
    },
    {
      "cell_type": "markdown",
      "metadata": {
        "id": "OfUr9TxvUVVk"
      },
      "source": [
        "$$X = c\\cdot \\begin{bmatrix} 2\\\\5 \\\\\\end{bmatrix} $$"
      ]
    },
    {
      "cell_type": "code",
      "metadata": {
        "colab": {
          "base_uri": "https://localhost:8080/",
          "height": 269
        },
        "id": "4f93bbEiUb5L",
        "outputId": "f897ca98-96c7-4cf4-bb25-2f491ca80976"
      },
      "source": [
        "c = np.arange(-10,10,0.125)\n",
        "plt.scatter(c*vectX[0],c*vectX[1])\n",
        "\n",
        "plt.xlim(-10,10)\n",
        "plt.ylim(-10,10)\n",
        "plt.axhline(y=0,color='k')\n",
        "plt.axvline(x=0,color='k')\n",
        "plt.grid()\n",
        "plt.show()"
      ],
      "execution_count": 7,
      "outputs": [
        {
          "output_type": "display_data",
          "data": {
            "image/png": "[encoded data removed]",
            "text/plain": [
              "<Figure size 432x288 with 1 Axes>"
            ]
          },
          "metadata": {
            "needs_background": "light"
          }
        }
      ]
    },
    {
      "cell_type": "code",
      "metadata": {
        "colab": {
          "base_uri": "https://localhost:8080/",
          "height": 269
        },
        "id": "8I34ZSnAW0Lt",
        "outputId": "6482cc25-e5ea-4d50-b34f-2d098370374d"
      },
      "source": [
        "c = np.arange(-15,15,0.5)\n",
        "plt.scatter(c*vectX[0],c*vectX[1])\n",
        "\n",
        "plt.xlim(-10,10)\n",
        "plt.ylim(-10,10)\n",
        "plt.axhline(y=0,color='k')\n",
        "plt.axvline(x=0,color='k')\n",
        "plt.grid()\n",
        "plt.show()"
      ],
      "execution_count": 11,
      "outputs": [
        {
          "output_type": "display_data",
          "data": {
            "image/png": "[encoded data removed]",
            "text/plain": [
              "<Figure size 432x288 with 1 Axes>"
            ]
          },
          "metadata": {
            "needs_background": "light"
          }
        }
      ]
    },
    {
      "cell_type": "markdown",
      "metadata": {
        "id": "NNYkCaelWogt"
      },
      "source": [
        "### Span of linear combination of vector"
      ]
    },
    {
      "cell_type": "code",
      "metadata": {
        "colab": {
          "base_uri": "https://localhost:8080/",
          "height": 265
        },
        "id": "IrQKd1__YCyX",
        "outputId": "e4568769-857f-4211-a81e-f784d5518394"
      },
      "source": [
        "vectA = np.array([1,0])\n",
        "vectB = np.array([1,-1])\n",
        "\n",
        "R= np.arange(-10,10,1)\n",
        "\n",
        "c1,c2 = np.meshgrid(R,R)\n",
        "vectR = vectA + vectB\n",
        "spanRx = c1*vectA[0]+c2*vectB[1]\n",
        "spanRy = c1*vectA[1]+c2*vectB[0]\n",
        "plt.scatter(spanRx,spanRy, s=5,alpha=0.75)\n",
        "#plt.scatter(R*vectA[0],R*vectA[1])\n",
        "\n",
        "plt.axhline(y=0,color='k')\n",
        "plt.axvline(x=0,color='k')\n",
        "plt.grid()\n",
        "plt.show()"
      ],
      "execution_count": 20,
      "outputs": [
        {
          "output_type": "display_data",
          "data": {
            "image/png": "[encoded data removed]",
            "text/plain": [
              "<Figure size 432x288 with 1 Axes>"
            ]
          },
          "metadata": {
            "needs_background": "light"
          }
        }
      ]
    },
    {
      "cell_type": "code",
      "metadata": {
        "colab": {
          "base_uri": "https://localhost:8080/",
          "height": 265
        },
        "id": "tzdfwGEsbbuW",
        "outputId": "891b2f5a-f0f9-4620-e66a-1c9d8af330f9"
      },
      "source": [
        "vectP = np.array([2,1])\n",
        "vectQ = np.array([4,3])\n",
        "\n",
        "R= np.arange(-10,10,1)\n",
        "\n",
        "c1,c2 = np.meshgrid(R,R)\n",
        "vectR = vectP + vectQ\n",
        "spanRx = c1*vectP[0]+c2*vectQ[1]\n",
        "spanRy = c1*vectP[1]+c2*vectQ[0]\n",
        "plt.scatter(spanRx,spanRy, s=5,alpha=0.75)\n",
        "#plt.scatter(R*vectA[0],R*vectA[1])\n",
        "\n",
        "plt.axhline(y=0,color='k')\n",
        "plt.axvline(x=0,color='k')\n",
        "plt.grid()\n",
        "plt.show()"
      ],
      "execution_count": 23,
      "outputs": [
        {
          "output_type": "display_data",
          "data": {
            "image/png": "[encoded data removed]",
            "text/plain": [
              "<Figure size 432x288 with 1 Axes>"
            ]
          },
          "metadata": {
            "needs_background": "light"
          }
        }
      ]
    }
  ]
}