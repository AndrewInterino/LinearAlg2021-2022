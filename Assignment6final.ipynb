{
  "nbformat": 4,
  "nbformat_minor": 0,
  "metadata": {
    "colab": {
      "name": "Assignment6.ipynb",
      "provenance": [],
      "authorship_tag": "ABX9TyMoVAXbrhUkt/uPVlyoxD4k",
      "include_colab_link": true
    },
    "kernelspec": {
      "name": "python3",
      "display_name": "Python 3"
    },
    "language_info": {
      "name": "python"
    }
  },
  "cells": [
    {
      "cell_type": "markdown",
      "metadata": {
        "id": "view-in-github",
        "colab_type": "text"
      },
      "source": [
        "<a href=\"https://colab.research.google.com/github/AndrewInterino/LinearAlg2021-2022/blob/main/Assignment6final.ipynb\" target=\"_parent\"><img src=\"https://colab.research.google.com/assets/colab-badge.svg\" alt=\"Open In Colab\"/></a>"
      ]
    },
    {
      "cell_type": "markdown",
      "metadata": {
        "id": "C6XmsB7eEXRA"
      },
      "source": [
        "# ![lab6.png](data:image/png;base64,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)\n"
      ]
    },
    {
      "cell_type": "markdown",
      "metadata": {
        "id": "OjIjys3-Emgs"
      },
      "source": [
        "### Objective\n",
        "At the end of this activity you will be able to :\n",
        "1. Be familiar with the fundamentdal matrix operations\n",
        "2. Apply the operations to solve intermediate equations.\n",
        "3. Apply matrix algebra in engineering solutions."
      ]
    },
    {
      "cell_type": "markdown",
      "metadata": {
        "id": "qFOst3oiFKjN"
      },
      "source": [
        "### Discussion "
      ]
    },
    {
      "cell_type": "code",
      "metadata": {
        "id": "tx_1fwa_FQIU"
      },
      "source": [
        "import numpy as np \n",
        "import matplotlib.pyplot as plt\n",
        "%matplotlib inline"
      ],
      "execution_count": 1,
      "outputs": []
    },
    {
      "cell_type": "markdown",
      "metadata": {
        "id": "vMr0AUhBHH3d"
      },
      "source": [
        "## Transpostion\n",
        "One of the fundamental operations in matrix algebra is Transposition. The transpose of a matrix is done by flipping the values of its elements over its diagonals. With this, the rows and columns from the original matrix will be switched. So for a matrix  A  its transpose is denoted as  AT . So for example:"
      ]
    },
    {
      "cell_type": "markdown",
      "metadata": {
        "id": "S-1qeR2THyNV"
      },
      "source": [
        "$$A = \\begin{bmatrix} 1 & 2 & 5\\\\5 & -1 &0 \\\\ 0 & -3 & 3\\end{bmatrix} $$"
      ]
    },
    {
      "cell_type": "markdown",
      "metadata": {
        "id": "hKgWtOkBH3Q-"
      },
      "source": [
        "$$ A^T = \\begin{bmatrix} 1 & 5 & 0\\\\2 & -1 &-3 \\\\ 5 & 0 & 3\\end{bmatrix}$$"
      ]
    },
    {
      "cell_type": "code",
      "metadata": {
        "colab": {
          "base_uri": "https://localhost:8080/"
        },
        "id": "ni9G1wWWH_7u",
        "outputId": "9fd7966a-537a-48f5-fc6c-48fee93ae3b8"
      },
      "source": [
        "A = np.array([\n",
        "              [1,-2,5],\n",
        "              [5,-1,0],\n",
        "              [0,-3,3]\n",
        "])\n",
        "A"
      ],
      "execution_count": null,
      "outputs": [
        {
          "output_type": "execute_result",
          "data": {
            "text/plain": [
              "array([[ 1, -2,  5],\n",
              "       [ 5, -1,  0],\n",
              "       [ 0, -3,  3]])"
            ]
          },
          "metadata": {},
          "execution_count": 5
        }
      ]
    },
    {
      "cell_type": "code",
      "metadata": {
        "colab": {
          "base_uri": "https://localhost:8080/"
        },
        "id": "Sp9zKQ3mIP-v",
        "outputId": "1f70e729-29c1-432e-b707-c1542b6bed0e"
      },
      "source": [
        "AT1 = np.transpose(A)\n",
        "AT1"
      ],
      "execution_count": null,
      "outputs": [
        {
          "output_type": "execute_result",
          "data": {
            "text/plain": [
              "array([[ 1,  5,  0],\n",
              "       [-2, -1, -3],\n",
              "       [ 5,  0,  3]])"
            ]
          },
          "metadata": {},
          "execution_count": 4
        }
      ]
    },
    {
      "cell_type": "code",
      "metadata": {
        "colab": {
          "base_uri": "https://localhost:8080/"
        },
        "id": "gFWL3HVlIal1",
        "outputId": "6d830b36-8692-4311-908f-434986a04cb2"
      },
      "source": [
        "AT2= A.T\n",
        "AT2"
      ],
      "execution_count": null,
      "outputs": [
        {
          "output_type": "execute_result",
          "data": {
            "text/plain": [
              "array([[ 1,  5,  0],\n",
              "       [-2, -1, -3],\n",
              "       [ 5,  0,  3]])"
            ]
          },
          "metadata": {},
          "execution_count": 6
        }
      ]
    },
    {
      "cell_type": "code",
      "metadata": {
        "colab": {
          "base_uri": "https://localhost:8080/"
        },
        "id": "Vc8n8GuYIhkl",
        "outputId": "99038667-05f9-460e-af9e-ba9033ff8c0d"
      },
      "source": [
        "np.array_equiv(AT1, AT2)"
      ],
      "execution_count": null,
      "outputs": [
        {
          "output_type": "execute_result",
          "data": {
            "text/plain": [
              "True"
            ]
          },
          "metadata": {},
          "execution_count": 7
        }
      ]
    },
    {
      "cell_type": "code",
      "metadata": {
        "colab": {
          "base_uri": "https://localhost:8080/"
        },
        "id": "-cCvSVRVIzi2",
        "outputId": "4919f5f1-0644-4558-a673-cf515dfb59cd"
      },
      "source": [
        "B = np.array([\n",
        "              [1,2,3,4],\n",
        "              [1,0,2,1]\n",
        "])\n",
        "B.shape"
      ],
      "execution_count": null,
      "outputs": [
        {
          "output_type": "execute_result",
          "data": {
            "text/plain": [
              "(2, 4)"
            ]
          },
          "metadata": {},
          "execution_count": 8
        }
      ]
    },
    {
      "cell_type": "code",
      "metadata": {
        "colab": {
          "base_uri": "https://localhost:8080/"
        },
        "id": "4UzCPJe8LHe0",
        "outputId": "b0bf8e6c-41ed-4b85-a676-9dfde3afd16d"
      },
      "source": [
        "np.transpose(B).shape"
      ],
      "execution_count": null,
      "outputs": [
        {
          "output_type": "execute_result",
          "data": {
            "text/plain": [
              "(4, 2)"
            ]
          },
          "metadata": {},
          "execution_count": 9
        }
      ]
    },
    {
      "cell_type": "code",
      "metadata": {
        "colab": {
          "base_uri": "https://localhost:8080/"
        },
        "id": "EYgBDnpSKwIO",
        "outputId": "3d5263a5-ab29-4adb-e8e7-60aa8d6213ec"
      },
      "source": [
        "B.T.shape"
      ],
      "execution_count": null,
      "outputs": [
        {
          "output_type": "execute_result",
          "data": {
            "text/plain": [
              "(4, 2)"
            ]
          },
          "metadata": {},
          "execution_count": 10
        }
      ]
    },
    {
      "cell_type": "markdown",
      "metadata": {
        "id": "H9fHbM4xLOar"
      },
      "source": [
        "### Try to create your own matrix"
      ]
    },
    {
      "cell_type": "code",
      "metadata": {
        "id": "T0tkUm7ILYlF"
      },
      "source": [
        "UWU = np.array([\n",
        "                [6,-2,1],\n",
        "                [7,9,8],\n",
        "                [-8,5,-1]\n",
        "])"
      ],
      "execution_count": null,
      "outputs": []
    },
    {
      "cell_type": "code",
      "metadata": {
        "colab": {
          "base_uri": "https://localhost:8080/"
        },
        "id": "sR14YE5DLq9F",
        "outputId": "57b846f6-1e29-48e6-87b6-5b1497a31d17"
      },
      "source": [
        "UWU.T\n"
      ],
      "execution_count": null,
      "outputs": [
        {
          "output_type": "execute_result",
          "data": {
            "text/plain": [
              "array([[ 6,  7, -8],\n",
              "       [-2,  2,  5],\n",
              "       [ 1,  8, -1]])"
            ]
          },
          "metadata": {},
          "execution_count": 18
        }
      ]
    },
    {
      "cell_type": "code",
      "metadata": {
        "colab": {
          "base_uri": "https://localhost:8080/"
        },
        "id": "siuoDC_PMAsk",
        "outputId": "4ff7565b-d050-41d9-8446-15238d5a6035"
      },
      "source": [
        "UWU.shape"
      ],
      "execution_count": null,
      "outputs": [
        {
          "output_type": "execute_result",
          "data": {
            "text/plain": [
              "(3, 3)"
            ]
          },
          "metadata": {},
          "execution_count": 19
        }
      ]
    },
    {
      "cell_type": "code",
      "metadata": {
        "colab": {
          "base_uri": "https://localhost:8080/"
        },
        "id": "TPCWFi_yMFtm",
        "outputId": "315ceaed-dd62-443b-8b70-431692414eb4"
      },
      "source": [
        "UWU.T.shape"
      ],
      "execution_count": null,
      "outputs": [
        {
          "output_type": "execute_result",
          "data": {
            "text/plain": [
              "(3, 3)"
            ]
          },
          "metadata": {},
          "execution_count": 20
        }
      ]
    },
    {
      "cell_type": "markdown",
      "metadata": {
        "id": "9UXmVAsqM00d"
      },
      "source": [
        "## Dot Product\n",
        "If you recall the dot product from laboratory activity before, we will try to implement the same operation with matrices. In matrix dot product we are going to get the sum of products of the vectors by row-column pairs. So if we have two matrices $X$ and $Y$:\n",
        "\n",
        "$$X = \\begin{bmatrix}x_{(0,0)}&x_{(0,1)}\\\\ x_{(1,0)}&x_{(1,1)}\\end{bmatrix}, Y = \\begin{bmatrix}y_{(0,0)}&y_{(0,1)}\\\\ y_{(1,0)}&y_{(1,1)}\\end{bmatrix}$$\n",
        "\n",
        "The dot product will then be computed as:\n",
        "$$X \\cdot Y= \\begin{bmatrix} x_{(0,0)}*y_{(0,0)} + x_{(0,1)}*y_{(1,0)} & x_{(0,0)}*y_{(0,1)} + x_{(0,1)}*y_{(1,1)} \\\\  x_{(1,0)}*y_{(0,0)} + x_{(1,1)}*y_{(1,0)} & x_{(1,0)}*y_{(0,1)} + x_{(1,1)}*y_{(1,1)}\n",
        "\\end{bmatrix}$$\n",
        "\n",
        "So if we assign values to $X$ and $Y$:\n",
        "$$X = \\begin{bmatrix}1&2\\\\ 0&1\\end{bmatrix}, Y = \\begin{bmatrix}-1&0\\\\ 2&2\\end{bmatrix}$$\n",
        "\n",
        "$$X \\cdot Y= \\begin{bmatrix} 1*-1 + 2*2 & 1*0 + 2*2 \\\\  0*-1 + 1*2 & 0*0 + 1*2 \\end{bmatrix} = \\begin{bmatrix} 3 & 4 \\\\2 & 2 \\end{bmatrix}$$\n",
        "This could be achieved programmatically using `np.dot()`, `np.matmul()` or the `@` operator."
      ]
    },
    {
      "cell_type": "code",
      "metadata": {
        "id": "X4FQWu8PNJ6V"
      },
      "source": [
        "X = np.array([\n",
        "    [1,2],\n",
        "    [0,1]\n",
        "])\n",
        "Y = np.array([\n",
        "    [-1,0],\n",
        "    [2,2]\n",
        "])"
      ],
      "execution_count": null,
      "outputs": []
    },
    {
      "cell_type": "code",
      "metadata": {
        "colab": {
          "base_uri": "https://localhost:8080/"
        },
        "id": "rOPGp-sOOIPI",
        "outputId": "c130f69b-24fb-43d3-909c-25f6d9a9e3f5"
      },
      "source": [
        "np.dot(X,Y)"
      ],
      "execution_count": null,
      "outputs": [
        {
          "output_type": "execute_result",
          "data": {
            "text/plain": [
              "array([[3, 4],\n",
              "       [2, 2]])"
            ]
          },
          "metadata": {},
          "execution_count": 22
        }
      ]
    },
    {
      "cell_type": "code",
      "metadata": {
        "colab": {
          "base_uri": "https://localhost:8080/"
        },
        "id": "1YjYxaIqOMPe",
        "outputId": "d20ad610-4291-4b1b-9ab4-5429a14e4799"
      },
      "source": [
        "X.dot(Y)"
      ],
      "execution_count": null,
      "outputs": [
        {
          "output_type": "execute_result",
          "data": {
            "text/plain": [
              "array([[3, 4],\n",
              "       [2, 2]])"
            ]
          },
          "metadata": {},
          "execution_count": 23
        }
      ]
    },
    {
      "cell_type": "code",
      "metadata": {
        "colab": {
          "base_uri": "https://localhost:8080/"
        },
        "id": "3jU8U48hOPPX",
        "outputId": "673d68d4-54ad-4943-90ee-9ec01330cabb"
      },
      "source": [
        "X@Y"
      ],
      "execution_count": null,
      "outputs": [
        {
          "output_type": "execute_result",
          "data": {
            "text/plain": [
              "array([[3, 4],\n",
              "       [2, 2]])"
            ]
          },
          "metadata": {},
          "execution_count": 24
        }
      ]
    },
    {
      "cell_type": "code",
      "metadata": {
        "colab": {
          "base_uri": "https://localhost:8080/"
        },
        "id": "rsPzdJkBORIk",
        "outputId": "59a90f1f-0762-449b-e67b-83c5a70accd8"
      },
      "source": [
        "np.matmul(X,Y)"
      ],
      "execution_count": null,
      "outputs": [
        {
          "output_type": "execute_result",
          "data": {
            "text/plain": [
              "array([[3, 4],\n",
              "       [2, 2]])"
            ]
          },
          "metadata": {},
          "execution_count": 26
        }
      ]
    },
    {
      "cell_type": "markdown",
      "metadata": {
        "id": "JMsqj4xuOWQU"
      },
      "source": [
        "### Try 2"
      ]
    },
    {
      "cell_type": "code",
      "metadata": {
        "id": "oTgE0TxEOaTk"
      },
      "source": [
        "Boy = np.array([\n",
        "    [3,2,6],\n",
        "    [1,5,7],\n",
        "    [3,6,8]\n",
        "])\n",
        "Girl = np.array([\n",
        "    [7,9,2],\n",
        "    [2,4,6],\n",
        "    [6,2,4]\n",
        "])"
      ],
      "execution_count": null,
      "outputs": []
    },
    {
      "cell_type": "code",
      "metadata": {
        "colab": {
          "base_uri": "https://localhost:8080/"
        },
        "id": "JzogcNxrOvKV",
        "outputId": "07037de0-ae9a-4128-d00d-3a85ceb79358"
      },
      "source": [
        "np.dot(Boy,Girl)"
      ],
      "execution_count": null,
      "outputs": [
        {
          "output_type": "execute_result",
          "data": {
            "text/plain": [
              "array([[61, 47, 42],\n",
              "       [59, 43, 60],\n",
              "       [81, 67, 74]])"
            ]
          },
          "metadata": {},
          "execution_count": 28
        }
      ]
    },
    {
      "cell_type": "code",
      "metadata": {
        "colab": {
          "base_uri": "https://localhost:8080/"
        },
        "id": "qRaV9kChPOa9",
        "outputId": "66a5465e-b134-4fe2-d270-afad0a7a14fc"
      },
      "source": [
        "Boy.dot(Girl)"
      ],
      "execution_count": null,
      "outputs": [
        {
          "output_type": "execute_result",
          "data": {
            "text/plain": [
              "array([[61, 47, 42],\n",
              "       [59, 43, 60],\n",
              "       [81, 67, 74]])"
            ]
          },
          "metadata": {},
          "execution_count": 30
        }
      ]
    },
    {
      "cell_type": "code",
      "metadata": {
        "colab": {
          "base_uri": "https://localhost:8080/"
        },
        "id": "2bER9dllO00w",
        "outputId": "9df59d75-6eff-45e4-b173-73b35294fed5"
      },
      "source": [
        "Boy@Girl"
      ],
      "execution_count": null,
      "outputs": [
        {
          "output_type": "execute_result",
          "data": {
            "text/plain": [
              "array([[61, 47, 42],\n",
              "       [59, 43, 60],\n",
              "       [81, 67, 74]])"
            ]
          },
          "metadata": {},
          "execution_count": 29
        }
      ]
    },
    {
      "cell_type": "code",
      "metadata": {
        "colab": {
          "base_uri": "https://localhost:8080/"
        },
        "id": "DRGJCz7JPTZ1",
        "outputId": "211494ba-5cc2-4ac7-b1dd-1ce981f20ad4"
      },
      "source": [
        "np.matmul(Boy,Girl)"
      ],
      "execution_count": null,
      "outputs": [
        {
          "output_type": "execute_result",
          "data": {
            "text/plain": [
              "array([[61, 47, 42],\n",
              "       [59, 43, 60],\n",
              "       [81, 67, 74]])"
            ]
          },
          "metadata": {},
          "execution_count": 31
        }
      ]
    },
    {
      "cell_type": "markdown",
      "metadata": {
        "id": "ZXhUJFwXP4jb"
      },
      "source": [
        "In matrix dot products there are additional rules compared with vector dot products. Since vector dot products were just in one dimension there are less restrictions. Since now we are dealing with Rank 2 vectors we need to consider some rules:\n",
        "\n",
        "### Rule 1: The inner dimensions of the two matrices in question must be the same. \n",
        "\n",
        "So given a matrix $A$ with a shape of $(a,b)$ where $a$ and $b$ are any integers. If we want to do a dot product between $A$ and another matrix $B$, then matrix $B$ should have a shape of $(b,c)$ where $b$ and $c$ are any integers. So for given the following matrices:\n",
        "\n",
        "$$A = \\begin{bmatrix}2&4\\\\5&-2\\\\0&1\\end{bmatrix}, B = \\begin{bmatrix}1&1\\\\3&3\\\\-1&-2\\end{bmatrix}, C = \\begin{bmatrix}0&1&1\\\\1&1&2\\end{bmatrix}$$\n",
        "\n",
        "So in this case $A$ has a shape of $(3,2)$, $B$ has a shape of $(3,2)$ and $C$ has a shape of $(2,3)$. So the only matrix pairs that is eligible to perform dot product is matrices $A \\cdot C$, or $B \\cdot C$.  "
      ]
    },
    {
      "cell_type": "code",
      "metadata": {
        "id": "LhH-Fg7AP7tE"
      },
      "source": [
        "A = np.array([\n",
        "              [2,4],\n",
        "              [5,-2],\n",
        "              [0,1]           \n",
        "])\n",
        "B = np.array([\n",
        "              [1,1],\n",
        "              [3,3],\n",
        "              [-1,-2]\n",
        "])\n",
        "C = np.array([\n",
        "              [0,1,1],\n",
        "              [1,1,2]\n",
        "])\n"
      ],
      "execution_count": null,
      "outputs": []
    },
    {
      "cell_type": "code",
      "metadata": {
        "colab": {
          "base_uri": "https://localhost:8080/"
        },
        "id": "KJmLQSu3QkKW",
        "outputId": "c522cddf-12b4-407d-fbec-e559ca226519"
      },
      "source": [
        "A@C"
      ],
      "execution_count": null,
      "outputs": [
        {
          "output_type": "execute_result",
          "data": {
            "text/plain": [
              "array([[ 4,  6, 10],\n",
              "       [-2,  3,  1],\n",
              "       [ 1,  1,  2]])"
            ]
          },
          "metadata": {},
          "execution_count": 33
        }
      ]
    },
    {
      "cell_type": "code",
      "metadata": {
        "colab": {
          "base_uri": "https://localhost:8080/"
        },
        "id": "gNhOIF15QmzF",
        "outputId": "0fc40a3a-c079-4cde-c86a-f9ec9f3ea50d"
      },
      "source": [
        "B@C"
      ],
      "execution_count": null,
      "outputs": [
        {
          "output_type": "execute_result",
          "data": {
            "text/plain": [
              "array([[ 1,  2,  3],\n",
              "       [ 3,  6,  9],\n",
              "       [-2, -3, -5]])"
            ]
          },
          "metadata": {},
          "execution_count": 34
        }
      ]
    },
    {
      "cell_type": "code",
      "metadata": {
        "id": "umGRX3zNQlI9"
      },
      "source": [
        "A@B"
      ],
      "execution_count": null,
      "outputs": []
    },
    {
      "cell_type": "code",
      "metadata": {
        "colab": {
          "base_uri": "https://localhost:8080/"
        },
        "id": "zjSOybuVSAb0",
        "outputId": "29613cc8-9c6b-494e-d110-f24ef0714385"
      },
      "source": [
        "A@B.T"
      ],
      "execution_count": null,
      "outputs": [
        {
          "output_type": "execute_result",
          "data": {
            "text/plain": [
              "array([[  6,  18, -10],\n",
              "       [  3,   9,  -1],\n",
              "       [  1,   3,  -2]])"
            ]
          },
          "metadata": {},
          "execution_count": 36
        }
      ]
    },
    {
      "cell_type": "code",
      "metadata": {
        "id": "mb_1FKapSEYr"
      },
      "source": [
        "XX = np.array([\n",
        "               [1,2,3,0]\n",
        "])\n",
        "YY = np.array([\n",
        "               [1,0,4,-1]\n",
        "])"
      ],
      "execution_count": null,
      "outputs": []
    },
    {
      "cell_type": "code",
      "metadata": {
        "colab": {
          "base_uri": "https://localhost:8080/"
        },
        "id": "CQUnRZWfSTu0",
        "outputId": "28b5bae9-3a4d-457c-b3f7-fce16bbd4abc"
      },
      "source": [
        "YY.T@XX"
      ],
      "execution_count": null,
      "outputs": [
        {
          "output_type": "execute_result",
          "data": {
            "text/plain": [
              "array([[ 1,  2,  3,  0],\n",
              "       [ 0,  0,  0,  0],\n",
              "       [ 4,  8, 12,  0],\n",
              "       [-1, -2, -3,  0]])"
            ]
          },
          "metadata": {},
          "execution_count": 38
        }
      ]
    },
    {
      "cell_type": "code",
      "metadata": {
        "colab": {
          "base_uri": "https://localhost:8080/"
        },
        "id": "4cxGZv5kSWGQ",
        "outputId": "7aee8100-a345-431f-bbff-03fe09c5d4d8"
      },
      "source": [
        "XX@YY.T"
      ],
      "execution_count": null,
      "outputs": [
        {
          "output_type": "execute_result",
          "data": {
            "text/plain": [
              "array([[13]])"
            ]
          },
          "metadata": {},
          "execution_count": 40
        }
      ]
    },
    {
      "cell_type": "markdown",
      "metadata": {
        "id": "B9CUwJpcS4X3"
      },
      "source": [
        "### Rule 2: Dot Product has special properties\n",
        "\n",
        "Dot products are prevalent in matrix algebra, this implies that it has several unique properties and it should be considered when formulation solutions:\n",
        " 1. $A \\cdot B \\neq B \\cdot A$\n",
        " 2. $A \\cdot (B \\cdot C) = (A \\cdot B) \\cdot C$\n",
        " 3. $A\\cdot(B+C) = A\\cdot B + A\\cdot C$\n",
        " 4. $(B+C)\\cdot A = B\\cdot A + C\\cdot A$\n",
        " 5. $A\\cdot I = A$\n",
        " 6. $A\\cdot \\emptyset = \\emptyset$ "
      ]
    },
    {
      "cell_type": "code",
      "metadata": {
        "id": "EESMwlVyS7kM"
      },
      "source": [
        "AA = np.array([\n",
        "                 [2,5,3],\n",
        "                 [6,8,2],\n",
        "                 [1,5,8]\n",
        "])\n",
        "BB = np.array([\n",
        "               [4,2,4],\n",
        "               [7,0,3],\n",
        "               [2,4,1]\n",
        "])\n",
        "CC = np.array([\n",
        "               [2,4,7],\n",
        "               [8,3,0],\n",
        "               [0,2,5]\n",
        "])"
      ],
      "execution_count": null,
      "outputs": []
    },
    {
      "cell_type": "code",
      "metadata": {
        "colab": {
          "base_uri": "https://localhost:8080/"
        },
        "id": "2BLI0aG5Yc84",
        "outputId": "b6743064-ba6b-4feb-e72a-becf52310c9f"
      },
      "source": [
        "np.identity(3)"
      ],
      "execution_count": null,
      "outputs": [
        {
          "output_type": "execute_result",
          "data": {
            "text/plain": [
              "array([[1., 0., 0.],\n",
              "       [0., 1., 0.],\n",
              "       [0., 0., 1.]])"
            ]
          },
          "metadata": {},
          "execution_count": 56
        }
      ]
    },
    {
      "cell_type": "code",
      "metadata": {
        "colab": {
          "base_uri": "https://localhost:8080/"
        },
        "id": "YBKiIdRRXQ4t",
        "outputId": "6ba0fcc3-755d-4f1a-bbf2-bd3006ef16b8"
      },
      "source": [
        "np.array_equal(AA@BB, BB@AA)\n",
        "#1"
      ],
      "execution_count": null,
      "outputs": [
        {
          "output_type": "execute_result",
          "data": {
            "text/plain": [
              "False"
            ]
          },
          "metadata": {},
          "execution_count": 54
        }
      ]
    },
    {
      "cell_type": "code",
      "metadata": {
        "id": "ObO6Ks5o1dGg"
      },
      "source": [
        "G1 = AA*(BB*CC)\n",
        "#2"
      ],
      "execution_count": null,
      "outputs": []
    },
    {
      "cell_type": "code",
      "metadata": {
        "id": "eC-eDCbz12fJ"
      },
      "source": [
        "G2 = (AA*BB)*CC"
      ],
      "execution_count": null,
      "outputs": []
    },
    {
      "cell_type": "code",
      "metadata": {
        "colab": {
          "base_uri": "https://localhost:8080/"
        },
        "id": "scEs3D7bUgRG",
        "outputId": "6ee36687-1b3d-4f3a-b25a-dff9a1c4309c"
      },
      "source": [
        "np.array_equiv(G1,G2)"
      ],
      "execution_count": null,
      "outputs": [
        {
          "output_type": "execute_result",
          "data": {
            "text/plain": [
              "True"
            ]
          },
          "metadata": {},
          "execution_count": 9
        }
      ]
    },
    {
      "cell_type": "code",
      "metadata": {
        "colab": {
          "base_uri": "https://localhost:8080/"
        },
        "id": "xU8vY-pyVCwm",
        "outputId": "5e82ed6e-a5ef-4b9e-e86d-a187d8ca5f70"
      },
      "source": [
        "np.array_equiv(G3,G4)"
      ],
      "execution_count": null,
      "outputs": [
        {
          "output_type": "execute_result",
          "data": {
            "text/plain": [
              "True"
            ]
          },
          "metadata": {},
          "execution_count": 53
        }
      ]
    },
    {
      "cell_type": "code",
      "metadata": {
        "id": "8Ii-YYNvTxHt"
      },
      "source": [
        "G3= AA*(BB*CC)"
      ],
      "execution_count": null,
      "outputs": []
    },
    {
      "cell_type": "code",
      "metadata": {
        "id": "zfR5ir3dT4Nl"
      },
      "source": [
        "G4= (AA*BB)*CC"
      ],
      "execution_count": null,
      "outputs": []
    },
    {
      "cell_type": "code",
      "metadata": {
        "id": "s9G2vNzm2rZp"
      },
      "source": [
        "G5 = (BB+CC)@AA\n",
        "#4"
      ],
      "execution_count": null,
      "outputs": []
    },
    {
      "cell_type": "code",
      "metadata": {
        "id": "IOAFyl7t25D4"
      },
      "source": [
        "G6 = (BB@AA)+(CC@AA)"
      ],
      "execution_count": null,
      "outputs": []
    },
    {
      "cell_type": "code",
      "metadata": {
        "id": "cAW9o6qc3ANQ",
        "colab": {
          "base_uri": "https://localhost:8080/"
        },
        "outputId": "f9d41a49-e9b1-4e46-b27b-71dd18c3df19"
      },
      "source": [
        "np.array_equiv(G5,G6)"
      ],
      "execution_count": null,
      "outputs": [
        {
          "output_type": "execute_result",
          "data": {
            "text/plain": [
              "True"
            ]
          },
          "metadata": {},
          "execution_count": 12
        }
      ]
    },
    {
      "cell_type": "code",
      "metadata": {
        "colab": {
          "base_uri": "https://localhost:8080/"
        },
        "id": "zq5QrLz7YsDO",
        "outputId": "27e685c6-0d7d-41fc-c9b5-8c3a04a81f22"
      },
      "source": [
        "AA.dot(np.eye(3))\n",
        "#5"
      ],
      "execution_count": null,
      "outputs": [
        {
          "output_type": "execute_result",
          "data": {
            "text/plain": [
              "array([[2., 5., 3.],\n",
              "       [6., 8., 2.],\n",
              "       [1., 5., 8.]])"
            ]
          },
          "metadata": {},
          "execution_count": 13
        }
      ]
    },
    {
      "cell_type": "code",
      "metadata": {
        "id": "mxGniR5DBKbY",
        "colab": {
          "base_uri": "https://localhost:8080/"
        },
        "outputId": "29221576-a0dc-410c-ee02-228d909c537c"
      },
      "source": [
        "z_mat = np.zeros(AA.shape)\n",
        "z_mat\n",
        "#6"
      ],
      "execution_count": null,
      "outputs": [
        {
          "output_type": "execute_result",
          "data": {
            "text/plain": [
              "array([[0., 0., 0.],\n",
              "       [0., 0., 0.],\n",
              "       [0., 0., 0.]])"
            ]
          },
          "metadata": {},
          "execution_count": 20
        }
      ]
    },
    {
      "cell_type": "code",
      "metadata": {
        "id": "W9aZi62LBM3P",
        "colab": {
          "base_uri": "https://localhost:8080/"
        },
        "outputId": "5d43b3bc-264b-46ab-d5a6-984cbad8340b"
      },
      "source": [
        "a_dot_z = AA.dot(np.zeros(AA.shape))\n",
        "a_dot_z"
      ],
      "execution_count": null,
      "outputs": [
        {
          "output_type": "execute_result",
          "data": {
            "text/plain": [
              "array([[0., 0., 0.],\n",
              "       [0., 0., 0.],\n",
              "       [0., 0., 0.]])"
            ]
          },
          "metadata": {},
          "execution_count": 21
        }
      ]
    },
    {
      "cell_type": "code",
      "metadata": {
        "id": "ljv2FhORBQlI",
        "colab": {
          "base_uri": "https://localhost:8080/"
        },
        "outputId": "659f82de-b7d5-463a-94a5-47d611677d76"
      },
      "source": [
        "np.array_equal(a_dot_z,z_mat)"
      ],
      "execution_count": null,
      "outputs": [
        {
          "output_type": "execute_result",
          "data": {
            "text/plain": [
              "True"
            ]
          },
          "metadata": {},
          "execution_count": 22
        }
      ]
    },
    {
      "cell_type": "markdown",
      "metadata": {
        "id": "FJxBgs9BZAYl"
      },
      "source": [
        "##Determinant\n",
        "A determinant is a scalar value derived from a square matrix. The determinant is a fundamental and important value used in matrix algebra. Although it will not be evident in this laboratory on how it can be used practically, but it will be reatly used in future lessons.\n",
        "\n",
        "The determinant of some matrix $A$ is denoted as $det(A)$ or $|A|$. So let's say $A$ is represented as:\n",
        "$$A = \\begin{bmatrix}a_{(0,0)}&a_{(0,1)}\\\\a_{(1,0)}&a_{(1,1)}\\end{bmatrix}$$\n",
        "We can compute for the determinant as:\n",
        "$$|A| = a_{(0,0)}*a_{(1,1)} - a_{(1,0)}*a_{(0,1)}$$\n",
        "So if we have $A$ as:\n",
        "$$A = \\begin{bmatrix}1&4\\\\0&3\\end{bmatrix}, |A| = 3$$\n",
        "\n",
        "But you might wonder how about square matrices beyond the shape $(2,2)$? We can approach this problem by using several methods such as co-factor expansion and the minors method. This can be taught in the lecture of the laboratory but we can achieve the strenuous computation of high-dimensional matrices programmatically using Python. We can achieve this by using `np.linalg.det()`."
      ]
    },
    {
      "cell_type": "code",
      "metadata": {
        "colab": {
          "base_uri": "https://localhost:8080/"
        },
        "id": "sUDIjAXJZDEd",
        "outputId": "81a4241e-f477-48d9-93bc-4ed85d8e540a"
      },
      "source": [
        "D = np.array([\n",
        "    [1,4],\n",
        "    [0,3]\n",
        "])\n",
        "np.linalg.det(D)"
      ],
      "execution_count": null,
      "outputs": [
        {
          "output_type": "execute_result",
          "data": {
            "text/plain": [
              "3.0000000000000004"
            ]
          },
          "metadata": {},
          "execution_count": 58
        }
      ]
    },
    {
      "cell_type": "code",
      "metadata": {
        "colab": {
          "base_uri": "https://localhost:8080/"
        },
        "id": "8Bs5b3yOZea1",
        "outputId": "0d21b756-e2af-439b-ae29-fd504a9033c6"
      },
      "source": [
        "E= np.array([\n",
        "             [1,5,2],\n",
        "             [3,-1,-1],\n",
        "             [0,-2,1]\n",
        "])\n",
        "np.linalg.det(E)"
      ],
      "execution_count": null,
      "outputs": [
        {
          "output_type": "execute_result",
          "data": {
            "text/plain": [
              "-30.000000000000014"
            ]
          },
          "metadata": {},
          "execution_count": 59
        }
      ]
    },
    {
      "cell_type": "markdown",
      "metadata": {
        "id": "W6mwf_mzaQ11"
      },
      "source": [
        "## Inverse\n",
        "\n",
        "The inverse of a matrix is another fundamental operation in matrix algebra. Determining the inverse of a matrix let us determine if its solvability and its characteristic as a system of linear equation — we'll expand on this in the nect module. Another use of the inverse matrix is solving the problem of divisibility between matrices. Although element-wise division exists but dividing the entire concept of matrices does not exists. Inverse matrices provides a related operation that could have the same concept of \"dividing\" matrices.\n",
        "\n",
        "Now to determine the inverse of a matrix we need to perform several steps. So let's say we have a matrix $M$:\n",
        "$$M = \\begin{bmatrix}1&7\\\\-3&5\\end{bmatrix}$$\n",
        "First, we need to get the determinant of $M$.\n",
        "$$|M| = (1)(5)-(-3)(7) = 26$$\n",
        "Next, we need to reform the matrix into the inverse form:\n",
        "$$M^{-1} = \\frac{1}{|M|} \\begin{bmatrix} m_{(1,1)} & -m_{(0,1)} \\\\ -m_{(1,0)} & m_{(0,0)}\\end{bmatrix}$$\n",
        "So that will be:\n",
        "$$M^{-1} = \\frac{1}{26} \\begin{bmatrix} 5 & -7 \\\\ 3 & 1\\end{bmatrix} = \\begin{bmatrix} \\frac{5}{26} & \\frac{-7}{26} \\\\ \\frac{3}{26} & \\frac{1}{26}\\end{bmatrix}$$\n",
        "For higher-dimension matrices you might need to use co-factors, minors, adjugates, and other reduction techinques. To solve this programmatially we can use `np.linalg.inv()`."
      ]
    },
    {
      "cell_type": "code",
      "metadata": {
        "colab": {
          "base_uri": "https://localhost:8080/"
        },
        "id": "3gTMlQQHaUdX",
        "outputId": "7ff19a05-6184-4641-deb8-e058b234b403"
      },
      "source": [
        "M = np.array([\n",
        "              [1,7],\n",
        "              [-3,5]\n",
        "])\n",
        "np.array(M@ np.linalg.inv(M),dtype=int)"
      ],
      "execution_count": null,
      "outputs": [
        {
          "output_type": "execute_result",
          "data": {
            "text/plain": [
              "array([[1, 0],\n",
              "       [0, 1]])"
            ]
          },
          "metadata": {},
          "execution_count": 60
        }
      ]
    },
    {
      "cell_type": "code",
      "metadata": {
        "colab": {
          "base_uri": "https://localhost:8080/"
        },
        "id": "llSumQFRa4Yo",
        "outputId": "cf756bd0-78a7-4946-af1a-a0e0d9abe273"
      },
      "source": [
        "P = np.array([\n",
        "              [6,9,0],\n",
        "              [4,2,-1],\n",
        "              [3,6,7]\n",
        "])\n",
        "Q= np.linalg.inv(P)\n",
        "Q"
      ],
      "execution_count": null,
      "outputs": [
        {
          "output_type": "execute_result",
          "data": {
            "text/plain": [
              "array([[-0.12578616,  0.39622642,  0.05660377],\n",
              "       [ 0.19496855, -0.26415094, -0.03773585],\n",
              "       [-0.11320755,  0.05660377,  0.1509434 ]])"
            ]
          },
          "metadata": {},
          "execution_count": 64
        }
      ]
    },
    {
      "cell_type": "code",
      "metadata": {
        "colab": {
          "base_uri": "https://localhost:8080/"
        },
        "id": "r4G1Avv3bN1N",
        "outputId": "35db618f-1416-4ed6-dce2-f900343215ef"
      },
      "source": [
        "np.array(P@Q,dtype=int)"
      ],
      "execution_count": null,
      "outputs": [
        {
          "output_type": "execute_result",
          "data": {
            "text/plain": [
              "array([[1, 0, 0],\n",
              "       [0, 0, 0],\n",
              "       [0, 0, 1]])"
            ]
          },
          "metadata": {},
          "execution_count": 67
        }
      ]
    },
    {
      "cell_type": "code",
      "metadata": {
        "colab": {
          "base_uri": "https://localhost:8080/"
        },
        "id": "pxuTMt10buuN",
        "outputId": "a0453ff3-3dc9-472f-d3a6-9d3c6b54ac63"
      },
      "source": [
        "np.array(P@Q)"
      ],
      "execution_count": null,
      "outputs": [
        {
          "output_type": "execute_result",
          "data": {
            "text/plain": [
              "array([[ 1.00000000e+00, -5.55111512e-17, -6.93889390e-18],\n",
              "       [ 8.32667268e-17,  1.00000000e+00, -2.77555756e-17],\n",
              "       [ 2.77555756e-17, -1.38777878e-17,  1.00000000e+00]])"
            ]
          },
          "metadata": {},
          "execution_count": 66
        }
      ]
    },
    {
      "cell_type": "markdown",
      "metadata": {
        "id": "ATRh_xbUxpMh"
      },
      "source": [
        "## Activity "
      ]
    },
    {
      "cell_type": "markdown",
      "metadata": {
        "id": "H9Fj7H9Vxswp"
      },
      "source": [
        "### Task 1"
      ]
    },
    {
      "cell_type": "markdown",
      "metadata": {
        "id": "MegmWXPcxuah"
      },
      "source": [
        "Prove and implement the remaining 6 matrix multiplication properties. You may create your own matrices in which their shapes should not be lower than $(3,3)$.\n",
        "In your methodology, create individual flowcharts for each property and discuss the property you would then present your proofs or validity of your implementation in the results section by comparing your result to present functions from NumPy."
      ]
    },
    {
      "cell_type": "code",
      "metadata": {
        "id": "yF2nt-Z6CU0m"
      },
      "source": [
        "HH = np.array([\n",
        "                 [4,6,2],\n",
        "                 [1,5,4],\n",
        "                 [3,2,6]\n",
        "])\n",
        "JJ = np.array([\n",
        "               [3,5,8],\n",
        "               [7,2,5],\n",
        "               [0,1,9]\n",
        "])\n",
        "RR = np.array([\n",
        "               [4,2,6],\n",
        "               [7,8,2],\n",
        "               [1,0,3]\n",
        "])"
      ],
      "execution_count": 2,
      "outputs": []
    },
    {
      "cell_type": "code",
      "metadata": {
        "id": "I4Xo66QzE3mY",
        "colab": {
          "base_uri": "https://localhost:8080/"
        },
        "outputId": "63c120f2-d3be-4a93-c00d-1c8346938f17"
      },
      "source": [
        "#1\n",
        "np.array_equal(HH@JJ, JJ@HH)"
      ],
      "execution_count": null,
      "outputs": [
        {
          "output_type": "execute_result",
          "data": {
            "text/plain": [
              "False"
            ]
          },
          "metadata": {},
          "execution_count": 24
        }
      ]
    },
    {
      "cell_type": "code",
      "metadata": {
        "id": "pHsOSWA-E31n",
        "colab": {
          "base_uri": "https://localhost:8080/"
        },
        "outputId": "2133eea6-3ae2-493f-c8da-62937ac02cb2"
      },
      "source": [
        "#2\n",
        "np.array_equiv(HH@(JJ@RR),(HH@JJ)@RR)"
      ],
      "execution_count": null,
      "outputs": [
        {
          "output_type": "execute_result",
          "data": {
            "text/plain": [
              "True"
            ]
          },
          "metadata": {},
          "execution_count": 25
        }
      ]
    },
    {
      "cell_type": "code",
      "metadata": {
        "id": "ZuJZz53xFJop",
        "colab": {
          "base_uri": "https://localhost:8080/"
        },
        "outputId": "f1420711-a79b-4b82-d10c-20f198e2ce56"
      },
      "source": [
        "#3\n",
        "np.array_equiv(HH@(JJ+RR),(HH@JJ)+(HH@RR))"
      ],
      "execution_count": null,
      "outputs": [
        {
          "output_type": "execute_result",
          "data": {
            "text/plain": [
              "True"
            ]
          },
          "metadata": {},
          "execution_count": 26
        }
      ]
    },
    {
      "cell_type": "code",
      "metadata": {
        "id": "q6IXTsjXGDRm",
        "colab": {
          "base_uri": "https://localhost:8080/"
        },
        "outputId": "62511eb0-9e19-4575-8533-bed3f457eef1"
      },
      "source": [
        "#4\n",
        "np.array_equiv((JJ+RR)@HH,(JJ@HH)+(RR@HH))"
      ],
      "execution_count": null,
      "outputs": [
        {
          "output_type": "execute_result",
          "data": {
            "text/plain": [
              "True"
            ]
          },
          "metadata": {},
          "execution_count": 28
        }
      ]
    },
    {
      "cell_type": "code",
      "metadata": {
        "id": "wNv2S0GxFKp3",
        "colab": {
          "base_uri": "https://localhost:8080/",
          "height": 0
        },
        "outputId": "764fe129-c7e6-47b4-dc94-0b819bc26f11"
      },
      "source": [
        "#5\n",
        "HH.dot(np.eye(3))"
      ],
      "execution_count": 4,
      "outputs": [
        {
          "output_type": "execute_result",
          "data": {
            "text/plain": [
              "array([[4., 6., 2.],\n",
              "       [1., 5., 4.],\n",
              "       [3., 2., 6.]])"
            ]
          },
          "metadata": {},
          "execution_count": 4
        }
      ]
    },
    {
      "cell_type": "code",
      "metadata": {
        "id": "7X02OxVk1e7y",
        "outputId": "6f231003-13f4-4f52-8c65-cb5670c56001",
        "colab": {
          "base_uri": "https://localhost:8080/",
          "height": 0
        }
      },
      "source": [
        "np.eye(3)"
      ],
      "execution_count": 3,
      "outputs": [
        {
          "output_type": "execute_result",
          "data": {
            "text/plain": [
              "array([[1., 0., 0.],\n",
              "       [0., 1., 0.],\n",
              "       [0., 0., 1.]])"
            ]
          },
          "metadata": {},
          "execution_count": 3
        }
      ]
    },
    {
      "cell_type": "code",
      "metadata": {
        "id": "EQX8WHUuFLCf"
      },
      "source": [
        "#6\n",
        "z_math = np.zeros(HH.shape)"
      ],
      "execution_count": null,
      "outputs": []
    },
    {
      "cell_type": "code",
      "metadata": {
        "id": "gcELy3wEGvYi"
      },
      "source": [
        "h_dot_z = HH.dot(np.zeros(HH.shape))"
      ],
      "execution_count": null,
      "outputs": []
    },
    {
      "cell_type": "code",
      "metadata": {
        "id": "KYkEC3DyG8W0",
        "colab": {
          "base_uri": "https://localhost:8080/"
        },
        "outputId": "265198df-a2aa-4ea9-db47-0b5bec403dae"
      },
      "source": [
        "np.array_equal(h_dot_z,z_math)"
      ],
      "execution_count": null,
      "outputs": [
        {
          "output_type": "execute_result",
          "data": {
            "text/plain": [
              "True"
            ]
          },
          "metadata": {},
          "execution_count": 33
        }
      ]
    },
    {
      "cell_type": "markdown",
      "metadata": {
        "id": "d4jVMtQ4y7ri"
      },
      "source": [
        "Flowchart"
      ]
    },
    {
      "cell_type": "markdown",
      "metadata": {
        "id": "7J8rc_dFzLai"
      },
      "source": [
        "1. ![no1.png](data:image/png;base64,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)"
      ]
    },
    {
      "cell_type": "markdown",
      "metadata": {
        "id": "0MHJldfIzI5L"
      },
      "source": [
        "2. ![no2.png](data:image/png;base64,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)"
      ]
    },
    {
      "cell_type": "markdown",
      "metadata": {
        "id": "u98fTp0nzpkG"
      },
      "source": [
        "3. ![no3.png](data:image/png;base64,iVBORw0KGgoAAAANSUhEUgAAAmwAAAP3CAMAAACmneIjAAAABGdBTUEAALGPC/xhBQAAACBjSFJNAAB6JgAAgIQAAPoAAACA6AAAdTAAAOpgAAA6mAAAF3CculE8AAABYlBMVEX////v9Pje6PG+0uSHrM1IgbPo7/Wxyd5pl8D8/f3U4e1ZjLp2ocefvtm3z+TM3u3f6/Vnl8DW5fH1+/+kwNmEq814osdXjLrC1+jt9furx973+fvy+f3m8Pjr8fXDyc3O1dlWXWMcJSqor7TZ4OTj6e3x9/sxOj62vcGKkZaZoKVocHR6gYaFjJFCS1DJ2uiWt9OStdMhS3JuiqPs8PPj6O2+y9axv81TdJGktsWRprn19/jY3+Zcepf7/PyBma7L1d5IbIuhs8NGgLE2XH/B0+Kitca8wMSeoqXg5urW29+tsrXJztLq8PRUV1kAAABAQUONkJMXFxh6foEsLS1pbG5BZohOcZHP2uSvsrRqcXRFTVDi4+T7+/vs7e319fV+g4bX2NnKzM2Pk5afo6W9wMFZX2Oora+do6iiqKzb4uhKbYsoUHajtcVqh6D3+fnK1N0iTXNZeZW3xdGPrca7z+JBUf6/AAAAAWJLR0QAiAUdSAAAAAlwSFlzAAAYmwAAGJsBSXWDlAAAAAd0SU1FB+UKFwUvKVtGNfwAADLvSURBVHja7d2Je9vWmh5wa4GsfTG1WjYpHlKgKKqUreQ60yTOTTJpRVEiKVHUTL3n2tduO51O9/+/ZwG47wC+Axy8v+eJI4niBrw6C/Dh8NEjAAAAAAAAAAAAAAAAAAAAAAAAAAAAAAAAAAAAAAAAAAAAAAAAAAAAAAAAAAAAAAAAAAAAAAAAmNrM7Nz8/LwVOP4kc7Mzut8t6LPweDH4mLVbfLyg+z2DDkvLxElz8ra8pPudA7W5FWfvr66tr29sBmxjfX1t1XnClTnd7x1ILahWbWvtSYLQk7Ut1bqhM42PpW25z3dIk+bkbUc+9Tb60piY2ZXd5yZ91IRN2Z3uYmYaC7NitLa3rydqwv6eGLnN6t4OELxl2awd6MtaInEgG7dl3VsCgiaz9lRn1ISnSFsMyKxt6M5aIrGBtBlvZiUcWVNpW8EswWCHocmak7ZD3VsEAjMfhvGaS4zb5nVvEQjKHN+9a7oz1rLGXw5OXRlqRpygeqY7Yi3PxMkrDNvMJDrR57oT1u45OlJTiaMe67rz1Wkdxz/MtLQSrk5UEB3pCs7Jm0fMDjSUeQz3BHMEE4mGbUd3tnrtoGkzkGjYNBUVDbOJps1Ai6Fs2GTTtqh724C/FsI4YhPEqA1V4mbZ5lNR3bnqj09It3VvHfDTUphOinYSp0gxRTDJLN+jWotzBzvgLw0l4ibhveiq7lQNsop+1CyLoe1FZT+K+ahBZsJ5kE3ZRO2HUcQ5eN2ZGgxn443yOKRHdJUdy3qsewuBb3a9D9mSqaNkQGHjg7Zd3VsIfOP5MpejNBNS4utMts8vZI6nf3Bx6YvuLQR+WfI6P7BzuZPj45OcSFuW9Qlbqt8Px7WJw7oGWfA6P8izjPjfcfo0kS2wI9GKZTMpW/wse5zIZvkPsx6aNpweNcis17CdqQ6Us0Vvmk8ci//l+A+PWSHH/p347tRT2HAOwRRzXs8fpFjRTRtPF49ckaWPU7k0H8wxVjhJZtmZl4dfRU2bOeY8H/nI83Ysf6Ryl+FhOzrhXxaYncgwnrjEiepmp7WDsJnDe9gSyVM+H83xUdopE5k7TmUymSITgcvKLHqYHyBsRvEhbCJgaTEuK7Bkwj7lY7RCgRUTiRwTN6WZjbCB5PkEgooSnxUkEiwnB2op8e9ZIilGcPyHRU8Pj1MIBvHYsqX49FM44eMzma68+IFd4AO1rLzpWEUOLRt4Dhufe2ayiSwfo/FpQS4tZgWFRLaY42HLiB/xli2NsIHidcx2nJMnq2SwzhjLJsU3ad6rZs7UzKDAmIdjugibSbxPEI5PMpmUPBGfzGbthH2S4XPSbDaZyiScH6JlA+ncsva8hS1Ye5Z1rnsbgU88nxsNGM6NGmQmbAuzdXqOunCThPkSBFVipHsLgW8WQ7cMYLt1XF5lkheW9VJ3pAZ7aVkvdG8h8M1caFf6ELZw5MMkC+FdfUGtv4DJqDnERQgaP/NxuH1cgmCWMA/aMGQzzDlvPUK2UrjrmYXzB2Y5DM8HpHUTV43i89KMshvaBRh2cD28aZbDOh89wLIyxlkK1wfytaxhLmqe7XBOEcT0AOtOmuYwfB+TJqxjemAi3rTthW7UdrCHhs1EomkL3YHdl2jYzLQdvqq2TYzYDBW+DxzFx42a6zxshz/WcKbKXLvh+rQ08RlpOHlgqkPeke6F5sqX53wmuoLZgbHEEpRhSZvIGhacNNljvoNXQzFJeLZqYe0iw4njH1shaNueb+Goh/l2Q9GTyj4UkwPTLb2w9BdSioJJ6wWOsJlP9KTWS40Dt2fiJBX60HiYE/t6T9vVVvuiC8WVonExuyJ295aWvnRDzAysFRzziI1DOXCztp4SzxSeP5VRs17gWG6cLCxaKm9r+0SVIJv7aypp1iKuf4+bZSdu1BZxeUscLWyvUCdtZRutWmzNPp4nC9zK/GNMC+JuaWFiFxeT3weHcGEq3333ve6XAHFxcfEX3S8B4gJhAzIIG5BB2IAMwgZkEDYgg7ABGYQNyCBsQAZhAzIIG5BB2IAMwgZkEDYgg7ABGYQNyCBsQAZhAzIIG5BB2IAMwgYUXv3A/cM//HvxP1xiBYH68aLlJ90vBsz2cytrr3W/FjDcL62wvdL9WsB0f0UvClR+dbP2m+5XAsZr9qO/634lYD63H8WBDwjcr773oocLy3Pb8xw+DxI6/eJbL7q0MDv3eL59udVFLBcIHb7z3IsuLMzNzc/3XZ9yRve7g1B5NXUvOrNwPvei78KqOy/X19fFB/UtYoVKaPPTxL2oGpT1W558defp+mZzcfyn/CdYTBzavR63F1WDst0+IdvaWVt/stnzAVqr+AxS6PRqZC86cFC2x/vLjc2DQZ/MwZu2ed3vDkLlp4G96JBB2c76/ubITy9aR9igy+vuXnTcQRnCBpP6odmLTjooQ9hgQt//PjPloAxhg7EdqkHZP047KEPYYKSloYOyJ359jCTCFmtDB2UbEw/KEDboNXRQtj/1oAxhg5bDYUfK1j0PyhA2IBuUIWyxtrBAOShD2GJJnFmiH5QhbLEizizpG5QhbLEgyn2GDcpo+0uEzUwjBmV6+kuEzUDLLwYNyvT2lwibcZZ2ewdlRAcxELaYmVkJ3aAMYTOVaNe29kM1KEPYDDXHs/YyCu0ZwhZ9vBNd1Z0ehC0eDnnD9kR3ehC2eJjlYdMdHoQtJuai14sibFHFw7ajOzwIW0wgbEAGYQMyCBuQQdiADMIGZBA2IIOwARmEDcggbEAGYQMyCBuQQdiADMIGZBA2IIOwARmEDcggbEAGYQMyCBuQQdiADMIGZBA2IIOwARmEDcggbEAGYQMyCBuQQdiADMIGZBA2INMvbNlMUneeEDYT9QtbgR2P2N121p4qJmfsSMWZnYmnyTrf5Lufn7FCxxcImxH6he04Oyo0KTZd25d27nfCMolEjqnEZsQ3HWErFNWPml8gbEaYbsxWLLZ90z+afX/Kcur/ed7C2cx5kDPW87t5pwVsfYGwGaBP2LLslDddp2e8C8uKRuiE92aFpNMciX+zvHdzW5wsvzGXT4rG7rTATk7Ev6nEUZr/9NTmP8yoyGScRy60WjjZlcrksp4+Oe125Ol+PTrCFlF9wpbhacmwXPE0J7JxKoKVF03SqWxlTlmWB6zgzCHsHMudpNmJuFcud5Y85f/mk8kcK54U+a8fy0AlWVHF6cSNqHg4t/dstnDtLSDr/gJhM0CfsOV5t1ZgaT52E7u6IFs10RQV5IBL/Hva7NyyhTzPkRruF+StYrB/VOCtmhz3i4fhD5hyH7lYENLid89Y2vnmrDtNx24LeNxvfoCwRVWfsKWZGLynnHaFyYiJcZVqZUSjVGibHySz2axom3Jy5MWcW/hPT0RQCqyt8+SP7MqI3rPtm068S+76AmEzQZ+w8dYoyXK2aFfS/D/ZyRXYsWpl5L/uOJ/3hTkZlzN+j3SzJbIzKkSnotM9bjuS4naKp3J+0Jws9JkfpLq+QNhM0Bs20f2pQ19H/N8j1cnliryVySfUWD/ZbKpOGDvJJsVQTN1DtUR8mJfK2qciKCl21DqM1mziCnJ+0JwsTDg/QNiiqjdsfPrJB+8notmSX4mo2DxE8me26F+Pmh1fWoYrzdsm9x6iJSrK3yyKFuuYZdI5N0zNTlG0cJn2yUKrAy2k1JSh+QXCZo7esIluTR36KsiZAt/fRznewhyxtC06yOO2sIlAJflIrHUP0RKJ3z5OO0M8JlPo9J7qS9nZ5psnEwriBFnWbfxYij/bSeuL1m0IW9T1hk3MD4pMRYkHJ3eWKzDRvPG5aZHlc0w2OAW3FcwVcuk8SyfVPXJMxbXIZ7N8tplMqGltwu09s60Wzu0h5eGQ0+bYTJyhkkdKml+c9ozbELaI6g1bIa/+k/+K4Vm2WJAtUjJf4KN90ROmzpyjFfZJOp2xxQ3OPWQ/aWeKhYx9fFawWwGTtxbcvvKo/ZusiKc7Nkue5M9SHV/ke8ZtCFtEjThdle177GF8R70H0frJFye5DWGLqBFhy/Q99jAuO5MrjlMekmTZSW5D2CJqRNjORlYbDctakeU83H0ghC2iRoQtlfEQimQ2mCJMhC2iUBYOZBA2IIOwARmEDcgEF7Zm0ZsoQuLs3m8QtngJLmzNordTp2wtLw6D5Nu/QdjiJbiw5dyK7gI74W1ZSpbnJtIsxb85SY93ZgFhM4rnsB2nMinRKSYz2eSRKtCwjzJHbUVvTsmknRNNXcc3CFu8eA2b7CPFeYIMKzjVubao/j47cc+qHrt1H6LOo1kyWUTY4sdj2I54vGyZqzzLZZJ5EaxTljuyRbWu+pWUU6krr1RwI5htqzxC2OLCY9j45JL/K2KUlpkSvWRRnHxPMvesaobl+SAtcyarKPPsNJvNiG88nOBH2CLKazeayhQK8io+GS5xFcuxbLxs1pofOPPPbPs3Xk7QI2wR5S1sx0VxJWiRx0t2knJIpq5GaF2/l2N8+nnkXE3AxDcpVpz2CRG2KPMWtry85E9ccJdy12ZwanMz7jVVSfdaQNFvOpOFAhu5dA3CZiBvYcuJswRZcX2yOl8grmI5FUlKpt3rXJxa3SPZ0jmThVTfC90RNtN5C1tBXuInVvVorc2QYYWkuHbZabzcS/bklX3u9VVejrIhbJHlLWxH8tBaiidLXf0p/rXPxBJ+6db8IOuELt/1DcIWNx5no/ZJKpmws1k7K6eX6t/jbLa1oOCxc9LdFgdJ3J/KbxC2uEGJEZBB2IAMwgZkEDYgg7ABGYQNyCBsQAZhAzIIG5BB2IAMwgZkEDYgg7ABGYQNyCBsQAZhAzIIG5BB2IAMwgZkEDYgg7ABGYQNyCBsQAZhAzIIG5BB2IAMwgZkEDYgg7ABGYQNyCBsQAZhAzIIG5BB2IAMwgZkEDYgg7ABmWXLsnSHZ1JPEbZomuFh29SdngmtWtZj3dsNpsHDtqo7PZPZ5y95Wfdmg2k85rtu50B3gCbAR2zW4pLuzQbTWFq0ROO2th4NO3vi5S7o3mownRmZtkg5173NYFpLj3WHZzKLaNei7HB2bj4its8RNeh1caH7FUBsIGxABmEDMggbkEHYgAzCBmQQNiCDsAEZhA3IIGxABmEDMggbkEHYgAzCBmQQNiCDsAEZhA3IIGxABmEDMggbkEHYgAzCBmQQNiCDsAEZhA3IIGxABmEDMggbkEHYgAzCBmQQNiCDsAEZhA3IIGxABmEDMggbkEHYgAzCBmQQNiCDsAEZhA3IIGxABmEDMggbkEHYgAzCBmQQNiCDsAEZhA3IIGxABmEDMggbkEHYgAzCBmQQNiCDsAGFH79r+YvuFwNm+/2i5SfdLwbM9nMra691vxYw3R/NsL3S/VLAdD+iFwUqP6MXBTJ/oBcFKj+iFwUqP6MXBSq/oBcFMn9FLwpUfkUvClR+QS8KZP6KXhSo/IpeFKj8gl4UyLxGLwpUXqEXBRILC8v/4T8u6H4VYL6F7RVL2Z7V/VrAaAvzVptFNG8QlMMXTsr29pwv5g91vyYw0tKczNfW0+cJ7mB9S3WmS7pfF5jnXI7V9tafJVz7sn1bmUPcwFezi7IdW2tFjXu2roZuy7pfHRhkRs0Ldg4SXQ7W5A27mCmAPw631WBtM9HH5o688QVmCuDd0pwarG0kBthQM4XHGLqBR8s984Je685MQfdrhUhbcOYFB4mhnj1VMwWcU4BpHTrzgueJkQ7U0G0eMwWYxpIzL3gyOmpyprCqDvJipgCTcucF++NFrW2mgIO8MJllNVgbOi/oHbo5M4Vz3a8eIsQp7nh5MEnUZNzWUA4Ck3CKO3Y2J42a8NyZKczofhcQAUuP1bxgY5qoyZnCFmYKMBZnXrA+bdTkTAHlIDBa3+KOyaEcBEZZGFTcMTmUg8AwTnHH6lTzgj5Dtx0UjkN/btH31POCXk9QOA79jFPcMTmUg0CPMYs7JueWg2CmAMrM+MUdkzt4iXIQcC0NK/r2AwrHQZmiuGNyKAeBR1MWd0wO5SCwsBvQvKBP3NZQOB5nbtF3YIO1Tm7hOMpB4sct7hiz6NsPKAeJKT+KOyaHcpAYcuYFTwOeF/RyZwo4yBsXUxd9++EAheMx4nNxx+TcwnEM3UwXQHHH5FAOEgvngRR3TA7rCBrPp6JvP6Bw3Gwz/hV9+wHlIOY6DLq4Y3IoBzHTyBX99MA6ggYKpujbDygcNwxhccfksI6gSYiLOyaHdQRNMeGKfnpgHUETkBR9+wGF45GnrbhjcigHiTatxR2TQzlIdHla0U8PrCMYTZ5X9NMDheMRdK6l6NsPKByPmBAVd0wO5SBR4uOKfnpgHcGo0F707QesIxgFIS3umNwTlIOEXXiLOyaHcpBQC2xFPz2wjmB4Bbqinx4oHA+nwFf00wPlIOETmeKOyaEcJGSIVvTTA+sIhkmoi759iRvWEQyJCBZ3TA7rCIZBRIs7JodyEO30rOinB8pBtIpQ0bcfUDiuT8SKvv2AchA9jCjumBzKQeiFYkU/PbCOILGwrOinB9YRJLQQ5aJvP6BwnIqBxR2TQzkIhRCu6KcH1hEMmjFF337AOoKBMqno2w8oBwmM8cUdk0M5SDBCv6KfHlhH0H+RWNFPDxSO+8zcom8/oHDcRzEr7pgcykH8EsPijslhHUE/xKLo2w9YR9CrGBd3TG4T5SBexLu4Y3IoB5lapFf00wPlINOJ/Ip+eqBwfHIxLfr2A8pBJoPiDk9QDjIBFHd4hXUEx2TYin56YB3BcRyi6NsfKBwfBcUdPkI5yDAGr+inB8pBBjJ6RT89sI5gfyj6DsQzlIP0QHFHYFAO0ik2K/rpgXUE28RpRT89sI6gYxZF38FD4biA4g4iKAdBcQeheK8jiKJvYjFeRxBF3/T241kOEvsV/fSIYzkIVvTTJm7lIFjRT6s4FY6j6Fu72BSOo7gjDGJRDoLijpAwfx1BrOgXImavI+gWd6DoOyQMLhxHcUf4GFoOghX9QsnEchCs6Bdapq0jiKLvUDOpcBzFHaFnTDkIijuiwIh1BLGiX0REfx3BGRR9R0e0C8dR3BEx0S0HQXFHBEW0HAQr+kVTBNcRxIp+keUWjkelHAQr+kValMpBsKJf5EWlHAQr+hkhEusIoujbEOFfRxDFHQYJ9zqC4SjuuCx1fn9Vuhx9J7t8fVm22+5zM+3Tl667nr08+j6Vculm8K91PaL7LiujH/fqplS+Gvnk6vFLpd6bwlsOEpYV/aq1zu9va+VEteps/eod309VJ313VbUn7Lt6TbqvNO9zJW+vit8X96i6j+Du66pyKQPqfHMn71Rrz4bdqFWazy6f2H3S5k/te/XktTs37OKxrhLNF9D5iEq5dtv1PjreovpCPWz9sv0VP1yq2xSZ2GrtRr7uPmkL6zqCoSn6vupsI65rfOPXau4+4ruk5G7Wak3+arlRu7/hu6t8V6ur+zq/IfZWVX1fq3VGuFRr1Fu7sla7VTu2KuJVb2tz5C507ysf1nnS5k9v6rU7/ux2+b7m3lE8Urn1Aux6vbsV4xm+6nofHW+R/0apVi/xtrpyc+u+h1vnFZfFL9UbTsJ501Zv2M6fRR8hLBwP7Yp+aksOC9tVrVHu+GXxk0THnmtFI+G0Js5jVO54C9PKTaNWbr+PaoCGh43/xlXPk/HfLLf97KbWbLWc35UZHhq2+9qD21CqltF5yMpD7b6VyMuaSJj8e+x43e3CVg4yYkW/u2r57rYuOpmr6uVltV5qDY5u+A0Poi/ifcJ19VrezjfG9UOjcXcj7yl+q9lhKPblbb2qBlXX9Xu7zDe603mIf++qiYeq/CMt8V96kH3EsLBV6+LpG9WKXS3dyP2i7tM/bM59m48hmpi2NN133F124UPDZjca8tkfKvytl2ru2+wMm9PRie/Ujyvyr2FY2MrildilRolvu6vbettDVmo1u/W+7uUbVqOG+9qAwW2YykFGruhX5b3MbaNWl3/HogGvu++K9xBVPmS5lq18rVYq1xqi47ipNe5vxR/dtdx7zsZoBrReq1ZVB8Afqlp/4Bvd2XriXz5mU5swUeePUK+1R6VP2C7FvRv8CetVfq+62EfilU4Vtkv5ctW/8u2pJnJI2ES+eINYfeDPfploDptKbl7VC3Af0Q3bpWyKhoXtlv8Fleq1+9tGo8Y3Z7kVNrveG7aS/Pem+bp7hGYdweWR84JqrXGl/srLPFB8KzR34b3YXvLvlDfo12Ij1O4qYg+WVeOu9ntFdkZNDfEXeCWGGLwlsUVSusN2Je8gep9y7UHt2LJ0rcJ2r76T7U61IXbNpdhLzkyi3NroI8N2KePk3Fi5lRlphVWFovns9yps1+o7eadb/kIb4tllh3brPlszR+oFOKFthk21nZ3vo+MtVkRjXxOd7j3fFFdig7lhK4kt4r6vq7ocqF05z9L8I+vlFI5rPj+/Pbq4oyr3XklmoqOhaabnSgxZ5dZsjVKvxE9k037dMR1zNpQYiVRli1ftCVtCDnbFfS/VXqs1VZ3hvsK3f6PKd829+6oeGm17ujtsYv5Wa8ipIm+IxXcN2SrzGx/4N7wtVpmou2+v1P3sJTXod4ib7vj7VL/UaM0ou8PmPvutfNYr/hiVRPf76HiLIpV3cuPIvKsRnniN1XqtfiNubziv+CHhPrnYakN2olM4rvUyhdkxijuqzh9iMxPVZrd483CrNlbZGaTKNsy+rjbU3pAt023Nbnu0S951yv1ccvZqqTdssl8Q/UVzdw9s2fgvXMrBivzzrj6MGzZnx1ba03Tpvt+Km5mb9mfvbdlEC6SaHDkJqN8NCFuVv5W2sLnve2DLVhLNpGynxF9cWXWjbQdYys43jY7JSrU29KCcKgfReUbhBW/WRp1xV8MUlYmH1g9k81R7KPGxhQhbqbVt+VDsvnQvt0CjZl91jiVKKmxVPmmo9YStocImOl45BGmGrW3fdYx1RLvyIMMhx4dq+Ngc4I/oRq+d/l2N9evuu2q+vQf1xeAxm4iBOi4o5pd284l7w6YO0jj3bb3v1vN1vMX7Gt8EzqYs85eZcLvRO7UD1MNe1dx0uWEbcQD6OW/cdn8Y5dVfggqbOA86ImsdYbtVW6C5C+/FWKErbDc1sdUvnRH09V3nNii3RnCqyWtNEK5k+yPHQrXKvXiQkWGz+TfyCSoN2caVndvtstjxohMqi/bKHTV1jdmq7Q/PpzW287i2m5nLUWG75MGoyGe/4aGoJCrlskqpegE3atR3W0u0h60xKmwl/k1djVtrCfuh2gyb3ZCBLrvH3qqdYRt1VmLdsi7G8V0weZu0ZVNjNicuV2IaLjZIZ9jUNlAtG2+jGo2OR1N3SlzeiF8pyz1RcqYEpWbYLmvX9Ybc2CPClqg/iPa2LGbD9+qo2bUMm+iE5ROIaaK707vD5rQNzsNXnV+q9YzZBoVNdeIPvIPlb+JevLhL+d7rdfEC5Ljzpu0R3LCp/m5I2MQfDf8bvKnW+Ku/bT/OdlMTR3rcFrvhjIbVDqkPHbMlVMt28d0ov/G0/fFTEGEbb8zWFrbGpThi72yqRu326r5el7e0wlbhDV65WlPd0kOt+zzKvXiMW3G8/bpWv+aPph7pusL7Yzdstjo47oRwWNjEYTZxwqjK9279Wv3Sg3yW6uVdXR6uqZcuG24P13lQV0wUWg9fUa9Yzq6do7H3I8LWaNgV8ex3/L6NG7X/728eanLoWL0sqf3vTsfdg7r3zUHwgLBdiRb5VpzfuK7V1J1KzZls22y0rM5a3Mh3XKl1/lV3G3vM9tPPf1y8/iWItI01G20bs4lzJuKortxU1+qMpDzC1jZme5Cj7ZKcZd3Uuht3uyRnD1fiK/lo8pHUV27YxENU1L6zh4dNHf68kY2l0/vJPVwRMxd56FiEod4VePcx7Ebn+SjRkcoD8uqdqIMJQ8ImW9GKeHb1EuRpCHWS1hYv4FYG8NptVx03zen9gLA5b03cuXLjPnnzONtN+3E28cWd7O4vu56lyySz0R8uLn4OImxjHGe7kvUUlXJFtF/2japXEN+KeedlRfxCxVbfOkUKVyWx6ctl221nuty4tRTi/iqn9uU1f/yye25UjX3cczVl99fF46tnbr6uB2dKmajcOWMu55hw5dq912XPofXmY1TEI7oPr16xPARty8MYD3IvujfLO125xSVl5/Snc1qpcu8ORctuQUfzBTS6pol2XfSFne+j4y3yRtb987h5uHee3HZ/+6q5nfkX/MfO6dyh84PJjrP98sfFj4GEbZLPBCr3LS0YqlobVe0z9EE7z4v3/Q3eHt4+3ImDLfd2276cltMMyZ1dGflINp+QV+/Fs9fvBv1qqafJuez3F9jhig9DqncP1ZrTOw+j/iCvB59AmPwMwo8XvwUTtgk+7WzSsFXuG2oTXJaaKpM96KDzy+3PUnq4bVTvrps7+2bkvhzyYM7JfNVcDtuD7gssVTuffcAjdhj9J5i4vKvWb6tjFOap6f2Qv4spzo3+5eLi+6DSNm7Vx6Rh4wNY1ctUO46Wd23V4Q/6ULtOTOph9L4cpKszGnnsauJHlEY3mWOzG855mAFvebqqj4uLwI62PRqzns0uj1FfOqnK8Ae1Rxer+nIfR7kzGT68476v5arsW9jU45cH/FFMWc8WbNhCU6kLPpq6UjfgsIXlGgTwjYdrEAIPG66uMoqnq6sIwobrRo3h8bpRkrDhingzeL0iniZsWOvDAN7X+qAKG1Yxijg/VjGiCxvWZ4swf9ZnowwbVp6MKp9WnqQNG9bUjSLf1tQlDhtWC48cH1cLJw8bPgchUny98F1D2PAJL5Hh85IeWsKGz66KBr8/u0pT2PCpfOHn/6fy6QobykFCLogFJvWFDeUgIRbMJynrDBs+Iz6kgvqMeL1hC9FCqNAU2CKmusPWLBxHOUhIBPhBLtrD1ioHwUwhBAL9iKoQhI3PFHZRDhIKbtF3QB++F4qwoXA8HIL+sKCQhA3lIPoF/4HJYQkbykE0o/go+PCErVUOgsJxcgcvA5wXhDJsrcJxDN1IuUXfQX9eS7jChnIQHfb9KfqOXthQDkLN/+KO6IRtonUEwSvSzwQKYdgmWEcQvCH+tLNQhi3Enx5pkqCKO6IWNpSDBI/+E2pDGzasIxgsHZ+9Hd6woXA8QEEUfY8W5rChHCQgnlb08yDcYUM5SAA8rujnQdjDhnUE/eZ1RT8PQh82rCPoqwCLvkeLQNiwjqBvaIo7BopE2LCOoC+oijsGikjYsI6gdz6t6OdBZMKGwnFvgi/6Hi06YUM5iAcURd+jRSlsKAeZEnFxx0DRChvWEZyCzyv6eRC1sKFwfFJ+r+jnQfTChsLxSWzSFX2PFsGwoRxkbHqKOwaKZNiwjuBYglnRz4OIhg3rCI5EXvQ9WmTD1iwcRzlIXxqLOwaKcNhQDjKY1uKOgaIcNqwjOECgK/p5EO2woXC8j4BX9PMg6mFDOUg3bUXfo0U/bCgHaReG4o6BDAgb1hFsCkdxx0BGhA3rCEqai75HMyRsWEcwRMUdAxkTtriXg4SouGMgg8IW53IQwhX9PDApbLEtHCdd0c8Ds8IWy3KQsBR9j2Za2GJXDhLC4o6BzAtbvNYRpF/RzwMTwxafdQR1rOjngZFhi0nhuFvcEZKi79EMDVsMykHCW9wxkLFhM3wdQX0r+nlgcNhMXkcwjEXfo5kctlbhuGFDt3AWfY9mdtiMLAcJfXHHQKaHzbh1BLWv6OeB+WEzq3Bc/4p+HsQhbOYUjj8Jc9H3aLEImyHlIFEp7hgoJmEzYB3B6BR3DBSbsEV8HcEIFH2PFqOwtQrHdSdncpEq7hgoVmGLajlIxIo7BopX2CJZDhKyFf08iFvYIlc4HroV/TyIX9giVTgepaLv0eIYtuiUg0SzuGOgWIYtIusIRrW4Y6CYhi0C6wiGdUU/D2IbtpAXjrvFHREq+h4txmELczlIpIs7Bop12MJaDhLqFf08iHfYQrmOYMhX9PMg7mFrFY6HZOgW3aLv0RC2UJWDGFHcMRDCJoRlHcEorOjnAcImhWIdwWis6OcBwubQXjjuFneYNy9oQtiatJaDmFTcMRDC1kZbOYhZxR0DIWwd9KwjaEbR92gIWye3cJywHMSUou/RELZuxOUgkVvRzwOErRdhOUgEV/TzAGHrh2gdwUiu6OcBwtYXSeG4YUXfoyFsAwS+jqC5xR0DIWwDBbqOoMnFHQMhbEMEto5glFf08wBhGyqYwnEzi75HQ9iGC6AcxPjijoEQtlF8LgeJ/Ip+HiBso/m4jqABK/p5gLCNw6fCcbOLvkdD2MbjRzlIXIo7BkLYxuR5HcH4FHcMhLCNzdM6guas6OcBwjaBqQvHn8Wh6Hs0hG0iU5WDxK24YyCEbTJTlIPErrhjIIRtUhOuI2jcin4eIGyTOxy/HMTAFf08QNimMWY5iJEr+nmAsE1nnHKQuBZ3DISwTWnkOoKmrujnAcI2taHrCMaw6Hs0hM2DgesIxru4YyCEzZO+5SBxL+4YCGHzqHcdQcNX9PMAYfPKLRx/Kg+7HazHtuh7NITNO6cchLdve84XsSz6Hg1h84NTDuKIe3HHQAibPxa2V5yobeN8wSAIm28WFv7pn/8TGrUhEDYfXVz8pPslhBrC5qOLC92vINwQNh8hbMMhbD5C2IZD2HyEsA2HsPkIYRsOYfMRwjYcwuYjhG04hM1HCNtwCJuPELbhEDYgg7DBGN68ffe+9R1j0z0KwubNh7cfdb8EAp/Yuz8/tb5F2PR4z957f5DQ+xt70/4twqbF57fsy5tHn998ePMn/1f+RP778cvbv5uTQvkuPz36+PXLl799eOSE7f2br+/VW/z45cubD2M8zPcXF9/rfitR9vd37NvbR2/Zn3z7v5V/7+LfT9/4Txn7rPvV+YW/F8bef2LsXY7lHqmw8XfMf8z/st5/4z9nuTFGEz9e/KH7nUTbG9GNvmW59x/awvaVfeE7IZcb5889EuS7/JP/9Xz4Iv6EeNg+sW98wPqNfXr0RbzZN+zt6Ef54+JH3W8k2pyw/f3Ro7awvRV//nwvGNORyncpO8337E8nbG5blvsm/n3HPo16kB8uLn7V/UaizQmb2A/NsH1gubfcO/ZV96vz9V3y4eiXt99EEya60S8s9+dX3nR/VG82N/Iv6y9/XLz+RfcbibZ+YXuvtv/bt59/MMR/Vu+Svf3yxQ3bh698rMbHbF/ZO/VmPw59hO8uLi7+wPTAm46wiTFajrUdGrgwxH/hb/CTnPF8dcP2SOSNsQ/vm6O1UQ/y28+6d1bUvWF/c8P2p/j3b2JHvBNfffj6+cN3hviv/A29Z+/km/wmw/ZRHuzg04VPMnkfvn58NPQRfv8ZXahnn9nb9x9U2D6zb5/fvBMt22eWe/P5Hftm1Gz0A2Nf/vY2l+OTTyaGCt/ef5AT7i/s3efPuXFmo+AVH8m8V2H78IWxPz/Jkdt7/iX7NnJ+FhlysPCGv6fcR/7ve9GYie9Y7qto1N6JN2vMH1bYfXyvNvWHj+Jr9eV7k7b+J/luPnz+qN6ZOnPw/o07AX3/2Zy/KwAAAAAAAAAY4F/UWZn/pvt1QBz8qwzbf9f9MiAO/k2G7X/ofhkQB/+CXhTI/Ct6UaDyb+hFgcr/RC8KZP4XelGg8r/RiwKV/4NeFLyYWZ4b3/+d4HdHOMeHxcRN50eg0drFZ/vFymN9UeNWZnS/f6CzLff5jhbis0vndW8AICPatfYP5Cb1bI0/OzrSuDgUWXuuJ2oibbxtm9O9DYCI+PB3fVlLJLYs61z3NgAiK5a1pjFrCZ51HP6IiRm+szc1Zu05f35MR2PinI/YdDZs+5a1onsbAJF5y3qpM2w7lvVC9zYAIrwX29cZNgvzg9hY4Dv7QGPWNnGYLT4eW9aWzobtqWUt6t4GQGRX84GPVcva1r0NgMYS78U2NGbtGX/+Zd0bAWjM8p2t6ayo9IQ//5LujQA0ti1rVWPWEmuWtat7GwCRRct6qjNsW5b1WPc2ABqi4uOJxqwd8Oef1b0RgMY539k6G7Z9/vy6twEQeWFZOzrD9hJluvGxYlnrOsOGwsn4mNFcN4nyohiZ01xetI7yovhAeRGQ0XyuKoFzVfExq7m86AnKi+ID5UVABuVFQGVJ87mqZzhXFR/LmsuLNlBeFB8oLwIyKC8CKoeaL4U/wLoL8YHyIiCD8iIgs6L5Uvg9XAofGygvAjIoLwIyKC8CKrgUHsigvAjIoLwIyKC8CKjgUnggg/IiIIPyIiCzqPlS+C1cCh8bYfikDZQXxQTKi4DMC83nql7iXFV8UJUXJTOpvj9HeVF8LIxRXpQ8nvSGPrKs0O8Omygvio9xyovyhUlvGBS2Qs8dUF4UI/O956qO7a4fpN2IJAfdMOTOHWHL9dxhB+eqYqOnvMhOpVkuf+yEQ/7LuEyWnSYLrJDtucFJUibPvxR3Zrkj/oNUkRULZ7a4Qd0s7pBt3cGF8qIY6SkvKrIczw3LtmUqw4qZbJblWP6UsZPuG5ywMZY+ShRY+iQj7nzMiidHZ+y0M2zJ1h1cKC+Kke7yoiOWtsW/p22ZSoj/eJxkc3fWfYMbNt6e2c6dz3gMRcZOMp1ha7uDC+VFMdJ9KXyGx4xj6T5hkzcUB4QtJ5N6ms2KNjCR5E1g0ulfh4YNl8LHR095UYalVGdq94RN5iTdc0Nr9J/IM4d4HMZ7UntU2FBeFCM95UUnfFDG5Vhvy5ZWKUwMDtupatmyWTnRyOe6x2y9YUN5UYz0lBcds7xICnMzlenuRgvdN7SFLSPv3PZYOVsM8kQKB4QN5UUx0vtJG7liNmGfitTkcnYiWZQRyYn+ULR5J2JI13lDW9j4HPQ4YedzJ4mzHJ9N2PwXbVaUv+yGrdj5bPikjfjoU17EB1vpHCsmxQgsV8jlRUROWfo0y4rFYprxKHbd0BY25848aLxRO8unRRd6pn7ZCduZewcF5UUxct7nXJWdKeblsTA7lT6zEwUeDrtQOBVZOSlm7J4bVI/p/N8+KaZPxfnPo9N07ixli5+k8/Zx4UT9StK9g7KPc1XxMUF5UZZNcB50XCgvihFr/PKiQMJmobwoNsYpLwoybCgvipG5CS6FH1T76MU6zlXFBy6FBypYvQjIYPUiIPNY86XwT3GuKj7wSRtABasXARmsXgRktjV/0sYaPmkjPlY0r16E8qL4wOpFQOZc8ydtoLwoRvBJG0BmgvKiQKC8KD4mKS8KAsqLYgSftAFkUF4EVFBeBGRmNZ+reoJzVfGBT9oAMigvAiooLwIyy5o/aWMDn7QRHy80lxe9RHlRfKC8CKjMaD5X9RznquID5UVABuVFQAblRUAFl8IDGZQXARmUFwEVlBcBGVwKD2RQXgRkUF4EVA41Xwp/gEvh4+Ncc3nRPsqL4gPlRUBmRfO5qj2cq4oNlBcBmTnN5UXrKC+KD5QXARnN56oSOFcVHygvAjIoLwIyKC8CMpovhd/EpfAxovnE6A4OfMSI3mtd1ixcnRwj85a1p+sEwuYWz9ou6iZjQxz6sFbX1unt7ImnXsGpqhh5Yem0iKzFypy+qK2g3CNuDmfn5v1ycTH2r26fL2C4Bh5cXOh+BRAbCBuQQdiADMIGZBA2IIOwARmEDcggbEAGYQMyCBuQQdiADMIGZBA2IIOwARmEDcggbEAGYQMyCBuQQdiADMIGZBA2IIOwARmEDcggbEAGYQMyCBuQQdiADMIGZBA2IIOwARmEDcggbEAGYQMyCBuQQdiADMIGZBA2IIOwAYXXFy0/634xYLZXraz9ofu1gOF+aoXtR92vBUz3Gr0oUHmFXhSo/IReFMi8Ri8KVF6hFwUqP6EXBTKv0YsClVfoRYHK9+hFgcxv6EWByu/oRYHK9+hFgcxv6EWByu/oRYHK97/rfgUQRYezc1P4f5PfZfZQ91sFnQ7P5y1K8+cIXEwt75ImTdld1v22gd75orv/V3corLpPt3iu+60DrQUnai/3NxNUNvdfOnFb0P32gc7SC7nTtzaekSVNebaxJZ/5xZLuTQBEZmSztvqEOGnKE9mfLs7o3ghAYlns7b19LVET9vfEC8BEIQ7mxK7eoe5A2z3bES9hTveGgMBtix29rjFqwrp4Edu6NwUE7LHoQjc0Zy2R2BBd6WPdGwMCJcZre891R417vodxm+Fmw5I1J22zujcIBOZwhe9gPUc8ej3hr2UF50qNJU676x+vuTbEqXndmwQCIg56rOmOWJs1HAAx1qE4Q6Xz+Fq3Z+LcFTpSI4lONByTA9dzdKSGEjPRp7rj1eUpZqRmWrSsvTB1osKzPcta1L1hwHfLoZqJujZwaNdEfMS2pTtafWxh1GaehVA2bKppQ+GuYbbD2bDJpg3lH2ZZCuFUVBETUhSJG0VMDw5056qvA0wRTMOnBzu6YzXADqYIZhG9qL6LDobbRz9qltnQ9qKqH8VZBIPwueiq7lANtIr5qFF2wzoXFfh8dFf3BgL/hKhAt5co2dW9gcA3C4EO2bKZrKf7H+AkgknOLWvPY6KYK9NzU6bPzyayZ1lY2cgYc96PsrFcQUn5H7YdVIcbZN77tQes0Pn9sfP/pA9hW8NhXYPMe19woS1sGXaULbCiaOKyZ6x45Dls6wibQXwoL+oIWzGXyeeYnThmrJDJ5byGbQPTUYPwnel1gUlWzCgibDk7kcizI/4f/9Yueg3bJsJmED/C5hJhO+M/OOERKzBx0OMMYYMWP8LW3o2KcGVl2OyEDxMEhM0gS8GFjU9GE6d+hA11H4YILGynshstIGzQElTYjljBTqQ8z0bRjZrEj7C5ZxAKbWFLFlmuyDAbhTY+hK3QlEjJU1bH8t9UsZA57nMKC2GLrZBeM+rCQV2T+HC6Kkg4XWUSH07EBwkn4k3iQ4lRkFBiZBIfiieDhOJJkwRbFu4VysLNggtegAwu5QMyuEgZyGD5BSCDhWWADpbMAjJYDBDIYJlToIMFnIEMlqYHOvjQDSCDjxMCOvigNCCDj4AEOvhwWyCDj+0GOnNWuK5FWLNQD26u+VDNSDfQiZrscCVEJbuiQHcFnai5xIx0LxyThOd7mIkabjksaZNZw+Fcsz0WadM/btsQWXuse2NAwLb5Xta+GMO6eBEo9jCfOABi7eg83vZsx8JBj5gQ4zZrT98lCfuiC8V4LSZmFsXeXtVzDOTJqnjyxRndGwGILL0QO9za2qDuTJ9tbMlnfoFC8BhZkI2bZb3c97ok5fg291+qJ11EaW7MnDtx4/3pzs7L9WC93NlZdZ9uESsWxdDyrkVvFxODmDo8nydN2vw5zoXG2uHs3Nzci/lgveDPMYugAQAAAAAAAAAAAAAAAAAAAAAAAAAAAAAAAAAAAAAAAAAAAAAAAAAAAAAAAAAAAAAAAAAAAAAAAAAAAAAAAAAAQET8f3hD0NJZom25AAAAJXRFWHRkYXRlOmNyZWF0ZQAyMDIxLTEwLTIzVDA1OjQ3OjQxKzAwOjAw7jDD5wAAACV0RVh0ZGF0ZTptb2RpZnkAMjAyMS0xMC0yM1QwNTo0Nzo0MSswMDowMJ9te1sAAAAASUVORK5CYII=)"
      ]
    },
    {
      "cell_type": "markdown",
      "metadata": {
        "id": "G9fkADrszw_y"
      },
      "source": [
        "4. ![no4.png](data:image/png;base64,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)"
      ]
    },
    {
      "cell_type": "markdown",
      "metadata": {
        "id": "QDkLDzeCz2uZ"
      },
      "source": [
        "5. ![no5.png](data:image/png;base64,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)"
      ]
    },
    {
      "cell_type": "markdown",
      "metadata": {
        "id": "_i8H0J4dz5E5"
      },
      "source": [
        "6. ![no6.png](data:image/png;base64,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)"
      ]
    },
    {
      "cell_type": "markdown",
      "metadata": {
        "id": "UZzWGvTcCMCn"
      },
      "source": [
        "## Conclusion"
      ]
    },
    {
      "cell_type": "markdown",
      "metadata": {
        "id": "y-QmsZdQCNVH"
      },
      "source": [
        "For your conclusion synthesize the concept and application of the laboratory. Briefly discuss what you have learned and achieved in this activity."
      ]
    },
    {
      "cell_type": "markdown",
      "metadata": {
        "id": "7z-vfoCLLp9-"
      },
      "source": [
        "Based on the experiment with the help of Google collab and Python, we were able to practice such fundamental operations. Such as Transpose, which switches the position of the rows and columns. Then Dot Product is the sum product of the vectors within the matrix. The Determinant is an operation that requires a matrix into a square matrix for it to be able to find the wanted answer. Finally, Inverse which can determine whether a matrix is solvable or not and identify its characteristic as a system of linear equation."
      ]
    }
  ]
}