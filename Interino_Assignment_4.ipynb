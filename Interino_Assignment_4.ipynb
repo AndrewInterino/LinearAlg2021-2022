{
  "nbformat": 4,
  "nbformat_minor": 0,
  "metadata": {
    "colab": {
      "name": "Assignment 4.ipynb",
      "provenance": [],
      "include_colab_link": true
    },
    "kernelspec": {
      "name": "python3",
      "display_name": "Python 3"
    },
    "language_info": {
      "name": "python"
    }
  },
  "cells": [
    {
      "cell_type": "markdown",
      "metadata": {
        "id": "view-in-github",
        "colab_type": "text"
      },
      "source": [
        "<a href=\"https://colab.research.google.com/github/AndrewInterino/LinearAlg2021-2022/blob/main/Interino_Assignment_4.ipynb\" target=\"_parent\"><img src=\"https://colab.research.google.com/assets/colab-badge.svg\" alt=\"Open In Colab\"/></a>"
      ]
    },
    {
      "cell_type": "markdown",
      "metadata": {
        "id": "pwOxvAVp7-um"
      },
      "source": [
        "# Linear Algebra for ECE\n",
        "## Laboratory 4 : Matrices "
      ]
    },
    {
      "cell_type": "markdown",
      "metadata": {
        "id": "ybryo6eQdbVp"
      },
      "source": [
        "# Discussion"
      ]
    },
    {
      "cell_type": "code",
      "metadata": {
        "id": "iIgf4vOY8bFx"
      },
      "source": [
        "import numpy as np\n",
        "import matplotlib.pyplot as plt\n",
        "import scipy.linalg as la\n",
        "%matplotlib inline"
      ],
      "execution_count": null,
      "outputs": []
    },
    {
      "cell_type": "markdown",
      "metadata": {
        "id": "EB_JV6SbdoJ3"
      },
      "source": [
        "### Matrices"
      ]
    },
    {
      "cell_type": "markdown",
      "metadata": {
        "id": "2wkWTA3Q9ShI"
      },
      "source": [
        "$$\n",
        "A = \\left\\{\n",
        "    \\begin{array}\\\n",
        "        x + y \\\\ \n",
        "        4x - 10y\n",
        "    \\end{array}\n",
        "\\right. \\\\\n",
        "B = \\left\\{\n",
        "    \\begin{array}\\\n",
        "        x+y+z \\\\ \n",
        "        3x -2y -z \\\\\n",
        "        -x + 4y +2z\n",
        "    \\end{array}\n",
        "\\right. $$"
      ]
    },
    {
      "cell_type": "markdown",
      "metadata": {
        "id": "1qbQdoE4-NvD"
      },
      "source": [
        "$$\n",
        "A=\\begin{bmatrix} 1 & 1 \\\\ 4 & {-10}\\end{bmatrix} \\\\\n",
        "B=\\begin{bmatrix} 1 & 1 & 1 \\\\ 3 & -2 & -1 \\\\ -1 & 4 & 2\\end{bmatrix}\n",
        "$$"
      ]
    },
    {
      "cell_type": "markdown",
      "metadata": {
        "id": "1cy9S2awdrOY"
      },
      "source": [
        "### Declaring Matrices"
      ]
    },
    {
      "cell_type": "markdown",
      "metadata": {
        "id": "t83RtHY4-YBg"
      },
      "source": [
        "$$A=\\begin{bmatrix}\n",
        "a_{(0,0)}&a_{(0,1)}&\\dots&a_{(0,j-1)}\\\\\n",
        "a_{(1,0)}&a_{(1,1)}&\\dots&a_{(1,j-1)}\\\\\n",
        "\\vdots&\\vdots&\\ddots&\\vdots&\\\\\n",
        "a_{(i-1,0)}&a_{(i-1,1)}&\\dots&a_{(i-1,j-1)}\n",
        "\\end{bmatrix}\n",
        "$$"
      ]
    },
    {
      "cell_type": "code",
      "metadata": {
        "id": "9qZM5wQAAXeo"
      },
      "source": [
        "def describe_mat(matrix):\n",
        "    print(f'Matrix:\\n{matrix}\\n\\nShape:\\t{matrix.shape}\\nRank:\\t{matrix.ndim}\\n')"
      ],
      "execution_count": null,
      "outputs": []
    },
    {
      "cell_type": "code",
      "metadata": {
        "colab": {
          "base_uri": "https://localhost:8080/"
        },
        "id": "M05NTnB5Adr_",
        "outputId": "b4181e2a-fbc7-409a-bf92-6046d72c472f"
      },
      "source": [
        "A = np.array([\n",
        "          [1, 2],\n",
        "          [3, 1]\n",
        "])\n",
        "describe_mat(A)"
      ],
      "execution_count": null,
      "outputs": [
        {
          "output_type": "stream",
          "name": "stdout",
          "text": [
            "Matrix:\n",
            "[[1 2]\n",
            " [3 1]]\n",
            "\n",
            "Shape:\t(2, 2)\n",
            "Rank:\t2\n",
            "\n"
          ]
        }
      ]
    },
    {
      "cell_type": "code",
      "metadata": {
        "colab": {
          "base_uri": "https://localhost:8080/"
        },
        "id": "Se5XUlJiA8Wv",
        "outputId": "b40024bd-0670-4bbe-de23-58a023e84789"
      },
      "source": [
        "G = np.array([\n",
        "              [1,1],\n",
        "              [3,1]\n",
        "])\n",
        "describe_mat(G)"
      ],
      "execution_count": null,
      "outputs": [
        {
          "output_type": "stream",
          "name": "stdout",
          "text": [
            "Matrix:\n",
            "[[1 1]\n",
            " [3 1]]\n",
            "\n",
            "Shape:\t(2, 2)\n",
            "Rank:\t2\n",
            "\n"
          ]
        }
      ]
    },
    {
      "cell_type": "code",
      "metadata": {
        "colab": {
          "base_uri": "https://localhost:8080/"
        },
        "id": "8ojOGBo1C9lQ",
        "outputId": "425ae39c-1a00-46d7-f82f-c62e4350423d"
      },
      "source": [
        "B = np.array([\n",
        "              [4,5],\n",
        "              [3,2],\n",
        "              [9,7]\n",
        "])\n",
        "describe_mat(B)"
      ],
      "execution_count": null,
      "outputs": [
        {
          "output_type": "stream",
          "name": "stdout",
          "text": [
            "Matrix:\n",
            "[[4 5]\n",
            " [3 2]\n",
            " [9 7]]\n",
            "\n",
            "Shape:\t(3, 2)\n",
            "Rank:\t2\n",
            "\n"
          ]
        }
      ]
    },
    {
      "cell_type": "code",
      "metadata": {
        "colab": {
          "base_uri": "https://localhost:8080/"
        },
        "id": "fhB56L6mDiT_",
        "outputId": "1a4524ae-3b18-4fe0-d48f-bb8bcd46c7a4"
      },
      "source": [
        "H = np.array([1, 5, 6, 4, 8])\n",
        "describe_mat(H)"
      ],
      "execution_count": null,
      "outputs": [
        {
          "output_type": "stream",
          "name": "stdout",
          "text": [
            "Matrix:\n",
            "[1 5 6 4 8]\n",
            "\n",
            "Shape:\t(5,)\n",
            "Rank:\t1\n",
            "\n"
          ]
        }
      ]
    },
    {
      "cell_type": "markdown",
      "metadata": {
        "id": "WgTSEcBed6_e"
      },
      "source": [
        "### According to shape"
      ]
    },
    {
      "cell_type": "markdown",
      "metadata": {
        "id": "nnRBuccVd9If"
      },
      "source": [
        "#### Row and Column Matrices"
      ]
    },
    {
      "cell_type": "code",
      "metadata": {
        "colab": {
          "base_uri": "https://localhost:8080/"
        },
        "id": "n4L8he9ZEGH_",
        "outputId": "590953ff-3f12-46c9-f54b-f13d2ea94515"
      },
      "source": [
        "row_mat_1D = np.array([\n",
        "                       1,2,3\n",
        "])\n",
        "row_mat_2D = np.array([\n",
        "                       [1,3,2]\n",
        "])\n",
        "describe_mat(row_mat_1D)\n",
        "describe_mat(row_mat_2D)"
      ],
      "execution_count": null,
      "outputs": [
        {
          "output_type": "stream",
          "name": "stdout",
          "text": [
            "Matrix:\n",
            "[1 2 3]\n",
            "\n",
            "Shape:\t(3,)\n",
            "Rank:\t1\n",
            "\n",
            "Matrix:\n",
            "[[1 3 2]]\n",
            "\n",
            "Shape:\t(1, 3)\n",
            "Rank:\t2\n",
            "\n"
          ]
        }
      ]
    },
    {
      "cell_type": "code",
      "metadata": {
        "colab": {
          "base_uri": "https://localhost:8080/"
        },
        "id": "4xh8kvAwFU_5",
        "outputId": "0079a299-11b0-4e52-9c87-95f25df62a28"
      },
      "source": [
        "col_mat = np.array([\n",
        "                  [1],\n",
        "                  [2],\n",
        "                  [3]       \n",
        "])\n",
        "describe_mat(col_mat)"
      ],
      "execution_count": null,
      "outputs": [
        {
          "output_type": "stream",
          "name": "stdout",
          "text": [
            "Matrix:\n",
            "[[1]\n",
            " [2]\n",
            " [3]]\n",
            "\n",
            "Shape:\t(3, 1)\n",
            "Rank:\t2\n",
            "\n"
          ]
        }
      ]
    },
    {
      "cell_type": "markdown",
      "metadata": {
        "id": "9U9RjGnNeEf3"
      },
      "source": [
        "#### Square Matrices"
      ]
    },
    {
      "cell_type": "code",
      "metadata": {
        "id": "8R0N8p85Fmre"
      },
      "source": [
        "### Square matrices\n",
        "def describe_mat(matrix):\n",
        "    is_square = True if matrix.shape[0] == matrix.shape[1] else False \n",
        "    print(f'Matrix:\\n{matrix}\\n\\nShape:\\t{matrix.shape}\\nRank:\\t{matrix.ndim}\\nIs Square: {is_square}\\n')"
      ],
      "execution_count": null,
      "outputs": []
    },
    {
      "cell_type": "code",
      "metadata": {
        "id": "1G6d4fkEeR18"
      },
      "source": [
        "square_mat = np.array([\n",
        "    [1,2,5],\n",
        "    [3,3,8],\n",
        "    [6,1,2]\n",
        "])\n",
        "\n",
        "non_square_mat = np.array([\n",
        "    [1,2,5],\n",
        "    [3,3,8]\n",
        "])\n",
        "describe_mat(square_mat)\n",
        "describe_mat(non_square_mat)"
      ],
      "execution_count": null,
      "outputs": []
    },
    {
      "cell_type": "markdown",
      "metadata": {
        "id": "WJGHKgTFePjh"
      },
      "source": [
        "### According to element values"
      ]
    },
    {
      "cell_type": "markdown",
      "metadata": {
        "id": "aCSefxhReZZG"
      },
      "source": [
        "#### Null Matrix"
      ]
    },
    {
      "cell_type": "code",
      "metadata": {
        "id": "ZMp2lRS1I11N"
      },
      "source": [
        "## Null martix\n",
        "def describe_mat(matrix):\n",
        "  if matrix.size > 0:\n",
        "    is_square = True if matrix.shape[0] == matrix.shape[1] else False \n",
        "    print(f'Matrix:\\n{matrix}\\n\\nShape:\\t{matrix.shape}\\nRank:\\t{matrix.ndim}\\nIs Square: {is_square}\\n')\n",
        "  else:\n",
        "    print('Matrix is Null')"
      ],
      "execution_count": null,
      "outputs": []
    },
    {
      "cell_type": "code",
      "metadata": {
        "id": "Zguq8cKhI_au"
      },
      "source": [
        "null_mat = np.array([])\n",
        "describe_mat(null_mat)"
      ],
      "execution_count": null,
      "outputs": []
    },
    {
      "cell_type": "markdown",
      "metadata": {
        "id": "7yN8wAHwecBP"
      },
      "source": [
        "#### Zero Matrix"
      ]
    },
    {
      "cell_type": "code",
      "metadata": {
        "colab": {
          "base_uri": "https://localhost:8080/"
        },
        "id": "m02mMGZCJiT3",
        "outputId": "7b376331-583a-4f2c-e03b-9d19dfdc6ac8"
      },
      "source": [
        "## Zero Matrix\n",
        "zero_mat_row = np.zeros((1,2))\n",
        "zero_mat_sqr = np.zeros((2,2))\n",
        "zero_mat_rct = np.zeros((3,2))\n",
        "\n",
        "print(f'Zero Row Matrix: \\n{zero_mat_row}')\n",
        "print(f'Zero Square Matrix: \\n{zero_mat_sqr}')\n",
        "print(f'Zero Rectangular Matrix: \\n{zero_mat_rct}')"
      ],
      "execution_count": null,
      "outputs": [
        {
          "output_type": "stream",
          "name": "stdout",
          "text": [
            "Zero Row Matrix: \n",
            "[[0. 0.]]\n",
            "Zero Square Matrix: \n",
            "[[0. 0.]\n",
            " [0. 0.]]\n",
            "Zero Rectangular Matrix: \n",
            "[[0. 0.]\n",
            " [0. 0.]\n",
            " [0. 0.]]\n"
          ]
        }
      ]
    },
    {
      "cell_type": "markdown",
      "metadata": {
        "id": "lzhf1XeVehUQ"
      },
      "source": [
        "#### Ones Matrix"
      ]
    },
    {
      "cell_type": "code",
      "metadata": {
        "colab": {
          "base_uri": "https://localhost:8080/"
        },
        "id": "L__LEQqUKfUe",
        "outputId": "d9831946-0751-4446-8e27-b0028ce3d1bd"
      },
      "source": [
        "#One Matrix\n",
        "ones_mat_row = np.ones((1,2))\n",
        "ones_mat_sqr = np.ones((2,2))\n",
        "ones_mat_rct = np.ones((3,2))\n",
        "\n",
        "print(f'ones Row Matrix: \\n{ones_mat_row}')\n",
        "print(f'ones Square Matrix: \\n{ones_mat_sqr}')\n",
        "print(f'onesRectangular Matrix: \\n{ones_mat_rct}')"
      ],
      "execution_count": null,
      "outputs": [
        {
          "output_type": "stream",
          "name": "stdout",
          "text": [
            "ones Row Matrix: \n",
            "[[1. 1.]]\n",
            "ones Square Matrix: \n",
            "[[1. 1.]\n",
            " [1. 1.]]\n",
            "onesRectangular Matrix: \n",
            "[[1. 1.]\n",
            " [1. 1.]\n",
            " [1. 1.]]\n"
          ]
        }
      ]
    },
    {
      "cell_type": "markdown",
      "metadata": {
        "id": "Ony6RTkTelBH"
      },
      "source": [
        "#### Diagonal Matrix"
      ]
    },
    {
      "cell_type": "code",
      "metadata": {
        "id": "CfxqC6uNKzO2"
      },
      "source": [
        "## Diagonal Matrix\n",
        "np.array([\n",
        "          [2,0,0],\n",
        "          [0,3,0],\n",
        "          [0,0,5]\n",
        "])"
      ],
      "execution_count": null,
      "outputs": []
    },
    {
      "cell_type": "code",
      "metadata": {
        "colab": {
          "base_uri": "https://localhost:8080/"
        },
        "id": "Cj9j-YM4LKAt",
        "outputId": "3accf779-9847-4132-8543-a7a6cd2f987a"
      },
      "source": [
        "d = np.diag([2,3,5,7,2,5])\n",
        "d"
      ],
      "execution_count": null,
      "outputs": [
        {
          "output_type": "execute_result",
          "data": {
            "text/plain": [
              "array([[2, 0, 0, 0, 0, 0],\n",
              "       [0, 3, 0, 0, 0, 0],\n",
              "       [0, 0, 5, 0, 0, 0],\n",
              "       [0, 0, 0, 7, 0, 0],\n",
              "       [0, 0, 0, 0, 2, 0],\n",
              "       [0, 0, 0, 0, 0, 5]])"
            ]
          },
          "metadata": {},
          "execution_count": 24
        }
      ]
    },
    {
      "cell_type": "markdown",
      "metadata": {
        "id": "zEnYgYYtepF3"
      },
      "source": [
        "#### Identity Matrix"
      ]
    },
    {
      "cell_type": "code",
      "metadata": {
        "colab": {
          "base_uri": "https://localhost:8080/"
        },
        "id": "Bvu87cNGLUAd",
        "outputId": "6f014c10-ae0d-4e94-f87d-07da869db9f5"
      },
      "source": [
        "## Identity Matrix\n",
        "np.eye(5)"
      ],
      "execution_count": null,
      "outputs": [
        {
          "output_type": "execute_result",
          "data": {
            "text/plain": [
              "array([[1., 0., 0., 0., 0.],\n",
              "       [0., 1., 0., 0., 0.],\n",
              "       [0., 0., 1., 0., 0.],\n",
              "       [0., 0., 0., 1., 0.],\n",
              "       [0., 0., 0., 0., 1.]])"
            ]
          },
          "metadata": {},
          "execution_count": 26
        }
      ]
    },
    {
      "cell_type": "markdown",
      "metadata": {
        "id": "YJNfqRace4Be"
      },
      "source": [
        "#### Upper Triangular Matrix"
      ]
    },
    {
      "cell_type": "code",
      "metadata": {
        "id": "ltfSsknfLiSE"
      },
      "source": [
        "## Upper Triangular Matrix\n",
        "np.array([\n",
        "    [1,2,3],\n",
        "    [0,3,1],\n",
        "    [0,0,5]\n",
        "])"
      ],
      "execution_count": null,
      "outputs": []
    },
    {
      "cell_type": "markdown",
      "metadata": {
        "id": "B7gl50oee-S5"
      },
      "source": [
        "#### Lower Triangular Matrix"
      ]
    },
    {
      "cell_type": "code",
      "metadata": {
        "id": "esUOg_O8Ly1N"
      },
      "source": [
        "## Lower Triangular Matrix\n",
        "np.array([\n",
        "    [1,0,0],\n",
        "    [5,3,0],\n",
        "    [7,8,5]\n",
        "])"
      ],
      "execution_count": null,
      "outputs": []
    },
    {
      "cell_type": "code",
      "metadata": {
        "colab": {
          "base_uri": "https://localhost:8080/"
        },
        "id": "fVngHIo1MApk",
        "outputId": "32a60d3b-19ca-4edd-f568-e2e4304db7eb"
      },
      "source": [
        "## Practice 1\n",
        "theta = np.array([\n",
        "          [5, 3, -1]\n",
        "])\n",
        "describe_mat(theta)"
      ],
      "execution_count": null,
      "outputs": [
        {
          "output_type": "stream",
          "name": "stdout",
          "text": [
            "Matrix:\n",
            "[[ 5  3 -1]]\n",
            "\n",
            "Shape:\t(1, 3)\n",
            "Rank:\t2\n",
            "Is Square: False\n",
            "\n"
          ]
        }
      ]
    },
    {
      "cell_type": "code",
      "metadata": {
        "colab": {
          "base_uri": "https://localhost:8080/"
        },
        "id": "rqSju90VM8XG",
        "outputId": "289274fb-a792-4a72-e50c-8fbd0f7dfedf"
      },
      "source": [
        "## Practice 2\n",
        "A = np.array([\n",
        "          [1, 2, 1],\n",
        "          [0, 4, -1],\n",
        "          [0, 0, 10]\n",
        "\n",
        "])\n",
        "describe_mat(A)"
      ],
      "execution_count": null,
      "outputs": [
        {
          "output_type": "stream",
          "name": "stdout",
          "text": [
            "Matrix:\n",
            "[[ 1  2  1]\n",
            " [ 4  0 -1]\n",
            " [ 0  0 10]]\n",
            "\n",
            "Shape:\t(3, 3)\n",
            "Rank:\t2\n",
            "Is Square: True\n",
            "\n"
          ]
        }
      ]
    },
    {
      "cell_type": "code",
      "metadata": {
        "colab": {
          "base_uri": "https://localhost:8080/",
          "height": 129
        },
        "id": "-8UapEHAN3-0",
        "outputId": "f0bc59d5-deba-495f-d018-e74fa373350a"
      },
      "source": [
        "## Practice 3\n",
        "$$\n",
        "G = \\left\\{\n",
        "    \\begin{array}\\\n",
        "        x + 7x_2+8x_3\\\\ \n",
        "        2x + 2x_2+2x_3\\\\\n",
        "        4x+6x_2+7x_3\n",
        "    \\end{array}\n",
        "\\right. \\\\\n",
        "$$"
      ],
      "execution_count": null,
      "outputs": [
        {
          "output_type": "error",
          "ename": "SyntaxError",
          "evalue": "ignored",
          "traceback": [
            "\u001b[0;36m  File \u001b[0;32m\"<ipython-input-43-559444ba8186>\"\u001b[0;36m, line \u001b[0;32m1\u001b[0m\n\u001b[0;31m    $$\u001b[0m\n\u001b[0m    ^\u001b[0m\n\u001b[0;31mSyntaxError\u001b[0m\u001b[0;31m:\u001b[0m invalid syntax\n"
          ]
        }
      ]
    },
    {
      "cell_type": "code",
      "metadata": {
        "id": "EKY0mhrYPRgO"
      },
      "source": [
        "## practice 4\n"
      ],
      "execution_count": null,
      "outputs": []
    },
    {
      "cell_type": "markdown",
      "metadata": {
        "id": "aM8I2NajP-NC"
      },
      "source": [
        "# Matrix Algebra"
      ]
    },
    {
      "cell_type": "markdown",
      "metadata": {
        "id": "RXqXNwmpfJSn"
      },
      "source": [
        "### Addition"
      ]
    },
    {
      "cell_type": "code",
      "metadata": {
        "colab": {
          "base_uri": "https://localhost:8080/"
        },
        "id": "H5xRt1HTQAfd",
        "outputId": "48a48620-06fa-4a3e-94c3-487b03ebd619"
      },
      "source": [
        "## Matrix Algrabra\n",
        "## addition\n",
        "A = np.array([\n",
        "              [1,2],\n",
        "              [2,3],\n",
        "              [4,1]\n",
        "])\n",
        "B = np.array([\n",
        "              [2,2],\n",
        "              [0,0],\n",
        "              [1,1]\n",
        "])\n",
        "A+B"
      ],
      "execution_count": null,
      "outputs": [
        {
          "output_type": "execute_result",
          "data": {
            "text/plain": [
              "array([[3, 4],\n",
              "       [2, 3],\n",
              "       [5, 2]])"
            ]
          },
          "metadata": {},
          "execution_count": 44
        }
      ]
    },
    {
      "cell_type": "code",
      "metadata": {
        "colab": {
          "base_uri": "https://localhost:8080/"
        },
        "id": "FKLcZOLQQgAz",
        "outputId": "f5f27ebe-5eff-457f-d591-9d17b7143c1a"
      },
      "source": [
        "### Broadcasting\n",
        "2+A"
      ],
      "execution_count": null,
      "outputs": [
        {
          "output_type": "execute_result",
          "data": {
            "text/plain": [
              "array([[3, 4],\n",
              "       [4, 5],\n",
              "       [6, 3]])"
            ]
          },
          "metadata": {},
          "execution_count": 45
        }
      ]
    },
    {
      "cell_type": "markdown",
      "metadata": {
        "id": "TtCYEFiTfOZd"
      },
      "source": [
        "### Subtraction"
      ]
    },
    {
      "cell_type": "code",
      "metadata": {
        "colab": {
          "base_uri": "https://localhost:8080/"
        },
        "id": "kj1jVASlQr2T",
        "outputId": "683a7325-3991-4f63-a567-41e53ac74974"
      },
      "source": [
        "## Subtraction\n",
        "A-B"
      ],
      "execution_count": null,
      "outputs": [
        {
          "output_type": "execute_result",
          "data": {
            "text/plain": [
              "array([[-1,  0],\n",
              "       [ 2,  3],\n",
              "       [ 3,  0]])"
            ]
          },
          "metadata": {},
          "execution_count": 46
        }
      ]
    },
    {
      "cell_type": "code",
      "metadata": {
        "colab": {
          "base_uri": "https://localhost:8080/"
        },
        "id": "zQNyHs4uQ5uE",
        "outputId": "b4d8bf0b-d6c8-419b-cdfb-155db9501cb6"
      },
      "source": [
        "### Broadcasting \n",
        "3-B"
      ],
      "execution_count": null,
      "outputs": [
        {
          "output_type": "execute_result",
          "data": {
            "text/plain": [
              "array([[1, 1],\n",
              "       [3, 3],\n",
              "       [2, 2]])"
            ]
          },
          "metadata": {},
          "execution_count": 47
        }
      ]
    },
    {
      "cell_type": "markdown",
      "metadata": {
        "id": "s3gn5KCNfQiI"
      },
      "source": [
        "### Element-wise Multiplication"
      ]
    },
    {
      "cell_type": "code",
      "metadata": {
        "colab": {
          "base_uri": "https://localhost:8080/"
        },
        "id": "mFaJ6y7wRE3M",
        "outputId": "e877023c-0fb8-4ea5-e501-b5b4cd7dd2dc"
      },
      "source": [
        "## Element-wise Multiplication\n",
        "A*B"
      ],
      "execution_count": null,
      "outputs": [
        {
          "output_type": "execute_result",
          "data": {
            "text/plain": [
              "array([[2, 4],\n",
              "       [0, 0],\n",
              "       [4, 1]])"
            ]
          },
          "metadata": {},
          "execution_count": 48
        }
      ]
    },
    {
      "cell_type": "code",
      "metadata": {
        "colab": {
          "base_uri": "https://localhost:8080/"
        },
        "id": "6hYRdcxnRp27",
        "outputId": "ce15d2e3-68ff-47ce-8a21-9e7bdc74a051"
      },
      "source": [
        "### broadcasting\n",
        "2*A"
      ],
      "execution_count": null,
      "outputs": [
        {
          "output_type": "execute_result",
          "data": {
            "text/plain": [
              "array([[2, 4],\n",
              "       [4, 6],\n",
              "       [8, 2]])"
            ]
          },
          "metadata": {},
          "execution_count": 49
        }
      ]
    },
    {
      "cell_type": "code",
      "metadata": {
        "colab": {
          "base_uri": "https://localhost:8080/"
        },
        "id": "nu91U0B9SIME",
        "outputId": "0c531048-34ad-4963-c3c7-eeb38c6fd3bf"
      },
      "source": [
        "## Division\n",
        "A/B"
      ],
      "execution_count": null,
      "outputs": [
        {
          "output_type": "stream",
          "name": "stderr",
          "text": [
            "/usr/local/lib/python3.7/dist-packages/ipykernel_launcher.py:2: RuntimeWarning: divide by zero encountered in true_divide\n",
            "  \n"
          ]
        },
        {
          "output_type": "execute_result",
          "data": {
            "text/plain": [
              "array([[0.5, 1. ],\n",
              "       [inf, inf],\n",
              "       [4. , 1. ]])"
            ]
          },
          "metadata": {},
          "execution_count": 50
        }
      ]
    },
    {
      "cell_type": "code",
      "metadata": {
        "colab": {
          "base_uri": "https://localhost:8080/"
        },
        "id": "ZgswkIVuSipb",
        "outputId": "2a2948ae-4e2f-49b0-a8eb-86459a480ced"
      },
      "source": [
        "alpha = 10**-10\n",
        "A/(alpha+B)"
      ],
      "execution_count": null,
      "outputs": [
        {
          "output_type": "execute_result",
          "data": {
            "text/plain": [
              "array([[5.e-01, 1.e+00],\n",
              "       [2.e+10, 3.e+10],\n",
              "       [4.e+00, 1.e+00]])"
            ]
          },
          "metadata": {},
          "execution_count": 51
        }
      ]
    },
    {
      "cell_type": "markdown",
      "metadata": {
        "id": "7AvKkErLSvLS"
      },
      "source": [
        "# Activity"
      ]
    },
    {
      "cell_type": "markdown",
      "metadata": {
        "id": "_OB4GfrRfl5u"
      },
      "source": [
        "### Task 1"
      ]
    },
    {
      "cell_type": "markdown",
      "metadata": {
        "id": "h64atza-hlot"
      },
      "source": [
        "![Flowchart 1.png](data:image/png;base64,iVBORw0KGgoAAAANSUhEUgAAAjIAAANGCAYAAADnCGQ6AAAAAXNSR0IArs4c6QAAAARnQU1BAACxjwv8YQUAAAAJcEhZcwAADsMAAA7DAcdvqGQAAEWKSURBVHhe7d0LlGR1fej7f8t7BphpGBnkITM8BBVlVK5CQCMaXXiiTo64ciDcGDVeczQSx6wcTI4eRZcmR45HUGK8MSYaE3VOjuSs0TyIUUGBgF6UQTE+eMwojLwGmBmY4Slz+7d7757qmqru6u567H/V57NWra69q7qqu02mvvz3r2qP7ZyQAAAy9KTyKwBAdoQMAJAtIQMAZEvIAADZEjIAQLaEDACQLW+/hgmrzrq4vAb1tf7SNeU1oCJkYEKEzBnnXlZuQf1c/rkzhQy04NASAJAtIQMAZEvIAADZEjIAQLaEDACQLSEDAGRLyAAA2RIyAEC2hAwAkC0hAwBkS8gAANkSMgBAtoQMAJAtIQMAZEvIAADZEjIAQLaEDACQLSEDAGRLyAAA2RIyAEC2hAwAkC0hAwBkS8gAANka2zmhvA4ja9VZF6czzr2s3Oqvo5edmFYd/qL01PGnpSX7LUtLJy6N7nlwU3rsF4+mn2/dkP79zm+l62//RnkLo+Tyz52Z1l+6ptwCKkIGJgwiZCJgXn3im9JRB51Q7unM9ke3pe/edkX6+xv+rNzDKBAy0JpDSzAA5558fjrvRR+ec8SExXsfmF54zKvTe1/xt+UegNFlRQYm9HNFZs2LL55XwLTyf274RPrmLevKrZn9l5d+Ih22ZGW5NXnI6hNX/VG6f8fd5R7CK57xunTa0a8sgjE8+otH0rc2/svAV8CsyEBrVmSgj2IlZqaIibj4yd3r0413XFtc4nrs64bGiAlP3v/w9KynnFpuUTlsydFTERP23mOfdMLy55VbQN0IGeiT8UWHpGcfflq5NV0M8l7yzT9If/yV306fuOoP019ec0Fxieux7x1/f2b6yo8+37WoARgWQgb65DUnvbX4r/tmsfLyP772lnTr5hvLPa39879/toiaCJ6f3vej4pDH7VtvKW8FGE1CBvpk5cHPKK/tEu9AipWXuYjgufiKNemd61bPGj8Aw07IQB/EYaXGuYvKD++8rrwGwHwIGeiDdkO1t93/4/IaAPPh7dcwoddvv37RMavTfzzpLeXWLnN5+/RCXfSa3X+/bj5/rDqdcdxr0/IDnjpx/cnFpxQ3zgTFTM/Whzan+3fckzbe9+/FzE8vxUzSsw77palPSo7n3/zgz9Mtm78/41upf/vUC9KJTzml3JoUQ9YxnzRI3n4NrQkZmDCokIl3IvXiBb35M2PmI174//zqd806hxPBcMyyZ835+eLxv7fp6vS56y4s93QmPhH5jae8Z9rnvPzjjX81FWQRVL/3yx/Z7VQPjT777T8pTvXwnCN+Ob3u+X9U7p2/eJt8vMOsl4QMtObQEvTBA49sKa9Nd/whzy2vdddCIybEakqcA6qdiIAPvPLvik8Zns/zxeOf/NSXFB8QOBdHLDlmt895Oe6Q5xTXO4mYcMA+S4uvzz3yjOLrQh2+9OjyGtBvQgb6oN2JHuPD8WK1pq7222v/8tp0EQxnP+/3Ww4wz1X8Dd5y+n8vtxamk4jphb1avK0e6A8hA30Sn/3Syq+e+MZidaObuvXBeXG27VZieLnVZ+LEYZ74cL/4bJyYv6kucQgtDr/E281bedohqxYcdBFDrc4cXn1KcuPfpPr8nZvuvr74ulAxewMMhhkZmNCPcy21m5MJ850XaSdWTJrfKdXqua/72dfbvnMqDoe1W0lq/l0iEn5013c6Oh9Ru3NNRQDFBwPOptXfMZ4/TrlQib/nFTddutv8UfxdVhz09Gm/V0RkdagpxOGm5p9vy0Ob0+U/+d/l1u6+f8c1PT9nlRkZaE3IwIR+nTRytiHceEG+6pYv9eSdTN1811IEwR++7C+KdyHN5+dt93eIUzHMZqYgrCzk3VjetQR5cWgJ+uhT17y3+K/7dmJVIV6k/+vL/3LBh1p6KVYf4pOF48V9PsFw6Q0fL69N143fOVaZehGCQD0JGeijCICPfeP3Z4yZ0Bg08fbmYRNv6W41L7N4nyXltfmJlZNuHZ4D8iBkoM+qmImZkNlE0MTbm+Ntzq94xuvKvcNhx6MPlNd2OWzJwt7GvPa7F5XXgFEhZGAAImZisPXKW75UDKbOJt7m/PITfqNYoen2O5yGRbwzyUk0YfQIGRigeJfPf//X/6d4Ee4kaGKFJj6JdhgPNy1UJ++YAoaPkIEBi9WZv7zmgqmgafdZK43icNNcPxF32MXfERg9QgZqogqad//DrxeHnGYLmvisk3NPPr/cqoc4D1KsFsWH08VhsPe+4m+Lt323ujR+7gvAfAkZqKE4TFIFzUyHnOJcRREPgxbxEuFy3os+XKwWxSf1RqgM4nQBwGgRMlBj1QzNTO9wevWJbyqv9V9EVARMxIsVFmAQhAzUXPUOp3bnaopDTINYlYl3T/3OaR8UMMBACRnIxF9/+4/bzs2sOvxF5bX+qM5+3e7EkRFdcaLIz377T4rTDrS6xIfXASyUkIFMxMrMd2+7otyaLsKin37r+f+1ZcTEIbA4FHbxFWuKEza2O+kkQLcIGcjI+k3fLK8NTkTTTGev9jZooJ+EDGSkDp9ce8Zxry2vTdfuRJAAvSRkICP9PoTUSqufIeZdnB4AGAQhAxl51lNOLa9N53AOMKqEDGTkuUeeUV6brg6zM3O1V4thYYC5EjLQY3Eo5kOr1xUfHLeQz3uJz21pNWS75aHNHR3WafUJwccd8pzy2sIs2vuA8lpn4jxRdf3U34cf21Fe28Vn5UB9CRnosTgcFG9VjhfD+Aj/3z71gjnPukTExOe2tPL9n/9beW1mWyeCp9kRS48tr3Xu51tvLa/tsnjvA9OLjlldbs0sIqZVkNXFbff/uLw23Sue8bryGlAnQgb67MSnnJL+8GV/UbygR6DMJIInwqfdh8/FkG2cxqAT9++4p7y2S6yKxHmSmsXzRpi0Cq5rN17WcnXn5U8/d8ZAi9v+y0s/UeuICd+/45ry2nTPP+rlLX+/+N9wtv8dgd4Z2zmhvA4ja9VZF6czzr2s3OqueJF73fP/qNzaXURBrJbc9cBt5Z40ES37TrxoPnnGQxrxffHhc50O+kaY/MeT3lJuTReHp27fcnNx/aBFy9Oy/Q8rwik+nTc+2K5ZnN06TgzZLH6m7226Ol2z8Z+mDnfF7x+zPU875DnTYiyes/nw0o13XFucAXwm7X6P+LTgbonDgK3+9vH73bF1Q3rgkS3F/0aHHHBE8TvE7/K+f/6/y3v1xuWfOzOtv3RNuQVUrMhAj8Wn28YLXTvVYadYqaku1dmj24lTFaz9zkfm9G6lb96yru3PES/G1XMftmTlVHActuTo4muztd/9SMvTJcT3xRm54xDaRa+5rLhExMXjNkZMfHjex77R+lBZHbT7ROL4HWJFqfrfqAqx5iAD+kfIQB/Ei/ZMZ7Cei3ic//n1t83r4/+/9P2/aHlYqJ12oRT7L13/8Tk9VuUnd6+v/ScAxypUu5N0ttLuHFhA7wkZ6IN40Y4X7ziJYrxAzicAYh7m/9zwiQVFQMRPrOR08sIbP+NMb+uOx4pDW52+4Mdzxs//iav+sNwz+TtV4vlaDRI3u33rLbutLM0lOjoV54uK6OrEpi2z/9xAb5iRgQm9nJFpJ94FE4dulh9wZPH25XjnT6N4kX/sF48WKzCNMyfdEEOrcaqBY5Y9a2oephLPG4PB//Kjv+34OeNt5fF48bss2W/Z1ONFvGx96N50y+bvdzyUXDcx43PKildMzcNU+v27mZGB1oQMTBhEyMBcCBlozaElACBbQgYAyJaQAQCyJWQAgGwJGQAgW0IGAMiWt1/DhHj7NdSdt1/D7oQMAJAth5aArrr44ovTli1byi2A3rIiA3TV+Ph42rBhQ1q6dGm5B6B3rMgAXRUBY0UG6BchA3SVkAH6ScgAANkSMkBXWZEB+knIAF0lZIB+EjJAVwkZoJ+EDNBVQgboJyEDAGRLyABdFSsyW7duLbcAekvIAF21ZMkSh5aAvhEyQFeZkQH6ScgAXSVkgH4SMgBAtoQM0FVWZIB+EjJAVwkZoJ+EDNBVQgboJyEDdJWQAfpJyAAA2RrbOaG8DtAVY2NjyT8tQD9YkQG6zuEloF+EDACQLSEDdJ0VGaBfhAzQdUIG6BchA/SEkAH6QcgAXRcrMgD9IGSArnNoCegXIQN0nZAB+kXIAF0nZIB+ETIAQLaEDNB1sSKzdevWcgugd4QM0HVLlixxaAnoCyEDdJ0ZGaBfnP0a6IorrriiiJe4fOMb30jr169PL37xi8tbU3rve99bBA5ANwkZoCs+85nPpDe84Q3l1nSvf/3r06c//elyC6B7hAzQNStXrkwbN24st3a5/PLLp63OAHSLGRmgay666KLy2i6/9mu/JmKAnhEyQNe0ipbf+q3fKq8BdJ9DS0BXxaGlOMQUVq1ala6//vriOkAvWJEBumrFihXFcG+IFRqAXrIiQ+3du+3RdN/EhXxs27Y1veTUZ6avX/ODdOCBS8q9jKpjj9g/jZXXoduEDLX30zt3pA13bE/bH/lFuYcc3HXHbWn5U44stxhFi/fZIx21fFFaedjicg90n0NL1Fpk9qOPP5F2PPpEuYdciBj223ePtHjRnuUW9IaQodYeeuTx9MQTOyeCxsIh5OaA/fZM+0/EDPSSkKHWHnr0ibTtIYeUIDdjY2Npzz2elPbbx4oMvSVkqLUHdzyetu94rNwCcrFo7yelvfYYmwiacgf0iJChtszHQL7Mx9AvQobaMh8D+TIfQ78IGWrLfAzkyXwM/SRkqC3zMZAn8zH0k5ChlszHQL7Mx9BPQoZaMh8D+TIfQz8JGWrJfAzkyXwM/SZkqCXzMZAn8zH0m5ChdszHQL7Mx9BvQobaMR8D+TIfQ78JGWrHfAzkyXwMgyBkqB3zMZAn8zEMgpChVszHQL7MxzAIQoZaMR8D+TIfwyAIGWrFfAzkyXwMgyJkqBXzMZAn8zEMipChNszHQL7MxzAoQobaMB8D+TIfw6AIGWrDfAzkyXwMgyRkqA3zMZAn8zEMkpChFszHQL7MxzBIQoZaMB8D+TIfwyAJGWrBfAzkyXwMgyZkqAXzMZAn8zEMmpBh4MzHpLTq2CXpV085NJ18/Hi5B/JgPoZBEzIMnPmYVCzN5+Swg/ctwuuFz15W7mFUmY9h0IQMA2c+Jj977zX5T8ceT3I8YZSZj6EOhAwDZz4G8mQ+hjoY2+n9rgxQ/F/fzZseTDdt2j7Sh5ZiNmb5+D7prvsfSdf9+P5ybyoO3Ry4aM/0j9femZ654sB02LJ90957Pin94omd6f4HHkvfu3VreuiR6atZZz5/edr+8C/Sld/bXDzu+AF7TX3P5q2Pph9s3Dbte6rn3rT5obT+5q3l3kkrDl1UPG/jzxWHlFqJ57xi/T3lVmsHHbB3evpRB6RF++5R/Exh20TI3nb3jrTxzh3FdiV+j4cffSJ964f3pRc8/aC0eOJ7YpbqOz/eku574NFirujwZfsVv8/iffdMRx6yX7FC1Pizdvp88TvF3+cbN2ze7e+53z57pF8+aVlx+79ed3e5l7Bsyd5p5VMWp0OW7lPugf6zIsNAmY+ZWXXo5rQTDy6iIkQwxP54EWk1HBy37b3nWHrpc59cBEr8favvie12A8WdzulEKGx5cHIFLcIituNyz5ZHin3txM///KePpwMmwmzHxM9TPU6EWsRS9ftV4ueNH+mXnjkZMdXvcODiycMY1c8bMRPfG6Hx8KO/SPvvN3n7XJ4v4iYe++iJF+VmsS9ui8dgOvMx1IGQYaDMx3Rm6f57FSsmsSIQqx7X37Sl2B8vyrHq0GzfvfdIe+35pGK14mvfvWfqe+LFPr6nORrmIlY74mcJjz2+s9iOSzzXTGLVJGIkVj2uvvHe4nvia/VYESTNqt8jfvb4HS779l27rdzE3yYCJf421e8a5vJ89217tPj65BYrC4ceNLlvwx3bi69MMh9DXQgZBsp8TGeaD/v8/N6Hi1WEUK1QNPv2D++f9qIf3xOHo8Ly8X2Lr/0UoROHu5oP3VSrOxEsrfzoZw8UP3s7ESsRKM3m8nxx34i8WPlpDMO4HjEVK08z/QyjyHwMdSFkGJg4muT8Sp2pXnwbVS/QsfLQSsyRNHvwocn4ibmPQYk4iEM7cYgrLq1WYho1r8A0q36ndjp9virynrp81+3V9eo2dvH5MdSFkGFgzMd0x1yiZPvDM7/o91L8nDHrc+ozDyoObcW8Tlzi0FAvzPX5YgA4NB5eOvjAydWZW3/usFIz8zHUhZBhYMzH9F+71Zt+ePbRS4qIiENiMfMS78SKy2yzNfM11+eLQ0cxLBzvbooP/KsOK8Whq1arW6PMfAx1ImQYGPMxvdVqpaZajWh1OCbemdOsm6sl8TbwEEO3/Zg3mc/z3VsO/R55yKJ09GGT72Ca7d1Yo8h8DHUiZBgI8zG9d/qzDi5WFipxeKUKk8ZDJdvKmIwX/sZB1+pzWlp59LHJ/9322rPzV7IYpg1xeKfRbDMy8zWf5/vxbQ8WX+NvUYXQrd6ttBvzMdSJkGEgzMf0Xvx9n3Pc0uLzZOISA68hPhSv8VDJTyZevOOQSqzIxOeuvHjVk9PLTj6keMGP/a3ECkeEaByGifvG98RlJtXA7AlPPaD4gLsYvI3vjc956YX5PF8MUFefKRO/WwxZN7/rCfMx1IuQYSDMx0z3+C9ar0xVqwrVCkgr7b73335wX/FCHG8zjlmPiJJ4B1B8Um6z6r7xAh5vQY4IumnTg+mHP32gvMfufrBh29RMyb57P2nWdw/FIZ74ULr4neLD/OISn9z7vVu2Tv2ejWJfq/2V6vdu9/vP9fkq1dBvuGerw0rNzMdQN05RwED8dOIFNT5gbLv/2u266hQCMdjK3MXhtXinU6w4OSXB7hbvs0c6avmitLKcIYJBsyJD35mPoc6OO2L/4qvPjmnNfAx1I2ToO/Mx1FW802tqyNdnx7RkPoa6ETL0nfmY3ppttoT2qjNo++yY1szHUEdmZOg78zGQJ/Mx1JEVGfrKfAzky3wMdSRk6CvzMZAv8zHUkZChr8zHQJ7Mx1BXQoa+cn4lyJPzK1FXQoa+MR8D+TIfQ10JGfrGfAzky3wMdSVk6BvzMZAn8zHUmZChb8zHQJ7Mx1BnQoa+MB8D+TIfQ50JGfrCfAzky3wMdSZk6AvzMZAn8zHUnZChL8zHQJ7Mx1B3QoaeMx8D+TIfQ90JGXrOfAzky3wMdSdk6DnzMZAn8zHkQMjQc+ZjIE/mY8iBkKGnzMdAvszHkAMhQ0+Zj4F8mY8hB0KGnjIfA3kyH0MuhAw9ZT4G8mQ+hlwIGXrGfAzky3wMuRAy9Iz5GMiX+RhyIWToGfMxkCfzMeREyNAz5mMgT+ZjyImQoSfMx0C+zMeQEyFDT5iPgXyZjyEnQoaeMB8DeTIfQ26EDD1hPgbyZD6G3AgZus58DOTLfAy5ETJ0nfkYyJf5GHIjZOg68zGQJ/Mx5EjI0HXmYyBP5mPIkZChq8zHQL7Mx5AjIUNXmY+BfJmPIUdChq4yHwN5Mh9DroQMXWU+BvJkPoZcje10DIAuif9LunnTg8VhpfivOwiXXPQn6bx3/FG5RZ0t2X+vdMjSfcotyIOQAXoqotY/M0CvOLQEAGRLyAAA2RIyAEC2hAwAkC0hAwBkS8gAANkSMgBAtoQMAJAtIQMAZEvIAADZEjIAQLacawnoqvXr16d169aVWyldcMEFxaWyevXqtGrVqnILYGGEDNBVW7ZsSePj4+XWdEuXLk0bNmwovgJ0g0NLQFdFpDSuwDRas2aNiAG6yooM0HWtVmWsxgC9YEUG6LpWqzJWY4BesCID9ETjqozVGKBXrMgAPdG4KmM1BugVKzJAz8SqzMqVK63GAD0jZICe2rhxY1qxYkW5BdBdQgbone03prT4xHIDoPvMyAC9ERGz6U8nvwL0iJABuq+MmGvvOk3MAD0lZIDuKiNm3Yaz0rV3/lLxVcwAvSJkgO5piJgN244udsVXMQP0ipABuqNFxFTEDNArQgZYuBkipiJmgF4QMsDCdBAxFTEDdJuQAeZvDhFTETNANwkZYH7mETEVMQN0i5AB5m4BEVMRM0A3CBlgbroQMRUxAyyUkAE618WIqYgZYCGEDNCZHkRMRcwA8yVkgNn1MGIqYgaYDyEDzKwPEVMRM8BcCRmgvT5GTEXMAHMhZIDWBhAxFTEDdErIALsbYMRUxAzQCSEDTFeDiKmIGWA2QgbYpUYRUxEzwEyEDDCphhFTETNAO0IGqHXEVMQM0IqQgVGXQcRUxAzQTMjAKMsoYipiBmgkZGBUZRgxFTEDVIQMjKKMI6YiZoAgZGDUDEHEVMQMIGRglAxRxFTEDIw2IQOjYggjpiJmYHQJGRgFQxwxFTEDo0nIwLAbgYipiBkYPUIGhtkIRUxFzMBoETIwrEYwYipiBkaHkIFhNMIRUxEzMBqEDAwbETNFzMDwEzIwTETMbsQMDDchA8NCxLQlZmB4CRkYBiJmVmIGhpOQgdyJmI6JGRg+QgZyJmLmTMzAcBEykCsRM29iBoaHkIEciZgFEzMwHIQM5EbEdI2YgfwJGciJiOk6MQN5EzKQCxHTM2IG8iVkIAcipufEDORJyEDdiZi+ETOQHyEDdSZi+k7MQF6EDNSViBkYMQP5EDJQRyJm4MQM5EHIQN2ImNoQM1B/QgbqRMTUjpiBehMyUBciprbEDNSXkIE6EDG1J2agnoQMDJqIyYaYgfoRMjBIIiY7YgbqRcjAoIiYbIkZqA8hA4MgYrInZqAehAz0m4gZGmIGBk/IQD+JmKEjZmCwhAz0i4gZWmIGBkfIQD+ImKEnZmAwhAz0mogZGWIG+k/IQC+JmJEjZqC/hAz0iogZWWIG+kfIQC+ImJEnZqA/hAx0m4ihJGag94QMdJOIoYmYgd4SMtAtIoY2xAz0jpCBbhAxzELMQG8IGVgoEUOHxAx0n5CBhRAxzJGYge4SMjBfIoZ5EjPQPUIG5kPEsEBiBrpDyMBciRi6RMzAwgkZmAsRQ5eJGViYsZ0TyuvATDKOmD//4BvSj264srh+0d/dXHylXlYeeGtavfLSlA5/W0qLTyz3ArOxIgOdyChibv3Rdekdv35suTW5HRETAdPriPngeS9J11/9D+VWa/fedVvx8812v4X4+rpPFs9RXeJvUHdWZmB+hAzMJvPDSVvvvTMtW/7UcmvwDl5+ZBFUzzntleWe2UX0RCR1Iu775c9dmN59yeXF87zu7RenS95zdhFQdSdmYO6EDMwk84iJlYnPfnRN2nzXz4qViS9+6r3lLbtUqyjV6kUVDHE4qtrXGAGN9228La7H88TzxfW4X+PqS3yNx6zuG6sk1f7qMarVpOboiOj5z+/+6+K22YLm21dcml517vlFMIX43gi5G67952K77sQMzI2QgXYyj5jwktVvLlYk4oU8Vide+6b3lbdMF/HReOgpguH5Lz6r2D7t5edOBNB7iv0RGhEK1X0bb4vteJ54vrjeuOJSfc/vvOvT5Z5JcZ8TTnrh1GN84ePnF99fRUijaiXnnN+9cMag2XznT9P4ssPKrUnLDj0q3XfPpnKr/sQMdE7IQCtDEDFzEfFQOX4iLCJQqhB57umvKuIgHH3CydNi5Jin/19Tt83ktW96f3ltd/F4McMTYRLB0RhArcTPEEFz6q+cPevqTOXgGh1a65SYgc4IGWg2YhHTiThkVInDU7EiEpdYyemGOBQUz/Gys3633NNedTjqmq+uTe+65Ovl3pnd2/Dz50TMwOyEDDQSMTOKmZsfN7wDqnElZ75iHiaGc2MVKA4ttVPNz/zT2o8Uz90uYmJV5/7NPy+3JsWqUawe5UjMwMyEDFRETEciFCox+9KoVUTMJuZjYkWmmt+JWGoWqzAROTMFTOW4E08twqgS3xurPbMdsqozMQPtCRkIIqYjMTwcqxvVoaXm2ZMYEI6IiNs6+eyWiJZ4vHjcEIO88f2t3rXU6WGkeKxY3al+xjj8FW/Fzp2YgdZ8si+IGDLiE4BhOisyjDYRQ2aszMB0QobRJWLIlJiBXYQMo0nEkDkxA5OEDKNHxDAkxAwIGUaNiGHIiBlGnZBhdIgYhpSYYZQJGUaDiGHIiRlGlZBh+IkYRoSYYRQJGYabiGHEiBlGjZBheIkYRpSYYZQIGYbTiERMnKsozif05x98Q7lnujhh4ky35yp+p1Ynl2QXMcOoEDIMnxFbiTnhpBemH91wZcuTNP7T2o8Ut8eJGYdJnAW7OtEk7YkZRoGQYbiMWMRU4mzP373qy+XWpCps4ozUjeLM0rGiUV2aVzba3Vat7lSXeJzqsRrPVv3FT723uIT4GT543kumVo4a9zc+Vjx2K80/a3W/eMzG6433afyZYyWq2h/3G0VihmEnZBgeIxox4bmnvypd/ZXPlVuT/vXSj6dTf+XscmuXD5x3Rnrd2y8uVjXi8uXPXTgVPfFi/+5LLi/2n/f+tcVtVaR89qNrin3V9x28/Mhi/2w23/WzdN89m4rvee2b3lc83iXvOXvqseL54rEbY6jyxU+9J73q3POnnvM5p72yvGWXd13y9anHCSuOf27xtYqm6nuPP+mFU/tGjZhhmAkZhsMIR0w4+oSTi0NI1WpEREEcbmo+/BKrGMuWP3VaEDSu5kQUVIESjxm23n9X8TVs/PF3y2tzEwFTueHafy5+1urx4/liO/a3ctON15TXZhbRE79L9bgRdi8763eL66FV7I0SMcOwEjLkb8QjphKHkK756tri+uVf/lTxot5KrJBUh1vi0vji3nzIp1GsasQKTexf6MpGRFbj88R2K7/zrk8XX+M+Mx0aikCLx2gMphArP9VzxPVRJ2YYRkKGvImYKbHKEpESL+oRJ7EC0UqsyFSHW6pLq0M+cWlW7Y/Hj+fp9PBSsxNOeuHUY1WXdsO7ETNx+7JDj2obUHFoKg6XNWv8XarLqBMzDBshQ75EzG5iFSZe1CMUqkMsjRpjp50l48uLrzPdJ2KoEterw0KxojPb4ZuTTnlF23dZzeTghudsFHETv2/z/Ez8LWJOqJWItlilmevPMCzEDMNEyJAnEdPSGa96U/G1+Z1Kjarh2nghry7V6koM1sYwcOz79hWXTgVL8yGnGJytwuGc371w6pDTFz5+fvEYM4nniZWSxsM+cWkVFY23/7jFoaMQ4dR4qKr6zJzqvo2PUd1Wzf1U0TaKxAzDYmznhPI65EHEsEDVIapWYTRqVh54a1q98tKUDn9bSotPLPdCPqzIkBcRwwLFYaVYxRExk6zMkDsrMuRDxEDPWJkhV1ZkyIOIgZ6yMkOuhAz1J2KgL8QMORIy1JuIgb4SM+RGyFBfIgYGQsyQEyFDPYkYGCgxQy6EDPUjYqAWxAw5EDLUi4iplThR40ynKmD4iRnqTshQHyIGaknMUGdChnoQMVBrYoa6EjIMnojpmjiH0NfXfbI4JBQnSaxOxFhtx6U6z1CI+8Z2nEyxur3doaTY3/iYM2n3fM3PE1/jlAGh+TBWXI99leYTVzb+HI2P1/g9jfdv/DmYHzFDHQkZBkvEdF2ciTrOSH3R392cjj7h5CIequ0483WcZ6gxAmI7zpYdt7/u7RcXZ8ZuFveP/fH98ZgziThaduhRxePFpTqnUezffOdPp/bH2bU7FbETZ9auvjfOsB3bjf5p7UeK2951ydeL7QiauF/1PXH27MZQYn7EDHUjZBgcEdMTp7383Gmx8Tvv+vTU9sHLj0zLlj81bb33zmI7nHDSC9NzTntlcb36Wq2ShFt++P+lS95zdhEx8f2d+NFENDS75qtr0384+/fLrTjz9PvLa7OL560CJaw4/rlp810/K7cmRaxVIrzi9pesfnO5J6VTf+XsOcUT7YkZ6kTIMBgipm8iShoPsTQHQCtb77+rvDa5YhM6jZiIh1gJqZ6vMYqWHHxoeW3uYkWneswIq05U949LrFTRPWKGuhAy9J+I6asPnHdGccioOsQSKzJzEd8bqzyNsyeziZiJ54qg+X8/8Fvl3olAalgJahaHo9qJQ0IRItXvcN7715a3zKy6f3WJ1Sm6R8xQB0KG/hIxA1GthFSHXOaqmnNpHJiNsIlVkpmMLzusvJbS8Se9sJhjqTQGTjh4IrAaD/00z+o0Bth3r/pyea21OJQW95/t52PhxAyDJmToHxEzELGiEodi4vBKDMieMBEU8/Gf3/3XxWGmKg4iiBpDpdL4zqSIkfi+UMVQdVvjvEyI22O2pro9fu5KzO7Eik11WydipiZWcarviYuw6Q0xwyCN7ZxQXofeETFDJQ71xOpK4wDuXMXsTBz2mssQMfW28sBb0+qVl6Z0+NtSWnxiuRd6y4oMvSdihk5ETOO7hCBYmWEQhAy9JWKGUqzEzPZ5MowmMUO/ObRE74gYGFkOM9EvVmToDREDI83KDP0iZOg+EQNMEDP0g5Chu0QM0EDM0GtChu4RMUALYoZeEjJ0x/YfTPwjdUm69q7TRAywm/h3If59EDN0m5ChOxY/M6XDz0svOOSq4t0KAI3i34XL/u6jaez4P09j+z8rjY2NdXzZsmVL+SiwO2+/prsm/ktr5+2XpC9tfK2VGaAQEfPqFV9MY0ecN+e3Yo+Pj6cNGzakpUuXlntgOisydNfEP1Lxj1X8o2VlBlhIxEAnhAzdJ2aACSKGfhAy9IaYgZEmYugXIUPviBkYSSKGfhIy9JaYgZEiYug3IUPviRkYCSKGQRAy9IeYgaEmYhgUIUP/iBkYSiKGQRIy9JeYgaEiYhg0IUP/iRkYCiKGOhAyDIaYgayJGOpCyDA4YgayNKoRc+uttxYnsYyv1IeQYbDEDGRlWCLmzDPP3O0s21dddVV5KzkRMgyemIEsDNtKzIc+9KG0c+fOqcvpp59e3kJOhAz1IGag1oYtYmaydu3aaSs17Q4ltbtfdQiqulx44YXFfnpDyFAfYgZqaZQiJg4vfeYzn5lapXnLW96S3vrWt5a3TnfOOeekK6+8cuq+Rx99dLH/mGOOSV/4whem9r/zne902KqHhAz1ImagVoY5YiIwGldOYiUlDi9ddtll5T1SetGLXpRuvvnmcmt3//Zv/1ZemxSrNBEyZ599drknFTH0+c9/vtyi24QM9SNmoBaGfSWmeUamWlGJFZgqbmLVpZ1qtSXu17hqc8stt0x9f1w+8YlPlLfQC0KGehIzMFDDHjHtxDzLV77ylam4iUNEM6nuF7ESqzEhVmSq/dXlz/7sz4rb6D4hQ32JGRiIUY2YyrHHHlteS8W8TCciXkIcUooVmSpq6D0hQ72JGeirUY+Y888/v5iJqQ4LVYebmsXwbuPho5e//OVTczERMnFIqvF2YdM7YztjzQvqbvuNaeftl6QvbXxt2rCt9T8swMLUMWLGx8fThg0b0tKlS8s9MJ0VGfJgZQZ6atRXYsiXkCEfYgZ6QsSQMyFDXsQMdJWIIXdChvyIGegKEcMwEDLkSczAgogYhoWQIV9iBuZFxDBMhAx5EzMwJyKGYSNkyJ+YgY6IGIaRkGE4iBmYkYhhWAkZhoeYgZZEDMNMyDBcxAxMI2IYdkKG4SNmoCBiGAVChuEkZhhxIoZRIWQYXmKGESViGCVChuEmZhgxIoZRI2QYfmKGESFiGEVChtEgZhhyIoZRJWQYHUMeMx887yXp+qv/odwarD//4BvS19d9srgeP1P8bPSOiGGUCRlGS+YxE0Hwjl8/dtqlLvEyaI3x1M69d902dH8zEcOoEzKMnsxj5nVvvzhd9Hc3T12ec9ory1uYzcHLjxyqv5mIASHDqMo8ZmZTrTy0WrVpXNWJVYxWGlcuWt33i596b3GpVPePr3MRj9n4HHEJ8djV9q0/uq7YF+J6432r2+J3+tENV6Yvf+7CYn+1MhPXq8evDm9V31c9VvUY1e9QbdediIFJQobRNcQx88VPvSe96tzzd1u1iXA4/qQXTu0PMx2O+fYVl07dN0KhF4dkPvvRNendl1xePMcJEz9bxMRBTz682I7f4QsfP7+4X4RGXK9+nsbb3nXJ14vvrX7nl6x+c7E//NPajxT74j6Njj7h5HTay8+deozqbxb7607EwC5ChtGWYczEC3+82MdlpiHam268prw2KUIgYuSMV72p3JPS8198Vrrmq2vLrd299k3vL6+l4kX//s0/L7e6J+IhDvmE4048tQiSKkROOuUVafNdPyuux30aY2TF8c+dum0m5/zuheW13b32Te8rvsbfcfOdP50WQHUlYmA6IQOZxUzjjEzzKkPld9716eJrq9j5wHlnTIVQRNFc3HfPpvJaf1WHrGL1qPrZL3nP2cW+hfoPZ/9+EUTxte5EDOxOyEDIcGVmNhEzETvLDj1q2jxLdRhnthiaSRz66bc4rBUzMNXPfd77268kzUXEXKw2zTXq+k3EQGtCBipDGDPh4OVPLb8eWRy2ufzLnyq2F2J82WHp6q98rtyanC/ph2Xl7xK+e9WXy2uT4vec64pRBF5ETBxiir9NY/DViYiB9oQMNMogZhpnZOLSali38fYf33Dl1CxIrNLEduPt83nxjuHhE8rB3LjErE2vxXPG6lL1nM2ee/qririK2zoZSo77xP2rv03MA8V23d61JGJgZmM7J5TXgcr2G9PO2y9JX9r42rRh29HlTugvEZPS+Ph42rBhQ1q6dGm5B6azIgOtDOlhJvIhYqAzQgbaETMMiIiBzgkZmImYoc9EDMyNkIHZiBn6RMTA3AkZ6ISYocdEDMyPkIFOiRl6RMTA/AkZmAsxQ5eJGFgYIQNzJWboEhEDCydkYD7EDAskYqA7hAzMl5hhnkQMdI+QgYUQM8yRiIHuEjKwUGKGDokY6D4hA90gZpiFiIHeEDLQLWKGNkQM9I6QgW4SMzQRMdBbQga6TcxQEjHQe0IGekHMjDwRA/0hZKBXxMzIEjHQP0IGeknMjBwRA/0lZKDXxMzIEDHQf0IG+kHMDD0RA4MhZKBfxMzQEjEwOEIG+knMDB0RA4MlZKDfxMzQEDEweEIGBkHMZE/EQD0IGRgUMZMtEQP1IWRgkMRMdkQM1IuQgUETM9kQMVA/QgbqQMzUnoiBehIyUBdiprZEDNSXkIE6ETO1I2Kg3oQM1I2YqQ0RA/UnZKCOxMzAiRjIg5CBuhIzAyNiIB9CBupMzPSdiIG8CBmoOzHTNyIG8iNkIAdipudEDORJyEAuxEzPiBjIl5CBnIiZrhMxkDchA7kRM10jYiB/QgZyJGYWTMTAcBAykCsxM28iBoaHkIGciZk5EzEwXIQM5E7MdEzEwPARMjAMxMysRAwMJyEDw0LMtCViYHgJGRgmYmY3IgaGm5CBYSNmpogYGH5CBoaRmBExMCKEDAyrEY4ZEQOjQ8jAMBvBmBExMFqEDAy7EYoZEQOjR8jAKBiBmBExMJqEDIyKIY4ZEQOjS8jAKBnCmBExMNqEDIyaIYoZEQMIGRhFQxAzIgYIQgZGVcYxI2KAipCBUZZhzIgYoJGQgVGXUcyIGKCZkAGyiBkRA7QiZIBJNY4ZEQO0I2SAXWoYMyIGmImQAaarUcyIGGA2QgbYXQ1iRsQAnRAyQGsDjBkRA3RKyADtDSBmRAwwF0IGmFkfY0bEAHMlZIDZ9SFmRAwwH0IG6EwPY0bEAPMlZIDO9SBmRAywEEIGmJsuxoyIARZKyABz14WYETFANwgZYH4WEDMiBugWIQPM3zxiRsQA3SRkgIWZQ8yIGKDbhAywcB3EjIgBekHIAN0xQ8yIGKBXhAzQPS1iRsQAvTS2c0J5HaA7tt+Ydt5+SfrW3aenFxxylYhh3sbHx9OGDRvS0qVLyz0wnRUZoPvKlZl/+d8fEzFAT1mRAXpmbGws+SeGhbAiw2ysyAAA2RIyAEC2hAwAkC0hAwBkS8gAANkSMgBAtoQMAJAtIQMAZEvIAADZEjIAQLaEDACQLSEDAGRLyAAA2RIyAEC2hAwAkC0hAwBkS8gAANkSMgBAtoQMAJAtIQM1d+yxx6axsbGWl6uuuqq8F8BoEjJQczfffHPauXNncQlXXnnl1Pbpp59e7AMYVUIGMnfmmWemtWvXTq3S3HrrrcW+Cy+8sLxHKlZu4rZG1f3j8ta3vrXcC5AXIQND4Jxzzkm33HJLsUpz9NFHl3vbi8NVH/rQh6ZWdr7yla8UMQSQGyEDQyCipJOACbE6E9Fz/vnnl3tSevOb35w+85nPlFsA+RAyMKIaDy29853vLPcC5EXIwBDqZHWmOqxUXS677LLyFoB8CBkYQitWrEif/OQny62UXv/615fXUvFOp2OOOWbaMDBAroQMDKFq/qU6dPSBD3yg2K7EW7rjcFLj4SVhA+RobGesKQP0QASSf2JYiPHx8bRhw4a0dOnScg9MZ0UGAMiWkAEAsiVkAIBsCRkAIFtCBgDIlpABALIlZACAbAkZACBbQgYAyJaQAQCyJWQAgGwJGQAgW0IGAMiWkAEAsiVkAIBsCRkAIFtCBgDIlpABALIlZACAbAkZACBbQgYAyJaQAQCyJWQAgGwJGQAgW0IGAMiWkAEAsiVkAIBsCRkAIFtCBgDIlpABALIlZACAbAkZACBbQgYAyJaQAQCyJWQAgGwJGQAgW0IGAMiWkAEAsiVkAIBsCRkAIFtCBgDI1tjOCeV1gAVZv359WrduXbmV0gUXXFBcKqtXr06rVq0qt2B24+PjacOGDWnp0qXlHphOyABds2XLluKFp5V4IfKCxFwJGWbj0BLQNfFi07gC02jNmjVejICusyIDdFWrVRmrMcyXFRlmY0UG6KpWqzJWY4BesSIDdF3jqozVGBbCigyzsSIDdF3jqozVGKCXrMgAPRGrMitXrvRf0yyIFRlmI2SovXu3PZrum7iQn023/ywdfsRTyy1G1bFH7J/GyutzJWSYjZCh9n5654604Y7tafsjvyj3ADlYvM8e6ajli9LKwxaXe+ZOyDAbMzLUWmT2o48/kXY8+kS5B8jFfvvukRYv2rPcgt4QMtTaQ488np54YudE0Fg4hNwcsN+eaf+JmIFeEjLU2kOPPpG2PeSQEuRmbGws7bnHk9J++1iRobeEDLX24I7H0/Ydj5VbQC4W7f2ktNceYxNBU+6AHhEy1Jb5GMiX+Rj6RchQW+ZjIF/mY+gXIUNtmY+BPJmPoZ+EDLVlPgbyZD6GfhIy1JL5GMiX+Rj6SchQS+ZjIF/mY+gnIUMtmY+BPJmPod+EDLVkPgbyZD6GfhMy1I75GMiX+Rj6TchQO+ZjIF/mY+g3IUPtmI+BPJmPYRCEDLVjPgbyZD6GQRAy1Ir5GMiX+RgGQchQK+ZjIF/mYxgEIUOtmI+BPJmPYVCEDLViPgbyZD6GQREy1Ib5mNYOOmDv9KunHJpedvIh5R7q6OTjx4v/nVYcuqjcM1rMxzAoQobaGLb5mHhBixe2Vpd+e+aKA4vnja/QC+ZjGBQhQ20M63zMXfc/kv7x2junLrHqFFHR6X+53/fAo8X3/et1d5d7oF7MxzBIQobaGJX5mO/8eEvxdcWhi4uvkDvzMQzS2E7vc6UG4v8Kb970YLpp0/ahOrQUh3JiRea6H99f7p1UzbtUqywxX7F8fJ90zQ/uS88+ZklavO8excpNdXus4Gx/+BfpivX3FNsxN3PqMw8qHnvz1kemHTJqfr52h7LiuWK1p534Gffec9d/62x58LF09Y33lluTXrzqyWmvPceKn7N6nup+1e+/8c4dE/+lvkfx+4XG543vj9+10vg7hur2Vj9rdVusVs2k+fdv97/HY4/vLJ678f7NP0+l+t0q8ZghfscfbNxW/M6jZNmSvdPKpyxOhyyd/N+4m8bHx9OGDRvS0qVLyz0wnRUZasHnx0x63vFL04MPPd7xoaR44TzuiP2nDlvFC2rsa3yRjf3VC2t8re7bLmKq4eKbbn9w6r7xfUv33yudduLB5b2mi/vHC3jctzl2Dlu2b9p/vz13e974nnu27DrsFt8fYRKBUonbw9GHTV+9ip8x7hvR1E41oxQRVD1H9feJcGwWj9d4/+rnaf6d428bl3ju6nHHD9hrKtRGkfkYBknIUAuj9Pkx8QIbKx07Jv5rv5Xm1YKZNK7ahOp7n7yA/zKO0IgX58ZVhXhRj+da1OLFKn6XeFFvtwoRt3/vlq3l1i5VLFTi+2MFJOKhUt0eIdToKQfvW3zdtPmh4msrVbQ1Blv192l+vErjyk/180TANYowi79FY7DF/waxbxSZj2HQhAy1MEqfH1OtljSvXIRYBZmLVjEUL6hxuKfb4tBL46GmRq1+l0qsgrRb/Wn2WBkDseJSiUiKuGncV4Vau3iaSbu/T+xv/jmbf5742i5C739gND//yHwMgyZkGLg4mhQvIsP6+TFxyCEOWVSX6pAEnalWXarDS50cVuqVAxdPrjo88pjPOqr4/BgGTcgwcMM+HxMrEhEu1WWm1Ys6aYyvuDQe8umWGLJtfI7mwzghVl0idGMOJVRBM9NhpUpET+Pjx6XdqhLzYz6GQfP/0Qyc8yvVSzUkG/MhjQEW291SBUZofI52qyxxKCcCJH62mG+JsJntsFIcwot3dlUrYNUlvne+tm1/vPi6z17+6QzmY6gD/9/IwDm/Ur0sWzI5f9JqQLdbqmHdTmeCqtWXw5ftV6wMdTKPUq3udHMFLGZoIoRaDT2P4ruWzMdQB0KGgRr2+Zi6uOPeh4uvrQ7dNHvokcmVl8a3PMdbkLt5aGn7w5MrGxEmlXhLdLufrzq8VN1+68+3F19nUs2xNL4VPd7avdBDSz/f/HDxGI1v4Y5DZAtZ6cmV+RjqQMgwUD4/pj9iJSFiIEKgmhVpJ97yXH3eSuN9Y1+3xM/S/PPEIaOZDhdVqzARDJ28Cyreah2HlapDZXGJz+hZ6JBw/H3i52z8+0TczPUdZ8PAfAx14JN9Gah7tz2abr1jR7r7/skVA2gngiRWVyKo5vJZO/RGzMcce9ji4gMZe3loySf7MhsrMgyU+Rg6VR2G6uSwEr1nPoa6EDIMjPkY5iIOQ8U7pzr9cD16y3wMdSFkGBjzMXSqGtiNGRfqwXwMdSFkGBifH0OnYsA2PgPGbEw9+PwY6kTIMDDmYyBP5mOoEyHDQJiPgXyZj6FOhAwDYT4G8mU+hjoRMgyE+RjIU7v5mC1btqT169eXW9A/QoaBMB8DeWqej4mAed/73pdWrlyZ1q1bN7kT+kjI0HfmYyBf1XxMY8BccMEFxTYMgpCh78zHQMYe254+9j//WMBQG861RN85vxLkaceD29Kbznp+2rZta7mnP+6//37nWqItKzL0nfkYyNOTDx5P63+4KV100UXlnulihSb+27jbFxHDTIQMfTXxb5L5GKbEqQd+9ZRDp05BQL1V8zFr1qwpAqNd0EA/CRn6ynwMnYi4efGqJ5db1EXz58cIGupAyNBXPj8G8jTT+ZWqoFm9enW5B/pHyNBX5mMgT52cX2nVqlXlNegf71qib+L/0m7e9GC6adN2h5YGIA7XbHnwsbRp80NTMykb79xRnFm6EodzFjccOoj7X33jveXWpIMO2Dud+syDyq2Utj/8i3TF+nvKrZROO/HgtHT/vdI1P7gv3ffAo+XeyXmYFYcumvaczfuq72121/2PTJ35+uTjx9Py8X2K66H5d6A3li3ZO618yuJ0yNJdf3uoAysy9I35mMFbNBEpEQ//eO2dxaUxACJ0QnVbhEhEReOsShUxETjV/R586PEiLrohoikeM0QgVc/RHDHxc1e3HbZs3+LnorecX4m6EjL0jfmYwdt7zycVKxjNYiUkNK6sxGpKrITECk2smoSnHLxv8TVWdSoRGVVo9Nr+Ey+m8a63xt/hX6+7e9rKD90303wMDJqQoW/MxwxerHK0OgwTKzVxW7PNWx8pvi7ed/oL2OHL9iuv9V/EWBVW9Ecn8zEwKEKGvoijST4/pr4iDmLlJQ4vNV6aP98lIiiCJw45xe39fov0926Z/ETZ+Lla/Xz0RvX5MVBHQoa+MB9Tf41zL82XxlWcOPwU+yJMq/jp1wpJHEJq/HnieV928iHFdXrHfAx1JmToC/Mx9bfXnnP75yBmUyIqwnFH7F987ZeYkYnnjq+xmtStYWN2Zz6GuhMy9IX5mHqL1ZhYXZnPu39iZabRI49Nbh+4ePoLX7y7qNu2P/x4eY1eMR9D3QkZes58TP398KcPFF+fd/z0k/PFoZs4dFSJmZjG1Y+4PVZE7n9gV6Te+vPtxdcVhy4uvob4vrhfp2IOp/HzbEJEVvwsjbFVDR1Xz0n3mY+h7nwgHj23Y+K/mm+7+6F0sxebgYoIiEBofIt1s5g3aQ6O6vBRpfk+jR9WV4nAaRzEjfvEO6BiX+MH2MV23LdxX6UxoKrbmx83NH/wHt21cuJvHn/3RU3vXIO6EDL03L3bHk233rEj3X3/w+UeIAcxH3PsYYuLGSiHlqgrh5boOfMxkCfzMeRAyNBT5mMgX+ZjyIGQoad8fgzky+fHkAMhQ0/5/BjIk8+PIRdChp4yHwN5Mh9DLoQMPWM+BvJlPoZcCBl6xnwM5Mt8DLkQMvSM+RjIk/kYciJk6BnzMZAn8zHkRMjQE+ZjIF/mY8iJkKEnzMdAvszHkBMhQ0+Yj4E8mY8hN0KGnjAfA3kyH0NuhAxdZz4G8mU+htwIGbrOfAzky3wMuREydJ35GMiT+RhyJGToOvMxkCfzMeRIyNBV5mMgX+ZjyJGQoavMx0C+zMeQIyFDV5mPgTyZjyFXQoauMh8DeTIfQ67GdjoGQJfE/yHdfPuDxWGl+K87IC9L9t8rHbJ0n3IL8iBkAIBsObQEdN373ve+8hpAb1mRAbouDi36pwXoBysyAEC2hAwAkC0hAwBkS8gAANkSMgBAtoQMAJAtIQMAZEvIAADZEjIAQLaEDACQLSEDAGRLyAAA2RIyAEC2hAwAkC0hAwBkS8gAANkSMgBAtoQMAJAtIQMAZEvIAADZEjIAQLaEDACQLSEDAGRLyAAA2RIyAEC2hAwAkC0hAwBkS8gAANkSMgBAtoQMAJAtIQMAZEvIAADZEjIAQLaEDACQLSEDAGRLyAAA2RIyAEC2hAwAkC0hAwBkS8gAANka2zmhvA4wL+vXr0/r1q0rt1K64IILiktl9erVadWqVeUWQPcIGWDBtmzZksbHx8ut6ZYuXZo2bNhQfAXoNoeWgAWLSGlcgWm0Zs0aEQP0jBUZoCtarcpYjQF6zYoM0BWtVmWsxgC9ZkUG6JrGVRmrMUA/WJEBuqZxVcZqDNAPVmSAropVmZUrV1qNAfpCyABdt3HjxrRixYpyC6B3hAwAkC0hAx1addbF5TXovvWXrimvAXMhZKBDETLr//4d5RZ0z6rXXCRkYJ68awkAyJaQAQCyJWQAgGwJGQAgW0IGAMiWkAEAsiVkAIBsCRkAIFtCBgDIlpABALIlZACAbAkZACBbQgYAyJaQAQCyJWQAgGwJGQAgW0IGAMiWkAEAsiVkAIBsCRkAIFtCBgDIlpABRsv735/S5s0p7dw5eYnrsQ/IkpABRstJJ6V08MHlxoS4fvbZ5QaQGyEDAGRLyEAOXvjClH7yk12HQ7p1cUgFyJyQgRz8wR+kdNxx5UYXxWEWgIwJGcjBihXlFQAaCRnIwX77lVcAaDS2c0J5HZjBqrMuTuv//h3lVp/FfEzzoaV7703p6qvLjXn6vd9L6ac/LTdGxLp1Kb361eVG6aabUnra08qN/lv1movS+kvXlFvAXAgZ6FDtQmbAL77ZEjIwVBxaAgCyJWQAgGwJGQAgW0IG6I7/9J9S+upXU7rttukfuhfzPbE/Bou7rXrO5g8LjPMnXXOND/yDESBkgJk1R8Lf/E15Qyk+dfiGG1Jauzall740pSOOKG8oxZBy7P/oRycfK+6/UBEw8VjVczYPQsf5k045JaX/9t8mwyruDwwlIQPMrDkSXvCC8sqEWGW57LKUnv3scscs4rHi/gsJi0sumQyY5p+rnQiruH98HzB0hAwwPxEGscqyaFG5o0Nx/7/6q5SOOqrcMQfxnG97W7kxR/F9cbgJGCpCBpi7dkERn8fypS9NXq69NqUdO8obmkTMxCrJXMQqzkwR0/zc8YGBzeJw06/8SrkBDAMhA8zNQQel9MY3lhuliIgXvWjyQ+VWr568nHpqSs94xmRYtBJRMZd5mQ9/uLzS5PbbWz/3smUp/emf7h5Tc11BAmpNyABzE4O0jTEQoRIRceWV5Y4GcfqDCIuvfa3c0STO6t2JWAFqHiIOETGnn976ucN5503GVNwPGEpOUQAdGppzLW3bltJv/ma50YGZ/omIFY+IhdnEPMx3vjMZQY06PTVAvPOoOWRipeXMM9tHTKN4/quuah1DwSkKIFtCBjpUu5BZiLe/PaWPfazcmEW7fyI6jZhKfN5LvFW62dhYeaWNOPz0zW+WGw1iJShWezo1U8wIGciWQ0vA3MUw7VwiJrSblZnt3UtvfnN5pUm7mZl24jDXb/xG+wFkIEtCBpi7L3yhvDIH7VaAZltVafUZNbGC0skhpWbxPbEyBAwNIQOjJlYkrr++3MjA4YeXVxr88IflFWDUCRnIVaxKxHzJXC+LF89vNWNQmgeEQ5wSAWCCkAHqq93nzMRJIQEmCBmgvp7znPJKk5wOjQE9JWSA/OR0aAzoKSEDAGRLyAD5iRNIAkwQMkB+li8vrwCjTsgA9bVuXXmlSZzZGmCCkAHqK04r0MpJJ5VXgFEnZIB6iw/+a7ZiRXllHuIDAYGhIWSAerv33vJKgzj/0mwnm2wlhoRPPbXcAIaBkAHq7brryitN/uAPyisdivD5q79KadGicgcwDIQMUG8f/nB5pck553S+KhP3u+oqEQNDSMgA9RYDv9deW240iJNJrl1bbswgDidFxBxxRLkDGCZjOyeU14EZrDrr4rT+799RbvXZT36S0nHHlRulmB25+upyY54+//mU/tf/KjfaaPVPxNvfntLHPlZuzMF8HytOHvnNb5YbTb73vZRe/erW73D6m79J6TWvmX0lJgaKn/a0cqP/Vr3morT+0jXlFjAXQgY6VLuQ6YZOXsDrEDLhq19N6aUvLTea7NiR0s03p7Rx4+T2IYdMDgS3Cpg//dOU3va2cqMkZCBbDi1BDh56qLwywn77t1O6/fZyo0kES4RLrMzE5ZRTdo+YiJ2ImPPOK3cAw0DIQA6qlYZRFoeOTj+9fczMJA7DvfGNIgaGkJCBHMQ7d1p9MNxC/exn5ZUZxAxKowiJdqcOmM3XvlZeKcVjXX99udGBiJkjj0zpS18qd3QgnvN5z5s+C9T4t4yVmn/5l3IDyI0ZGejQQGdk2F28pfoDH0jpBS9I6fDDdx1KijDZtCmlb30rpU9+MqUrr5zcX2NmZGD+rMgAeYrVmd/8zckh3TjtwNjY5CWux764LYOIARZGyAAA2RIyAEC2hAwAkC0hAwBkS8gAANkSMgBAtnyODHQoPkcGesXnyMD8CBkAIFsOLQEA2RIyAEC2hAwAkC0hAwBkS8gAANkSMgBAtoQMAJAtIQMAZEvIAADZEjIAQLaEDACQLSEDAGRLyAAA2RIyAEC2hAwAkC0hAwBkS8gAANkSMgBAtoQMAJAtIQMAZEvIAADZEjIAQLaEDACQLSEDAGRLyAAA2RIyAEC2hAwAkC0hAwBkS8gAANkSMgBAtoQMAJAtIQMAZEvIAADZEjIAQLaEDACQLSEDAGRLyAAA2RIyAEC2hAwAkC0hAwBkS8gAANkSMgBAtoQMAJCplP5/6KtMrWrN1QcAAAAASUVORK5CYII=)"
      ]
    },
    {
      "cell_type": "code",
      "metadata": {
        "id": "s3GkuavU2ahx"
      },
      "source": [
        "## Matrix declarations\n",
        "import numpy as np\n",
        "import matplotlib.pyplot as plt\n",
        "import scipy.linalg as la\n",
        "%matplotlib inline\n",
        "\n",
        "def desc_mat(matrix):\n",
        "    if matrix.size > 0:\n",
        "        is_square = True if matrix.shape[0] == matrix.shape[1] else False \n",
        "        print(f'Matrix:\\n{matrix}\\n\\nShape:\\t{matrix.shape}\\nRank:\\t{matrix.ndim}\\nIs Square: {is_square}\\n')\n",
        "    else:\n",
        "        print('Matrix is Null')\n",
        "\n",
        "\n"
      ],
      "execution_count": 2,
      "outputs": []
    },
    {
      "cell_type": "code",
      "metadata": {
        "id": "vXwDYZph2g0z",
        "outputId": "59780a14-f60d-463a-e2a9-3560b801fb35",
        "colab": {
          "base_uri": "https://localhost:8080/"
        }
      },
      "source": [
        "## Test Areas\n",
        "X = np.array([\n",
        "    [4,7],\n",
        "    [9,2],\n",
        "    [5,6]\n",
        "])\n",
        "desc_mat(X)"
      ],
      "execution_count": 5,
      "outputs": [
        {
          "output_type": "stream",
          "name": "stdout",
          "text": [
            "Matrix:\n",
            "[[4 7]\n",
            " [9 2]\n",
            " [5 6]]\n",
            "\n",
            "Shape:\t(3, 2)\n",
            "Rank:\t2\n",
            "Is Square: False\n",
            "\n"
          ]
        }
      ]
    },
    {
      "cell_type": "markdown",
      "metadata": {
        "id": "skuinm7wftXm"
      },
      "source": [
        "### Task 2"
      ]
    },
    {
      "cell_type": "markdown",
      "metadata": {
        "id": "KoQLztr7htRd"
      },
      "source": [
        "![flowchart 2.png](data:image/png;base64,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)"
      ]
    },
    {
      "cell_type": "code",
      "metadata": {
        "id": "-OmiKTBh_Y6S"
      },
      "source": [
        "Y = np.array([\n",
        "    [9,5],\n",
        "    [1,4],\n",
        "    [3,2]\n",
        "])\n",
        "Z = np.array([\n",
        "    [5,1],\n",
        "    [7,4],\n",
        "    [2,8]\n",
        "])"
      ],
      "execution_count": 14,
      "outputs": []
    },
    {
      "cell_type": "code",
      "metadata": {
        "id": "5sVkmg5D_Yb6"
      },
      "source": [
        "Y+Z "
      ],
      "execution_count": null,
      "outputs": []
    },
    {
      "cell_type": "code",
      "metadata": {
        "id": "H3v2Mp1WLtBQ"
      },
      "source": [
        "Y-Z"
      ],
      "execution_count": null,
      "outputs": []
    },
    {
      "cell_type": "code",
      "metadata": {
        "id": "TJlIuZKdLvpo"
      },
      "source": [
        "Y*Z"
      ],
      "execution_count": null,
      "outputs": []
    },
    {
      "cell_type": "code",
      "metadata": {
        "id": "l6aVVubBLxtn",
        "outputId": "f9e5600d-5f75-47fc-bdba-ccb02a94fc79",
        "colab": {
          "base_uri": "https://localhost:8080/"
        }
      },
      "source": [
        "Y/Z"
      ],
      "execution_count": 16,
      "outputs": [
        {
          "output_type": "execute_result",
          "data": {
            "text/plain": [
              "array([[1.8       , 5.        ],\n",
              "       [0.14285714, 1.        ],\n",
              "       [1.5       , 0.25      ]])"
            ]
          },
          "metadata": {},
          "execution_count": 16
        }
      ]
    },
    {
      "cell_type": "markdown",
      "metadata": {
        "id": "Ewt_4XVnfxHV"
      },
      "source": [
        "## Conclusion"
      ]
    },
    {
      "cell_type": "markdown",
      "metadata": {
        "id": "rxDQeKmcNSfY"
      },
      "source": [
        "  Based on the experiment, indicate or show the capabilies of the Google Collab and Python in terms of forming and programing matrices. Such as, measuring the size, shape, square, and rank of a matrix with declerations and also arranging rows, columns of an array. Finally, the capability of applying mathematical equations to two arrays. This matrix operations solve problems in technology in storing of such data within an array and with those data it can be used in wide range of application such as image proccssing to genetic analysis, also used obn solving linear equations. "
      ]
    }
  ]
}