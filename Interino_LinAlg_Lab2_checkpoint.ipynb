{
  "nbformat": 4,
  "nbformat_minor": 0,
  "metadata": {
    "colab": {
      "name": "LinAlg Lab2-checkpoint.ipynb",
      "provenance": [],
      "include_colab_link": true
    },
    "kernelspec": {
      "name": "python3",
      "display_name": "Python 3"
    },
    "language_info": {
      "name": "python"
    }
  },
  "cells": [
    {
      "cell_type": "markdown",
      "metadata": {
        "id": "view-in-github",
        "colab_type": "text"
      },
      "source": [
        "<a href=\"https://colab.research.google.com/github/AndrewInterino/LinearAlg2021-2022/blob/main/Interino_LinAlg_Lab2_checkpoint.ipynb\" target=\"_parent\"><img src=\"https://colab.research.google.com/assets/colab-badge.svg\" alt=\"Open In Colab\"/></a>"
      ]
    },
    {
      "cell_type": "markdown",
      "metadata": {
        "id": "C5Ra1hNBiy5g"
      },
      "source": [
        "![plot1.png](data:image/png;base64,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)"
      ]
    },
    {
      "cell_type": "markdown",
      "metadata": {
        "id": "SNwXOJtiOxTm"
      },
      "source": [
        "# Lab 2 - Plotting Vector using NumPy and MatPlotLib"
      ]
    },
    {
      "cell_type": "markdown",
      "metadata": {
        "id": "8CO5Ugh1Hg0w"
      },
      "source": [
        "In this laboratory we will be discussing the basics of numerical and scientific programming by working with Vectors using NumPy and MatPlotLib."
      ]
    },
    {
      "cell_type": "markdown",
      "metadata": {
        "id": "dTDc87jNHfQq"
      },
      "source": [
        "### Objectives\n",
        "At the end of this activity you will be able to:\n",
        "1. Be familiar with the libraries in Python for numerical and scientific programming.\n",
        "2. Visualize vectors through Python programming.\n",
        "3. Perform simple vector operations through code."
      ]
    },
    {
      "cell_type": "markdown",
      "metadata": {
        "id": "Ifd_vL-aO_ut"
      },
      "source": [
        "##Discussion "
      ]
    },
    {
      "cell_type": "markdown",
      "metadata": {
        "id": "xGPnSfbQPEv9"
      },
      "source": [
        "### NumPy\n",
        "\n",
        "NumPy or Numerical Python, is mainly used for matrix and vector operations. It is capable of declaring computing and representing matrices.\n",
        "Most Python scientific programming libraries uses Numpy as the basic code."
      ]
    },
    {
      "cell_type": "markdown",
      "metadata": {
        "id": "64kQahpWHtVI"
      },
      "source": [
        "Scalars \\\\\n",
        "Represent magnitude or a single value\n",
        "\n",
        "Vectors \\\\\n",
        "Represent magnitude with directors"
      ]
    },
    {
      "cell_type": "markdown",
      "metadata": {
        "id": "llMUXDSWPcgl"
      },
      "source": [
        "#### Representing Vectors \n",
        "\n",
        "Now that you know how to represent vectors using their component and matrix form we can now hard-code them in Python. Let's say that you\n",
        "have the vectors:\n"
      ]
    },
    {
      "cell_type": "markdown",
      "metadata": {
        "id": "2NZjkkJEPoL9"
      },
      "source": [
        "$$ A = 4\\hat{x} + 3\\hat{y} \\\\\n",
        "B = 2\\hat{x} - 5\\hat{y}\\\\\n",
        "C = 4ax + 3ay - 2az \\\\\n",
        "D = 2\\hat{i} - 2\\hat{j} + 3\\hat{k}$$"
      ]
    },
    {
      "cell_type": "markdown",
      "metadata": {
        "id": "cVh_89LBPsJ_"
      },
      "source": [
        "In which it's matrix equivalent is:"
      ]
    },
    {
      "cell_type": "markdown",
      "metadata": {
        "id": "dfo5nsY-PxMk"
      },
      "source": [
        "$$ A = \\begin{bmatrix} 4 \\\\ 3\\end{bmatrix} , B = \\begin{bmatrix} 2 \\\\ -5\\end{bmatrix} , C = \\begin{bmatrix} 4 \\\\ 3\\ \\\\ -2\\end{bmatrix} , D = \\begin{bmatrix} 2 \\\\ -2\\\\ 5\\end{bmatrix}\n",
        "$$\n",
        "$$ A = \\begin{bmatrix} 4 & 3\\end{bmatrix} , B = \\begin{bmatrix} 2 & -5\\end{bmatrix} , C = \\begin{bmatrix} 4 & 3\\ & -2\\end{bmatrix} , D = \\begin{bmatrix} 2 & -2 & 3\\end{bmatrix}\n",
        "$$"
      ]
    },
    {
      "cell_type": "markdown",
      "metadata": {
        "id": "QmSFCNi9QJX0"
      },
      "source": [
        "We can the start doing numpy code with this by:"
      ]
    },
    {
      "cell_type": "code",
      "metadata": {
        "id": "YJDBJ6I1R6jt"
      },
      "source": [
        "import numpy as np ## 'np' here is short-hand name of the library (numpy) or a nickname."
      ],
      "execution_count": 1,
      "outputs": []
    },
    {
      "cell_type": "code",
      "metadata": {
        "colab": {
          "base_uri": "https://localhost:8080/"
        },
        "id": "XYaJ0j5tSC_V",
        "outputId": "a2b8f9b5-1840-4b24-f675-893f913367c7"
      },
      "source": [
        "A = np.array([4,3])\n",
        "B = np.array([2,-5])\n",
        "C = np.array([\n",
        "              [4],\n",
        "              [3],\n",
        "              [-2]\n",
        "])\n",
        "D = np.array([\n",
        "              [2],\n",
        "              [-2],\n",
        "              [3]\n",
        "])\n",
        "print(A)\n",
        "print(B)\n",
        "print(C)\n",
        "print(D)"
      ],
      "execution_count": null,
      "outputs": [
        {
          "output_type": "stream",
          "name": "stdout",
          "text": [
            "[4 3]\n",
            "[ 2 -5]\n",
            "[[ 4]\n",
            " [ 3]\n",
            " [-2]]\n",
            "[[ 2]\n",
            " [-2]\n",
            " [ 3]]\n"
          ]
        }
      ]
    },
    {
      "cell_type": "markdown",
      "metadata": {
        "id": "IKZwx-B8TcYd"
      },
      "source": [
        "## Describing vectors in NumPy\n",
        "\n",
        "Describing vectors is very important if we want to perform basic to advanced operations with them. The fundamental ways in describing\n",
        "vectors are knowing their shape, size and dimensions.\n",
        "\n",
        "\n"
      ]
    },
    {
      "cell_type": "code",
      "metadata": {
        "colab": {
          "base_uri": "https://localhost:8080/"
        },
        "id": "1cF3GbGVTlIr",
        "outputId": "339a1299-c5a9-468f-ed24-4292e9832093"
      },
      "source": [
        "A.shape\n",
        "H = np.array([1,0,2,5,0.2,0])\n",
        "H.shape"
      ],
      "execution_count": null,
      "outputs": [
        {
          "output_type": "execute_result",
          "data": {
            "text/plain": [
              "(6,)"
            ]
          },
          "metadata": {},
          "execution_count": 7
        }
      ]
    },
    {
      "cell_type": "code",
      "metadata": {
        "colab": {
          "base_uri": "https://localhost:8080/"
        },
        "id": "vXDRu7FsT-OT",
        "outputId": "966f65bf-f288-4fde-bfca-c8cef749d623"
      },
      "source": [
        "B.size"
      ],
      "execution_count": null,
      "outputs": [
        {
          "output_type": "execute_result",
          "data": {
            "text/plain": [
              "2"
            ]
          },
          "metadata": {},
          "execution_count": 8
        }
      ]
    },
    {
      "cell_type": "code",
      "metadata": {
        "colab": {
          "base_uri": "https://localhost:8080/"
        },
        "id": "wAc8NwQhUO71",
        "outputId": "7c3a9365-dec1-4fcf-a631-501574a134e8"
      },
      "source": [
        "C.ndim"
      ],
      "execution_count": null,
      "outputs": [
        {
          "output_type": "execute_result",
          "data": {
            "text/plain": [
              "2"
            ]
          },
          "metadata": {},
          "execution_count": 11
        }
      ]
    },
    {
      "cell_type": "markdown",
      "metadata": {
        "id": "ii4DTiMmUrbd"
      },
      "source": [
        "##Addition\n"
      ]
    },
    {
      "cell_type": "markdown",
      "metadata": {
        "id": "1WyrMFMiH-NI"
      },
      "source": [
        "The addition rule is simple, the we just need to add the elements of the matrices according to their index. So in this case if we add vector $A$ and vector $B$ we will have a resulting vector:"
      ]
    },
    {
      "cell_type": "code",
      "metadata": {
        "colab": {
          "base_uri": "https://localhost:8080/"
        },
        "id": "uat8Xv9QUudl",
        "outputId": "b6734355-80fc-495b-c0d4-20f7bfada2b7"
      },
      "source": [
        "R = np.add(A,B)\n",
        "P = np.add(C,D)\n",
        "R\n",
        "P"
      ],
      "execution_count": null,
      "outputs": [
        {
          "output_type": "execute_result",
          "data": {
            "text/plain": [
              "array([[6],\n",
              "       [1],\n",
              "       [1]])"
            ]
          },
          "metadata": {},
          "execution_count": 18
        }
      ]
    },
    {
      "cell_type": "code",
      "metadata": {
        "colab": {
          "base_uri": "https://localhost:8080/"
        },
        "id": "05ZQCbP7V7tO",
        "outputId": "deb70735-ee6f-488b-c19e-35595da75270"
      },
      "source": [
        "R = A + B\n",
        "R"
      ],
      "execution_count": null,
      "outputs": [
        {
          "output_type": "execute_result",
          "data": {
            "text/plain": [
              "array([ 6, -2])"
            ]
          },
          "metadata": {},
          "execution_count": 23
        }
      ]
    },
    {
      "cell_type": "code",
      "metadata": {
        "colab": {
          "base_uri": "https://localhost:8080/"
        },
        "id": "SA7ZqmzcWBRc",
        "outputId": "3671a6d0-77b7-485a-97ad-7ff95662c547"
      },
      "source": [
        "pos1 = np.array([0,0,0])\n",
        "pos2 = np.array([0,1,3])\n",
        "pos3 = np.array([1,5,-2])\n",
        "pos4 = np.array([5,-3,3])\n",
        "#R = pos1 + pos2 + pos3 + pos4\n",
        "#R = np.multiply(pos3,pos4)\n",
        "R = pos3/pos4\n",
        "R"
      ],
      "execution_count": null,
      "outputs": [
        {
          "output_type": "execute_result",
          "data": {
            "text/plain": [
              "array([ 0.2       , -1.66666667, -0.66666667])"
            ]
          },
          "metadata": {},
          "execution_count": 28
        }
      ]
    },
    {
      "cell_type": "markdown",
      "metadata": {
        "id": "w2vFEANOW5xF"
      },
      "source": [
        "####Try for yourself"
      ]
    },
    {
      "cell_type": "markdown",
      "metadata": {
        "id": "FmDFyWnOIGnY"
      },
      "source": [
        "Try to implement subtraction, multiplication, and division with vectors $A$ and $B$!"
      ]
    },
    {
      "cell_type": "code",
      "metadata": {
        "id": "7-qvYcIFW8jM",
        "outputId": "4bfcbcb8-a199-4714-8ece-64ad502846c0",
        "colab": {
          "base_uri": "https://localhost:8080/"
        }
      },
      "source": [
        "PP = np.array([5,0,1])\n",
        "OO = np.array([8,-3,5])\n",
        "GG = np.array([9,1,7])\n",
        "II = np.array([-1,7,4])\n",
        "R1 = PP + OO + GG + II\n",
        "R1\n"
      ],
      "execution_count": 3,
      "outputs": [
        {
          "output_type": "execute_result",
          "data": {
            "text/plain": [
              "array([21,  5, 17])"
            ]
          },
          "metadata": {},
          "execution_count": 3
        }
      ]
    },
    {
      "cell_type": "code",
      "metadata": {
        "id": "-_BCb2SqJMox",
        "outputId": "80a3fe19-944e-4adb-efb3-693f311e3a97",
        "colab": {
          "base_uri": "https://localhost:8080/"
        }
      },
      "source": [
        "R2 = PP - II\n",
        "R2"
      ],
      "execution_count": 4,
      "outputs": [
        {
          "output_type": "execute_result",
          "data": {
            "text/plain": [
              "array([ 6, -7, -3])"
            ]
          },
          "metadata": {},
          "execution_count": 4
        }
      ]
    },
    {
      "cell_type": "code",
      "metadata": {
        "id": "itlYeIa3JX__",
        "outputId": "b5b7e949-56fc-4e32-ce3f-8cc2cfb9a520",
        "colab": {
          "base_uri": "https://localhost:8080/"
        }
      },
      "source": [
        "R3 = GG*OO\n",
        "R3"
      ],
      "execution_count": 5,
      "outputs": [
        {
          "output_type": "execute_result",
          "data": {
            "text/plain": [
              "array([72, -3, 35])"
            ]
          },
          "metadata": {},
          "execution_count": 5
        }
      ]
    },
    {
      "cell_type": "code",
      "metadata": {
        "id": "YCv4xl7EJfYI",
        "outputId": "58cd1b24-496e-4026-ef10-04ec96eb173d",
        "colab": {
          "base_uri": "https://localhost:8080/"
        }
      },
      "source": [
        "R4 = II/OO\n",
        "R4"
      ],
      "execution_count": 6,
      "outputs": [
        {
          "output_type": "execute_result",
          "data": {
            "text/plain": [
              "array([-0.125     , -2.33333333,  0.8       ])"
            ]
          },
          "metadata": {},
          "execution_count": 6
        }
      ]
    },
    {
      "cell_type": "markdown",
      "metadata": {
        "id": "et0It3n_XI73"
      },
      "source": [
        "##Scaling"
      ]
    },
    {
      "cell_type": "markdown",
      "metadata": {
        "id": "4u_JtYryJrzJ"
      },
      "source": [
        "Scaling or scalar multiplication takes a scalar value and performs multiplication with a vector. Let's take the example below:"
      ]
    },
    {
      "cell_type": "code",
      "metadata": {
        "colab": {
          "base_uri": "https://localhost:8080/"
        },
        "id": "NyzEcI3_XR2k",
        "outputId": "22d18b09-bed8-49bf-92e8-2ffb6aa8ba83"
      },
      "source": [
        "#S = 5 *A\n",
        "S = np.multiply(5,A)\n",
        "S"
      ],
      "execution_count": null,
      "outputs": [
        {
          "output_type": "execute_result",
          "data": {
            "text/plain": [
              "array([20, 15])"
            ]
          },
          "metadata": {},
          "execution_count": 30
        }
      ]
    },
    {
      "cell_type": "markdown",
      "metadata": {
        "id": "ciizeVoRXeq0"
      },
      "source": [
        "#### Try to implement scaling with two vectors"
      ]
    },
    {
      "cell_type": "code",
      "metadata": {
        "id": "i_OsJr0KXlMF",
        "outputId": "9c338ef6-b1cc-4a4b-d41b-ff549d6c1396",
        "colab": {
          "base_uri": "https://localhost:8080/"
        }
      },
      "source": [
        "HH = np.array([1,6,-9])\n",
        "II = np.array([4,7,3])\n",
        "S1 = np.multiply(4,HH)\n",
        "S1"
      ],
      "execution_count": 9,
      "outputs": [
        {
          "output_type": "execute_result",
          "data": {
            "text/plain": [
              "array([  4,  24, -36])"
            ]
          },
          "metadata": {},
          "execution_count": 9
        }
      ]
    },
    {
      "cell_type": "code",
      "metadata": {
        "id": "vTPD20muSaJV",
        "outputId": "95972678-107f-45fd-e0df-62142a53abe2",
        "colab": {
          "base_uri": "https://localhost:8080/"
        }
      },
      "source": [
        "S2 = np.multiply(3,II)\n",
        "S2"
      ],
      "execution_count": 12,
      "outputs": [
        {
          "output_type": "execute_result",
          "data": {
            "text/plain": [
              "array([12, 21,  9])"
            ]
          },
          "metadata": {},
          "execution_count": 12
        }
      ]
    },
    {
      "cell_type": "markdown",
      "metadata": {
        "id": "m_qqlzSRXlhs"
      },
      "source": [
        "## MatPLotLib"
      ]
    },
    {
      "cell_type": "markdown",
      "metadata": {
        "id": "pxJZ8S1bXyEM"
      },
      "source": [
        "MatPlotLib or MATLab Plotting library is Python's take on MATLabs plotting feature. MatPlotLib can be used vastly from graping values to\n",
        "visualizing several dimensions of data.\n"
      ]
    },
    {
      "cell_type": "markdown",
      "metadata": {
        "id": "cUDrOh85X7zt"
      },
      "source": [
        "### Visualizing Data"
      ]
    },
    {
      "cell_type": "markdown",
      "metadata": {
        "id": "X-vgWO4YSkMu"
      },
      "source": [
        "It's not enough just solving these vectors so might need to visualize them. So we'll use MatPlotLib for that. We'll need to import it first."
      ]
    },
    {
      "cell_type": "code",
      "metadata": {
        "id": "i9_wbUbkYLMs"
      },
      "source": [
        "import matplotlib.pyplot as plt\n",
        "import matplotlib\n",
        "%matplotlib inline"
      ],
      "execution_count": 14,
      "outputs": []
    },
    {
      "cell_type": "code",
      "metadata": {
        "colab": {
          "base_uri": "https://localhost:8080/",
          "height": 265
        },
        "id": "fw_O6PB5YMlE",
        "outputId": "07932ff8-3aa2-4a7d-9873-7e42a1e56b6e"
      },
      "source": [
        "A = [1,-1]\n",
        "B = [5,2]\n",
        "#plt.plot(A, label='A')\n",
        "#plt.plot(B ,label='B')\n",
        "plt.scatter(A[0],A[1] ,label='A',c='green')\n",
        "plt.scatter(B[0],B[1] ,label='B',c='red')\n",
        "plt.grid()\n",
        "plt.legend()\n",
        "plt.show()\n"
      ],
      "execution_count": null,
      "outputs": [
        {
          "output_type": "display_data",
          "data": {
            "image/png": "[encoded data removed]",
            "text/plain": [
              "<Figure size 432x288 with 1 Axes>"
            ]
          },
          "metadata": {
            "needs_background": "light"
          }
        }
      ]
    },
    {
      "cell_type": "code",
      "metadata": {
        "colab": {
          "base_uri": "https://localhost:8080/",
          "height": 347
        },
        "id": "z9WrV8fsabZb",
        "outputId": "1b8b2675-2514-4c37-b5d7-ec2ff2b64b25"
      },
      "source": [
        "A = np.array([1,-1])\n",
        "B = np.array([1,5])\n",
        "plt.title(\"Resultant Vector\\nMagnitude:{}\".format(Magnitude))\n",
        "plt.xlim(-5,5)\n",
        "plt.ylim(-5,5)\n",
        "plt.quiver(0,0,A[0],A[1],angles='xy',scale_units='xy',scale=1,color='red')\n",
        "plt.quiver(A[0],A[1],B[0],B[1],angles='xy',scale_units='xy',scale=1,color='green')\n",
        "R = A + B\n",
        "plt.quiver(0,0,R[0],R[1],angles='xy',scale_units='xy',scale=1,color='blue')\n",
        "plt.grid()\n",
        "plt.show()\n",
        "Magnitude = np.sqrt(np.sum(R**2))\n",
        "print(Magnitude)\n",
        "Slope = R[1]/R[0]\n",
        "print(Slope)\n",
        "Angle = (np.arctan(Slope))*(180/np.pi)\n",
        "print(Angle)"
      ],
      "execution_count": null,
      "outputs": [
        {
          "output_type": "display_data",
          "data": {
            "image/png": "[encoded data removed]",
            "text/plain": [
              "<Figure size 432x288 with 1 Axes>"
            ]
          },
          "metadata": {
            "needs_background": "light"
          }
        },
        {
          "output_type": "stream",
          "name": "stdout",
          "text": [
            "4.47213595499958\n",
            "2.0\n",
            "63.43494882292201\n"
          ]
        }
      ]
    },
    {
      "cell_type": "markdown",
      "metadata": {
        "id": "aFnlZOH_gDhz"
      },
      "source": [
        "activity put it in a statement"
      ]
    },
    {
      "cell_type": "markdown",
      "metadata": {
        "id": "NRPY3ZbyhOFV"
      },
      "source": [
        "####Try plotting Three Vectors and show the Resultant Vector as a result. Use Head to Tail Method.\n"
      ]
    },
    {
      "cell_type": "code",
      "metadata": {
        "id": "Jymb-Lfohgvh",
        "outputId": "1f15cad9-1493-4ecc-f3f3-3fe7672a4957",
        "colab": {
          "base_uri": "https://localhost:8080/",
          "height": 320
        }
      },
      "source": [
        "AA = np.array([-1,1])\n",
        "DD = np.array([1,5])\n",
        "SS = np.array([5,2])\n",
        "#plt.title(\"Resultant Vector\\nMagnitude:{}\".format(Magnitude))\n",
        "plt.xlim(-10,10)\n",
        "plt.ylim(-10,10)\n",
        "plt.quiver(0,0,AA[0],AA[1],angles='xy',scale_units='xy',scale=1,color='red')\n",
        "plt.quiver(AA[0],AA[1],DD[0],DD[1],angles='xy',scale_units='xy',scale=1,color='green')\n",
        "plt.quiver(DD[0],DD[1],SS[0],SS[1],angles='xy',scale_units='xy',scale=1,color='yellow')\n",
        "RR = AA +DD+SS\n",
        "plt.quiver(0,0,RR[0],RR[1],angles='xy',scale_units='xy',scale=1,color='blue')\n",
        "plt.grid()\n",
        "plt.show()\n",
        "#Magnitude = np.sqrt(np.sum(RR**2))\n",
        "print(Magnitude)\n",
        "Slope = RR[1]/RR[0]\n",
        "print(Slope)\n",
        "Angle = (np.arctan(Slope))*(180/np.pi)\n",
        "print(Angle)"
      ],
      "execution_count": 92,
      "outputs": [
        {
          "output_type": "display_data",
          "data": {
            "image/png": "[encoded data removed]",
            "text/plain": [
              "<Figure size 432x288 with 1 Axes>"
            ]
          },
          "metadata": {
            "needs_background": "light"
          }
        },
        {
          "output_type": "stream",
          "name": "stdout",
          "text": [
            "4.47213595499958\n",
            "1.6\n",
            "57.9946167919165\n"
          ]
        }
      ]
    }
  ]
}