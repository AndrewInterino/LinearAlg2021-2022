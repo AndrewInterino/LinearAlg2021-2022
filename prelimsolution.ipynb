{
  "nbformat": 4,
  "nbformat_minor": 0,
  "metadata": {
    "colab": {
      "name": "prelimsolution.ipynb",
      "provenance": [],
      "authorship_tag": "ABX9TyN5loEQWs+7cx3Hbyhe0k+r",
      "include_colab_link": true
    },
    "kernelspec": {
      "name": "python3",
      "display_name": "Python 3"
    },
    "language_info": {
      "name": "python"
    }
  },
  "cells": [
    {
      "cell_type": "markdown",
      "metadata": {
        "id": "view-in-github",
        "colab_type": "text"
      },
      "source": [
        "<a href=\"https://colab.research.google.com/github/AndrewInterino/LinearAlg2021-2022/blob/main/prelimsolution.ipynb\" target=\"_parent\"><img src=\"https://colab.research.google.com/assets/colab-badge.svg\" alt=\"Open In Colab\"/></a>"
      ]
    },
    {
      "cell_type": "code",
      "metadata": {
        "id": "03lGPxAiCEGo"
      },
      "source": [
        "import numpy as np \n",
        "\n",
        "def describe_mat(matrix):\n",
        "    print(f'Matrix:\\n{matrix}\\n\\nShape:\\t{matrix.shape}\\nRank:\\t{matrix.ndim}\\n')\n",
        "\n"
      ],
      "execution_count": 4,
      "outputs": []
    },
    {
      "cell_type": "code",
      "metadata": {
        "colab": {
          "base_uri": "https://localhost:8080/"
        },
        "id": "crF9BVZiCrXR",
        "outputId": "2bf79a4c-51f2-404e-a015-ff415c6c89b9"
      },
      "source": [
        "A = np.array([[8, 2],\n",
        "              [5, 2],\n",
        "              [1, 1]\n",
        "              ])\n",
        "describe_mat(A)"
      ],
      "execution_count": 5,
      "outputs": [
        {
          "output_type": "stream",
          "name": "stdout",
          "text": [
            "Matrix:\n",
            "[[8 2]\n",
            " [5 2]\n",
            " [1 1]]\n",
            "\n",
            "Shape:\t(3, 2)\n",
            "Rank:\t2\n",
            "\n"
          ]
        }
      ]
    },
    {
      "cell_type": "code",
      "metadata": {
        "colab": {
          "base_uri": "https://localhost:8080/"
        },
        "id": "nTa9PRZdC2lg",
        "outputId": "761e147d-618d-47d4-a3ab-7a8af63e5eaf"
      },
      "source": [
        "X = np.array([[1, -5, 4],\n",
        "              [4, -1, 5],\n",
        "              [3, -1, -6]\n",
        "              ])\n",
        "Y = np.triu(X)\n",
        "Y"
      ],
      "execution_count": 6,
      "outputs": [
        {
          "output_type": "execute_result",
          "data": {
            "text/plain": [
              "array([[ 5,  0,  4],\n",
              "       [ 0, -1,  5],\n",
              "       [ 0,  0, -6]])"
            ]
          },
          "metadata": {},
          "execution_count": 6
        }
      ]
    },
    {
      "cell_type": "markdown",
      "metadata": {
        "id": "Tvh0bHikD8fv"
      },
      "source": [
        "int1 = 10\n",
        "int2 = 6\n",
        "if int1 != int2:\n"
      ]
    },
    {
      "cell_type": "code",
      "metadata": {
        "colab": {
          "base_uri": "https://localhost:8080/"
        },
        "id": "owAf-EFkEE8O",
        "outputId": "c7212e61-94c5-41c8-852b-1ad81f171f9b"
      },
      "source": [
        "int1 = 10\n",
        "int2 = 6\n",
        "if int1 != int2:\n",
        "  int2 = ++int2\n",
        "  print(int1-int2)"
      ],
      "execution_count": 7,
      "outputs": [
        {
          "output_type": "stream",
          "name": "stdout",
          "text": [
            "4\n"
          ]
        }
      ]
    },
    {
      "cell_type": "code",
      "metadata": {
        "colab": {
          "base_uri": "https://localhost:8080/"
        },
        "id": "q0Vl2BUNElmO",
        "outputId": "243e671f-8aaa-4104-876b-e771427335af"
      },
      "source": [
        "d = {0, 1, 2}\n",
        "for x in d:\n",
        "  print(x)"
      ],
      "execution_count": 26,
      "outputs": [
        {
          "output_type": "stream",
          "name": "stdout",
          "text": [
            "0\n",
            "1\n",
            "2\n"
          ]
        }
      ]
    },
    {
      "cell_type": "code",
      "metadata": {
        "id": "mGS1g13xILT-"
      },
      "source": [
        "def create_user (userid):\n",
        "  print(\"success: {}\".format(userid))"
      ],
      "execution_count": 9,
      "outputs": []
    },
    {
      "cell_type": "code",
      "metadata": {
        "colab": {
          "base_uri": "https://localhost:8080/"
        },
        "id": "aqizqseYIaMf",
        "outputId": "27aadcb8-debc-441f-d345-30c725204d40"
      },
      "source": [
        "userid = 2021_10001\n",
        "create_user(2021-100100)"
      ],
      "execution_count": 11,
      "outputs": [
        {
          "output_type": "stream",
          "name": "stdout",
          "text": [
            "success: -98079\n"
          ]
        }
      ]
    },
    {
      "cell_type": "code",
      "metadata": {
        "colab": {
          "base_uri": "https://localhost:8080/"
        },
        "id": "574GQC0BJK2F",
        "outputId": "77f124d0-a60f-4f33-9f91-eed45d7d029c"
      },
      "source": [
        "import numpy as np \n",
        "\n",
        "a = np.array([1,2,3,5,8])\n",
        "b = np.array([0,3,4,2,1])\n",
        "c = a + b\n",
        "c"
      ],
      "execution_count": 14,
      "outputs": [
        {
          "output_type": "execute_result",
          "data": {
            "text/plain": [
              "array([1, 5, 7, 7, 9])"
            ]
          },
          "metadata": {},
          "execution_count": 14
        }
      ]
    },
    {
      "cell_type": "code",
      "metadata": {
        "colab": {
          "base_uri": "https://localhost:8080/"
        },
        "id": "KKLn7TlHJslW",
        "outputId": "7287f215-caf6-4db3-e7eb-28334a3eb97e"
      },
      "source": [
        "x, y, z = 2, 4.0, '3'\n",
        "type(z)"
      ],
      "execution_count": 15,
      "outputs": [
        {
          "output_type": "execute_result",
          "data": {
            "text/plain": [
              "str"
            ]
          },
          "metadata": {},
          "execution_count": 15
        }
      ]
    },
    {
      "cell_type": "code",
      "metadata": {
        "colab": {
          "base_uri": "https://localhost:8080/"
        },
        "id": "tqGtoem0J4X9",
        "outputId": "732e940c-2ff6-4059-8cf0-50cde2e8b8dc"
      },
      "source": [
        "import numpy as np \n",
        "\n",
        "f = np.array([[1,2,3],[0,1,4]])\n",
        "print (f.shape)"
      ],
      "execution_count": 17,
      "outputs": [
        {
          "output_type": "stream",
          "name": "stdout",
          "text": [
            "(2, 3)\n"
          ]
        }
      ]
    },
    {
      "cell_type": "code",
      "metadata": {
        "colab": {
          "base_uri": "https://localhost:8080/"
        },
        "id": "fq2WDTNbKXf2",
        "outputId": "11544cbd-1e55-4b4f-92ab-ceee759f7a1f"
      },
      "source": [
        "i = 0\n",
        "while i < 5:\n",
        "  print(i)\n",
        "  i += 1\n",
        "  if i == 3:\n",
        "    break\n",
        "else:\n",
        "  print(0)"
      ],
      "execution_count": 19,
      "outputs": [
        {
          "output_type": "stream",
          "name": "stdout",
          "text": [
            "0\n",
            "1\n",
            "2\n"
          ]
        }
      ]
    },
    {
      "cell_type": "code",
      "metadata": {
        "colab": {
          "base_uri": "https://localhost:8080/"
        },
        "id": "7g-6LePQKxpG",
        "outputId": "c63b3c61-12e9-47d3-f574-015aff14f7f3"
      },
      "source": [
        "P = np.array([[5,7,2],\n",
        "              [2,3,3],\n",
        "              [4,1,0]\n",
        "              ])\n",
        "Q = np.array([[2,2,-3],\n",
        "              [0,0,1],\n",
        "              [1,1,-3]\n",
        "              ])\n",
        "P + 2*Q"
      ],
      "execution_count": 20,
      "outputs": [
        {
          "output_type": "execute_result",
          "data": {
            "text/plain": [
              "array([[ 9, 11, -4],\n",
              "       [ 2,  3,  5],\n",
              "       [ 6,  3, -6]])"
            ]
          },
          "metadata": {},
          "execution_count": 20
        }
      ]
    },
    {
      "cell_type": "code",
      "metadata": {
        "colab": {
          "base_uri": "https://localhost:8080/"
        },
        "id": "X5Vu9QdsLaHt",
        "outputId": "71e1f106-528b-4fd4-8e65-c8b32ca38d53"
      },
      "source": [
        "R = np.array([[2,0,-1],\n",
        "              [4,-5,2]\n",
        "              ])\n",
        "T = np.array([[7,-5,1],\n",
        "              [1,-4,-3]\n",
        "              ])\n",
        "T - 2*R"
      ],
      "execution_count": 21,
      "outputs": [
        {
          "output_type": "execute_result",
          "data": {
            "text/plain": [
              "array([[ 3, -5,  3],\n",
              "       [-7,  6, -7]])"
            ]
          },
          "metadata": {},
          "execution_count": 21
        }
      ]
    },
    {
      "cell_type": "code",
      "metadata": {
        "colab": {
          "base_uri": "https://localhost:8080/",
          "height": 129
        },
        "id": "olgSXhz-MewN",
        "outputId": "7a4e03ad-39f9-4109-b1e9-3e9d8c9d0978"
      },
      "source": [
        "u = 1\n",
        "while True:\n",
        "  if u % 5 == 0:\n",
        "      break\n",
        "  print(u)\n",
        "  u + = 1"
      ],
      "execution_count": 25,
      "outputs": [
        {
          "output_type": "error",
          "ename": "SyntaxError",
          "evalue": "ignored",
          "traceback": [
            "\u001b[0;36m  File \u001b[0;32m\"<ipython-input-25-3c1d470653dc>\"\u001b[0;36m, line \u001b[0;32m6\u001b[0m\n\u001b[0;31m    u + = 1\u001b[0m\n\u001b[0m        ^\u001b[0m\n\u001b[0;31mSyntaxError\u001b[0m\u001b[0;31m:\u001b[0m invalid syntax\n"
          ]
        }
      ]
    }
  ]
}