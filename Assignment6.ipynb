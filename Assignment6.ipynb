{
  "nbformat": 4,
  "nbformat_minor": 0,
  "metadata": {
    "colab": {
      "name": "Assignment6.ipynb",
      "provenance": [],
      "authorship_tag": "ABX9TyMkUGVOmI3IBCY+qE4GiJlU",
      "include_colab_link": true
    },
    "kernelspec": {
      "name": "python3",
      "display_name": "Python 3"
    },
    "language_info": {
      "name": "python"
    }
  },
  "cells": [
    {
      "cell_type": "markdown",
      "metadata": {
        "id": "view-in-github",
        "colab_type": "text"
      },
      "source": [
        "<a href=\"https://colab.research.google.com/github/AndrewInterino/LinearAlg2021-2022/blob/main/Assignment6.ipynb\" target=\"_parent\"><img src=\"https://colab.research.google.com/assets/colab-badge.svg\" alt=\"Open In Colab\"/></a>"
      ]
    },
    {
      "cell_type": "markdown",
      "metadata": {
        "id": "C6XmsB7eEXRA"
      },
      "source": [
        "# Linear ALgrebra for ECE\n",
        "## Laboratory 6 : Matrix Operation\n"
      ]
    },
    {
      "cell_type": "markdown",
      "metadata": {
        "id": "OjIjys3-Emgs"
      },
      "source": [
        "### Objective\n",
        "At the end of this activity you will be able to :\n",
        "1. Be familiar with the fundamentdal matrix operations\n",
        "2. Apply the operations to solve intermediate equations.\n",
        "3. Apply matrix algebra in engineering solutions."
      ]
    },
    {
      "cell_type": "markdown",
      "metadata": {
        "id": "qFOst3oiFKjN"
      },
      "source": [
        "### Discussion "
      ]
    },
    {
      "cell_type": "code",
      "metadata": {
        "id": "tx_1fwa_FQIU"
      },
      "source": [
        "import numpy as np \n",
        "import matplotlib.pyplot as plt\n",
        "%matplotlib inline"
      ],
      "execution_count": 1,
      "outputs": []
    },
    {
      "cell_type": "markdown",
      "metadata": {
        "id": "vMr0AUhBHH3d"
      },
      "source": [
        "## Tranpostion"
      ]
    },
    {
      "cell_type": "markdown",
      "metadata": {
        "id": "S-1qeR2THyNV"
      },
      "source": [
        "$$A = \\begin{bmatrix} 1 & 2 & 5\\\\5 & -1 &0 \\\\ 0 & -3 & 3\\end{bmatrix} $$"
      ]
    },
    {
      "cell_type": "markdown",
      "metadata": {
        "id": "hKgWtOkBH3Q-"
      },
      "source": [
        "$A^T$"
      ]
    },
    {
      "cell_type": "code",
      "metadata": {
        "colab": {
          "base_uri": "https://localhost:8080/"
        },
        "id": "ni9G1wWWH_7u",
        "outputId": "9fd7966a-537a-48f5-fc6c-48fee93ae3b8"
      },
      "source": [
        "A = np.array([\n",
        "              [1,-2,5],\n",
        "              [5,-1,0],\n",
        "              [0,-3,3]\n",
        "])\n",
        "A"
      ],
      "execution_count": 5,
      "outputs": [
        {
          "output_type": "execute_result",
          "data": {
            "text/plain": [
              "array([[ 1, -2,  5],\n",
              "       [ 5, -1,  0],\n",
              "       [ 0, -3,  3]])"
            ]
          },
          "metadata": {},
          "execution_count": 5
        }
      ]
    },
    {
      "cell_type": "code",
      "metadata": {
        "colab": {
          "base_uri": "https://localhost:8080/"
        },
        "id": "Sp9zKQ3mIP-v",
        "outputId": "1f70e729-29c1-432e-b707-c1542b6bed0e"
      },
      "source": [
        "AT1 = np.transpose(A)\n",
        "AT1"
      ],
      "execution_count": 4,
      "outputs": [
        {
          "output_type": "execute_result",
          "data": {
            "text/plain": [
              "array([[ 1,  5,  0],\n",
              "       [-2, -1, -3],\n",
              "       [ 5,  0,  3]])"
            ]
          },
          "metadata": {},
          "execution_count": 4
        }
      ]
    },
    {
      "cell_type": "code",
      "metadata": {
        "colab": {
          "base_uri": "https://localhost:8080/"
        },
        "id": "gFWL3HVlIal1",
        "outputId": "6d830b36-8692-4311-908f-434986a04cb2"
      },
      "source": [
        "AT2= A.T\n",
        "AT2"
      ],
      "execution_count": 6,
      "outputs": [
        {
          "output_type": "execute_result",
          "data": {
            "text/plain": [
              "array([[ 1,  5,  0],\n",
              "       [-2, -1, -3],\n",
              "       [ 5,  0,  3]])"
            ]
          },
          "metadata": {},
          "execution_count": 6
        }
      ]
    },
    {
      "cell_type": "code",
      "metadata": {
        "colab": {
          "base_uri": "https://localhost:8080/"
        },
        "id": "Vc8n8GuYIhkl",
        "outputId": "99038667-05f9-460e-af9e-ba9033ff8c0d"
      },
      "source": [
        "np.array_equiv(AT1, AT2)"
      ],
      "execution_count": 7,
      "outputs": [
        {
          "output_type": "execute_result",
          "data": {
            "text/plain": [
              "True"
            ]
          },
          "metadata": {},
          "execution_count": 7
        }
      ]
    },
    {
      "cell_type": "code",
      "metadata": {
        "colab": {
          "base_uri": "https://localhost:8080/"
        },
        "id": "-cCvSVRVIzi2",
        "outputId": "4919f5f1-0644-4558-a673-cf515dfb59cd"
      },
      "source": [
        "B = np.array([\n",
        "              [1,2,3,4],\n",
        "              [1,0,2,1]\n",
        "])\n",
        "B.shape"
      ],
      "execution_count": 8,
      "outputs": [
        {
          "output_type": "execute_result",
          "data": {
            "text/plain": [
              "(2, 4)"
            ]
          },
          "metadata": {},
          "execution_count": 8
        }
      ]
    },
    {
      "cell_type": "code",
      "metadata": {
        "colab": {
          "base_uri": "https://localhost:8080/"
        },
        "id": "4UzCPJe8LHe0",
        "outputId": "b0bf8e6c-41ed-4b85-a676-9dfde3afd16d"
      },
      "source": [
        "np.transpose(B).shape"
      ],
      "execution_count": 9,
      "outputs": [
        {
          "output_type": "execute_result",
          "data": {
            "text/plain": [
              "(4, 2)"
            ]
          },
          "metadata": {},
          "execution_count": 9
        }
      ]
    },
    {
      "cell_type": "code",
      "metadata": {
        "colab": {
          "base_uri": "https://localhost:8080/"
        },
        "id": "EYgBDnpSKwIO",
        "outputId": "3d5263a5-ab29-4adb-e8e7-60aa8d6213ec"
      },
      "source": [
        "B.T.shape"
      ],
      "execution_count": 10,
      "outputs": [
        {
          "output_type": "execute_result",
          "data": {
            "text/plain": [
              "(4, 2)"
            ]
          },
          "metadata": {},
          "execution_count": 10
        }
      ]
    },
    {
      "cell_type": "markdown",
      "metadata": {
        "id": "H9fHbM4xLOar"
      },
      "source": [
        "### Try to create your own matrix"
      ]
    },
    {
      "cell_type": "code",
      "metadata": {
        "id": "T0tkUm7ILYlF"
      },
      "source": [
        "UWU = np.array([\n",
        "                [6,-2,1],\n",
        "                [7,9,8],\n",
        "                [-8,5,-1]\n",
        "])"
      ],
      "execution_count": 13,
      "outputs": []
    },
    {
      "cell_type": "code",
      "metadata": {
        "colab": {
          "base_uri": "https://localhost:8080/"
        },
        "id": "sR14YE5DLq9F",
        "outputId": "57b846f6-1e29-48e6-87b6-5b1497a31d17"
      },
      "source": [
        "UWU.T\n"
      ],
      "execution_count": 18,
      "outputs": [
        {
          "output_type": "execute_result",
          "data": {
            "text/plain": [
              "array([[ 6,  7, -8],\n",
              "       [-2,  2,  5],\n",
              "       [ 1,  8, -1]])"
            ]
          },
          "metadata": {},
          "execution_count": 18
        }
      ]
    },
    {
      "cell_type": "code",
      "metadata": {
        "colab": {
          "base_uri": "https://localhost:8080/"
        },
        "id": "siuoDC_PMAsk",
        "outputId": "4ff7565b-d050-41d9-8446-15238d5a6035"
      },
      "source": [
        "UWU.shape"
      ],
      "execution_count": 19,
      "outputs": [
        {
          "output_type": "execute_result",
          "data": {
            "text/plain": [
              "(3, 3)"
            ]
          },
          "metadata": {},
          "execution_count": 19
        }
      ]
    },
    {
      "cell_type": "code",
      "metadata": {
        "colab": {
          "base_uri": "https://localhost:8080/"
        },
        "id": "TPCWFi_yMFtm",
        "outputId": "315ceaed-dd62-443b-8b70-431692414eb4"
      },
      "source": [
        "UWU.T.shape"
      ],
      "execution_count": 20,
      "outputs": [
        {
          "output_type": "execute_result",
          "data": {
            "text/plain": [
              "(3, 3)"
            ]
          },
          "metadata": {},
          "execution_count": 20
        }
      ]
    },
    {
      "cell_type": "markdown",
      "metadata": {
        "id": "9UXmVAsqM00d"
      },
      "source": [
        "## Dot Product"
      ]
    },
    {
      "cell_type": "code",
      "metadata": {
        "id": "X4FQWu8PNJ6V"
      },
      "source": [
        "X = np.array([\n",
        "    [1,2],\n",
        "    [0,1]\n",
        "])\n",
        "Y = np.array([\n",
        "    [-1,0],\n",
        "    [2,2]\n",
        "])"
      ],
      "execution_count": 21,
      "outputs": []
    },
    {
      "cell_type": "code",
      "metadata": {
        "colab": {
          "base_uri": "https://localhost:8080/"
        },
        "id": "rOPGp-sOOIPI",
        "outputId": "c130f69b-24fb-43d3-909c-25f6d9a9e3f5"
      },
      "source": [
        "np.dot(X,Y)"
      ],
      "execution_count": 22,
      "outputs": [
        {
          "output_type": "execute_result",
          "data": {
            "text/plain": [
              "array([[3, 4],\n",
              "       [2, 2]])"
            ]
          },
          "metadata": {},
          "execution_count": 22
        }
      ]
    },
    {
      "cell_type": "code",
      "metadata": {
        "colab": {
          "base_uri": "https://localhost:8080/"
        },
        "id": "1YjYxaIqOMPe",
        "outputId": "d20ad610-4291-4b1b-9ab4-5429a14e4799"
      },
      "source": [
        "X.dot(Y)"
      ],
      "execution_count": 23,
      "outputs": [
        {
          "output_type": "execute_result",
          "data": {
            "text/plain": [
              "array([[3, 4],\n",
              "       [2, 2]])"
            ]
          },
          "metadata": {},
          "execution_count": 23
        }
      ]
    },
    {
      "cell_type": "code",
      "metadata": {
        "colab": {
          "base_uri": "https://localhost:8080/"
        },
        "id": "3jU8U48hOPPX",
        "outputId": "673d68d4-54ad-4943-90ee-9ec01330cabb"
      },
      "source": [
        "X@Y"
      ],
      "execution_count": 24,
      "outputs": [
        {
          "output_type": "execute_result",
          "data": {
            "text/plain": [
              "array([[3, 4],\n",
              "       [2, 2]])"
            ]
          },
          "metadata": {},
          "execution_count": 24
        }
      ]
    },
    {
      "cell_type": "code",
      "metadata": {
        "colab": {
          "base_uri": "https://localhost:8080/"
        },
        "id": "rsPzdJkBORIk",
        "outputId": "59a90f1f-0762-449b-e67b-83c5a70accd8"
      },
      "source": [
        "np.matmul(X,Y)"
      ],
      "execution_count": 26,
      "outputs": [
        {
          "output_type": "execute_result",
          "data": {
            "text/plain": [
              "array([[3, 4],\n",
              "       [2, 2]])"
            ]
          },
          "metadata": {},
          "execution_count": 26
        }
      ]
    },
    {
      "cell_type": "markdown",
      "metadata": {
        "id": "JMsqj4xuOWQU"
      },
      "source": [
        "### Try"
      ]
    },
    {
      "cell_type": "code",
      "metadata": {
        "id": "oTgE0TxEOaTk"
      },
      "source": [
        "Boy = np.array([\n",
        "    [3,2,6],\n",
        "    [1,5,7],\n",
        "    [3,6,8]\n",
        "])\n",
        "Girl = np.array([\n",
        "    [7,9,2],\n",
        "    [2,4,6],\n",
        "    [6,2,4]\n",
        "])"
      ],
      "execution_count": 27,
      "outputs": []
    },
    {
      "cell_type": "code",
      "metadata": {
        "colab": {
          "base_uri": "https://localhost:8080/"
        },
        "id": "JzogcNxrOvKV",
        "outputId": "07037de0-ae9a-4128-d00d-3a85ceb79358"
      },
      "source": [
        "np.dot(Boy,Girl)"
      ],
      "execution_count": 28,
      "outputs": [
        {
          "output_type": "execute_result",
          "data": {
            "text/plain": [
              "array([[61, 47, 42],\n",
              "       [59, 43, 60],\n",
              "       [81, 67, 74]])"
            ]
          },
          "metadata": {},
          "execution_count": 28
        }
      ]
    },
    {
      "cell_type": "code",
      "metadata": {
        "colab": {
          "base_uri": "https://localhost:8080/"
        },
        "id": "qRaV9kChPOa9",
        "outputId": "66a5465e-b134-4fe2-d270-afad0a7a14fc"
      },
      "source": [
        "Boy.dot(Girl)"
      ],
      "execution_count": 30,
      "outputs": [
        {
          "output_type": "execute_result",
          "data": {
            "text/plain": [
              "array([[61, 47, 42],\n",
              "       [59, 43, 60],\n",
              "       [81, 67, 74]])"
            ]
          },
          "metadata": {},
          "execution_count": 30
        }
      ]
    },
    {
      "cell_type": "code",
      "metadata": {
        "colab": {
          "base_uri": "https://localhost:8080/"
        },
        "id": "2bER9dllO00w",
        "outputId": "9df59d75-6eff-45e4-b173-73b35294fed5"
      },
      "source": [
        "Boy@Girl"
      ],
      "execution_count": 29,
      "outputs": [
        {
          "output_type": "execute_result",
          "data": {
            "text/plain": [
              "array([[61, 47, 42],\n",
              "       [59, 43, 60],\n",
              "       [81, 67, 74]])"
            ]
          },
          "metadata": {},
          "execution_count": 29
        }
      ]
    },
    {
      "cell_type": "code",
      "metadata": {
        "colab": {
          "base_uri": "https://localhost:8080/"
        },
        "id": "DRGJCz7JPTZ1",
        "outputId": "211494ba-5cc2-4ac7-b1dd-1ce981f20ad4"
      },
      "source": [
        "np.matmul(Boy,Girl)"
      ],
      "execution_count": 31,
      "outputs": [
        {
          "output_type": "execute_result",
          "data": {
            "text/plain": [
              "array([[61, 47, 42],\n",
              "       [59, 43, 60],\n",
              "       [81, 67, 74]])"
            ]
          },
          "metadata": {},
          "execution_count": 31
        }
      ]
    },
    {
      "cell_type": "markdown",
      "metadata": {
        "id": "ZXhUJFwXP4jb"
      },
      "source": [
        "### Rule 1"
      ]
    },
    {
      "cell_type": "code",
      "metadata": {
        "id": "LhH-Fg7AP7tE"
      },
      "source": [
        "A = np.array([\n",
        "              [2,4],\n",
        "              [5,-2],\n",
        "              [0,1]           \n",
        "])\n",
        "B = np.array([\n",
        "              [1,1],\n",
        "              [3,3],\n",
        "              [-1,-2]\n",
        "])\n",
        "C = np.array([\n",
        "              [0,1,1],\n",
        "              [1,1,2]\n",
        "])\n"
      ],
      "execution_count": 32,
      "outputs": []
    },
    {
      "cell_type": "code",
      "metadata": {
        "colab": {
          "base_uri": "https://localhost:8080/"
        },
        "id": "KJmLQSu3QkKW",
        "outputId": "c522cddf-12b4-407d-fbec-e559ca226519"
      },
      "source": [
        "A@C"
      ],
      "execution_count": 33,
      "outputs": [
        {
          "output_type": "execute_result",
          "data": {
            "text/plain": [
              "array([[ 4,  6, 10],\n",
              "       [-2,  3,  1],\n",
              "       [ 1,  1,  2]])"
            ]
          },
          "metadata": {},
          "execution_count": 33
        }
      ]
    },
    {
      "cell_type": "code",
      "metadata": {
        "colab": {
          "base_uri": "https://localhost:8080/"
        },
        "id": "gNhOIF15QmzF",
        "outputId": "0fc40a3a-c079-4cde-c86a-f9ec9f3ea50d"
      },
      "source": [
        "B@C"
      ],
      "execution_count": 34,
      "outputs": [
        {
          "output_type": "execute_result",
          "data": {
            "text/plain": [
              "array([[ 1,  2,  3],\n",
              "       [ 3,  6,  9],\n",
              "       [-2, -3, -5]])"
            ]
          },
          "metadata": {},
          "execution_count": 34
        }
      ]
    },
    {
      "cell_type": "code",
      "metadata": {
        "colab": {
          "base_uri": "https://localhost:8080/",
          "height": 180
        },
        "id": "umGRX3zNQlI9",
        "outputId": "f43ab059-9047-4319-9049-9c5fab28a62d"
      },
      "source": [
        "A@B"
      ],
      "execution_count": 35,
      "outputs": [
        {
          "output_type": "error",
          "ename": "ValueError",
          "evalue": "ignored",
          "traceback": [
            "\u001b[0;31m---------------------------------------------------------------------------\u001b[0m",
            "\u001b[0;31mValueError\u001b[0m                                Traceback (most recent call last)",
            "\u001b[0;32m<ipython-input-35-5016aafd2858>\u001b[0m in \u001b[0;36m<module>\u001b[0;34m()\u001b[0m\n\u001b[0;32m----> 1\u001b[0;31m \u001b[0mA\u001b[0m\u001b[0;34m@\u001b[0m\u001b[0mB\u001b[0m\u001b[0;34m\u001b[0m\u001b[0;34m\u001b[0m\u001b[0m\n\u001b[0m",
            "\u001b[0;31mValueError\u001b[0m: matmul: Input operand 1 has a mismatch in its core dimension 0, with gufunc signature (n?,k),(k,m?)->(n?,m?) (size 3 is different from 2)"
          ]
        }
      ]
    },
    {
      "cell_type": "code",
      "metadata": {
        "colab": {
          "base_uri": "https://localhost:8080/"
        },
        "id": "zjSOybuVSAb0",
        "outputId": "29613cc8-9c6b-494e-d110-f24ef0714385"
      },
      "source": [
        "A@B.T"
      ],
      "execution_count": 36,
      "outputs": [
        {
          "output_type": "execute_result",
          "data": {
            "text/plain": [
              "array([[  6,  18, -10],\n",
              "       [  3,   9,  -1],\n",
              "       [  1,   3,  -2]])"
            ]
          },
          "metadata": {},
          "execution_count": 36
        }
      ]
    },
    {
      "cell_type": "code",
      "metadata": {
        "id": "mb_1FKapSEYr"
      },
      "source": [
        "XX = np.array([\n",
        "               [1,2,3,0]\n",
        "])\n",
        "YY = np.array([\n",
        "               [1,0,4,-1]\n",
        "])"
      ],
      "execution_count": 37,
      "outputs": []
    },
    {
      "cell_type": "code",
      "metadata": {
        "colab": {
          "base_uri": "https://localhost:8080/"
        },
        "id": "CQUnRZWfSTu0",
        "outputId": "28b5bae9-3a4d-457c-b3f7-fce16bbd4abc"
      },
      "source": [
        "YY.T@XX"
      ],
      "execution_count": 38,
      "outputs": [
        {
          "output_type": "execute_result",
          "data": {
            "text/plain": [
              "array([[ 1,  2,  3,  0],\n",
              "       [ 0,  0,  0,  0],\n",
              "       [ 4,  8, 12,  0],\n",
              "       [-1, -2, -3,  0]])"
            ]
          },
          "metadata": {},
          "execution_count": 38
        }
      ]
    },
    {
      "cell_type": "code",
      "metadata": {
        "colab": {
          "base_uri": "https://localhost:8080/"
        },
        "id": "4cxGZv5kSWGQ",
        "outputId": "7aee8100-a345-431f-bbff-03fe09c5d4d8"
      },
      "source": [
        "XX@YY.T"
      ],
      "execution_count": 40,
      "outputs": [
        {
          "output_type": "execute_result",
          "data": {
            "text/plain": [
              "array([[13]])"
            ]
          },
          "metadata": {},
          "execution_count": 40
        }
      ]
    },
    {
      "cell_type": "markdown",
      "metadata": {
        "id": "B9CUwJpcS4X3"
      },
      "source": [
        "### Rule 2"
      ]
    },
    {
      "cell_type": "markdown",
      "metadata": {
        "id": "EWcIhUJwVXXV"
      },
      "source": [
        ""
      ]
    },
    {
      "cell_type": "code",
      "metadata": {
        "id": "EESMwlVyS7kM"
      },
      "source": [
        "AA = np.array([\n",
        "                 [2,5,3],\n",
        "                 [6,8,2],\n",
        "                 [1,5,8]\n",
        "])\n",
        "BB = np.array([\n",
        "               [4,2,4],\n",
        "               [7,0,3],\n",
        "               [2,4,1]\n",
        "])\n",
        "CC = np.array([\n",
        "               [2,4,7],\n",
        "               [8,3,0],\n",
        "               [0,2,5]\n",
        "])"
      ],
      "execution_count": 41,
      "outputs": []
    },
    {
      "cell_type": "code",
      "metadata": {
        "colab": {
          "base_uri": "https://localhost:8080/"
        },
        "id": "2BLI0aG5Yc84",
        "outputId": "b6743064-ba6b-4feb-e72a-becf52310c9f"
      },
      "source": [
        "np.identity(3)"
      ],
      "execution_count": 56,
      "outputs": [
        {
          "output_type": "execute_result",
          "data": {
            "text/plain": [
              "array([[1., 0., 0.],\n",
              "       [0., 1., 0.],\n",
              "       [0., 0., 1.]])"
            ]
          },
          "metadata": {},
          "execution_count": 56
        }
      ]
    },
    {
      "cell_type": "code",
      "metadata": {
        "colab": {
          "base_uri": "https://localhost:8080/"
        },
        "id": "YBKiIdRRXQ4t",
        "outputId": "6ba0fcc3-755d-4f1a-bbf2-bd3006ef16b8"
      },
      "source": [
        "np.array_equal(AA@BB, BB@AA)"
      ],
      "execution_count": 54,
      "outputs": [
        {
          "output_type": "execute_result",
          "data": {
            "text/plain": [
              "False"
            ]
          },
          "metadata": {},
          "execution_count": 54
        }
      ]
    },
    {
      "cell_type": "code",
      "metadata": {
        "colab": {
          "base_uri": "https://localhost:8080/"
        },
        "id": "scEs3D7bUgRG",
        "outputId": "7d42c932-397a-4772-8a56-84b946fba13d"
      },
      "source": [
        "np.array_equiv(G1,G2)"
      ],
      "execution_count": 49,
      "outputs": [
        {
          "output_type": "execute_result",
          "data": {
            "text/plain": [
              "True"
            ]
          },
          "metadata": {},
          "execution_count": 49
        }
      ]
    },
    {
      "cell_type": "code",
      "metadata": {
        "id": "cebZcRB7Tm6I"
      },
      "source": [
        "G1= AA*BB"
      ],
      "execution_count": 47,
      "outputs": []
    },
    {
      "cell_type": "code",
      "metadata": {
        "id": "gGF_35A5Trx4"
      },
      "source": [
        "G2= BB*AA"
      ],
      "execution_count": 48,
      "outputs": []
    },
    {
      "cell_type": "code",
      "metadata": {
        "colab": {
          "base_uri": "https://localhost:8080/"
        },
        "id": "xU8vY-pyVCwm",
        "outputId": "5e82ed6e-a5ef-4b9e-e86d-a187d8ca5f70"
      },
      "source": [
        "np.array_equiv(G3,G4)"
      ],
      "execution_count": 53,
      "outputs": [
        {
          "output_type": "execute_result",
          "data": {
            "text/plain": [
              "True"
            ]
          },
          "metadata": {},
          "execution_count": 53
        }
      ]
    },
    {
      "cell_type": "code",
      "metadata": {
        "id": "8Ii-YYNvTxHt"
      },
      "source": [
        "G3= AA*(BB*CC)"
      ],
      "execution_count": 50,
      "outputs": []
    },
    {
      "cell_type": "code",
      "metadata": {
        "id": "zfR5ir3dT4Nl"
      },
      "source": [
        "G4= (AA*BB)*CC"
      ],
      "execution_count": 52,
      "outputs": []
    },
    {
      "cell_type": "code",
      "metadata": {
        "colab": {
          "base_uri": "https://localhost:8080/"
        },
        "id": "zq5QrLz7YsDO",
        "outputId": "bed85a28-c6c0-4419-f1ba-469b4a8bfcda"
      },
      "source": [
        "AA.dot(np.eye(3))"
      ],
      "execution_count": 57,
      "outputs": [
        {
          "output_type": "execute_result",
          "data": {
            "text/plain": [
              "array([[2., 5., 3.],\n",
              "       [6., 8., 2.],\n",
              "       [1., 5., 8.]])"
            ]
          },
          "metadata": {},
          "execution_count": 57
        }
      ]
    },
    {
      "cell_type": "markdown",
      "metadata": {
        "id": "FJxBgs9BZAYl"
      },
      "source": [
        "##Determinant"
      ]
    },
    {
      "cell_type": "code",
      "metadata": {
        "colab": {
          "base_uri": "https://localhost:8080/"
        },
        "id": "sUDIjAXJZDEd",
        "outputId": "81a4241e-f477-48d9-93bc-4ed85d8e540a"
      },
      "source": [
        "D = np.array([\n",
        "    [1,4],\n",
        "    [0,3]\n",
        "])\n",
        "np.linalg.det(D)"
      ],
      "execution_count": 58,
      "outputs": [
        {
          "output_type": "execute_result",
          "data": {
            "text/plain": [
              "3.0000000000000004"
            ]
          },
          "metadata": {},
          "execution_count": 58
        }
      ]
    },
    {
      "cell_type": "code",
      "metadata": {
        "colab": {
          "base_uri": "https://localhost:8080/"
        },
        "id": "8Bs5b3yOZea1",
        "outputId": "0d21b756-e2af-439b-ae29-fd504a9033c6"
      },
      "source": [
        "E= np.array([\n",
        "             [1,5,2],\n",
        "             [3,-1,-1],\n",
        "             [0,-2,1]\n",
        "])\n",
        "np.linalg.det(E)"
      ],
      "execution_count": 59,
      "outputs": [
        {
          "output_type": "execute_result",
          "data": {
            "text/plain": [
              "-30.000000000000014"
            ]
          },
          "metadata": {},
          "execution_count": 59
        }
      ]
    },
    {
      "cell_type": "markdown",
      "metadata": {
        "id": "W6mwf_mzaQ11"
      },
      "source": [
        "## Inverse"
      ]
    },
    {
      "cell_type": "code",
      "metadata": {
        "colab": {
          "base_uri": "https://localhost:8080/"
        },
        "id": "3gTMlQQHaUdX",
        "outputId": "7ff19a05-6184-4641-deb8-e058b234b403"
      },
      "source": [
        "M = np.array([\n",
        "              [1,7],\n",
        "              [-3,5]\n",
        "])\n",
        "np.array(M@ np.linalg.inv(M),dtype=int)"
      ],
      "execution_count": 60,
      "outputs": [
        {
          "output_type": "execute_result",
          "data": {
            "text/plain": [
              "array([[1, 0],\n",
              "       [0, 1]])"
            ]
          },
          "metadata": {},
          "execution_count": 60
        }
      ]
    },
    {
      "cell_type": "code",
      "metadata": {
        "colab": {
          "base_uri": "https://localhost:8080/"
        },
        "id": "llSumQFRa4Yo",
        "outputId": "cf756bd0-78a7-4946-af1a-a0e0d9abe273"
      },
      "source": [
        "P = np.array([\n",
        "              [6,9,0],\n",
        "              [4,2,-1],\n",
        "              [3,6,7]\n",
        "])\n",
        "Q= np.linalg.inv(P)\n",
        "Q"
      ],
      "execution_count": 64,
      "outputs": [
        {
          "output_type": "execute_result",
          "data": {
            "text/plain": [
              "array([[-0.12578616,  0.39622642,  0.05660377],\n",
              "       [ 0.19496855, -0.26415094, -0.03773585],\n",
              "       [-0.11320755,  0.05660377,  0.1509434 ]])"
            ]
          },
          "metadata": {},
          "execution_count": 64
        }
      ]
    },
    {
      "cell_type": "code",
      "metadata": {
        "colab": {
          "base_uri": "https://localhost:8080/"
        },
        "id": "r4G1Avv3bN1N",
        "outputId": "35db618f-1416-4ed6-dce2-f900343215ef"
      },
      "source": [
        "np.array(P@Q,dtype=int)"
      ],
      "execution_count": 67,
      "outputs": [
        {
          "output_type": "execute_result",
          "data": {
            "text/plain": [
              "array([[1, 0, 0],\n",
              "       [0, 0, 0],\n",
              "       [0, 0, 1]])"
            ]
          },
          "metadata": {},
          "execution_count": 67
        }
      ]
    },
    {
      "cell_type": "code",
      "metadata": {
        "colab": {
          "base_uri": "https://localhost:8080/"
        },
        "id": "pxuTMt10buuN",
        "outputId": "a0453ff3-3dc9-472f-d3a6-9d3c6b54ac63"
      },
      "source": [
        "np.array(P@Q)"
      ],
      "execution_count": 66,
      "outputs": [
        {
          "output_type": "execute_result",
          "data": {
            "text/plain": [
              "array([[ 1.00000000e+00, -5.55111512e-17, -6.93889390e-18],\n",
              "       [ 8.32667268e-17,  1.00000000e+00, -2.77555756e-17],\n",
              "       [ 2.77555756e-17, -1.38777878e-17,  1.00000000e+00]])"
            ]
          },
          "metadata": {},
          "execution_count": 66
        }
      ]
    }
  ]
}